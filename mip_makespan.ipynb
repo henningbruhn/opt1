{
 "cells": [
  {
   "cell_type": "markdown",
   "metadata": {},
   "source": [
    "# MIP für makespan\n",
    "\n",
    "*mixed integer program* für das minimum makespan-Problem:\n",
    "\n",
    "Gegeben eine Menge $J$ von Aufträgen, die auf einer Menge $M$ von Maschinen bearbeitet werden können, wobei $d_{ap}$ die Bearbeitungsdauer von Auftrag $a$ auf Maschine $p$  bezeichnet, finde eine Zuteilung $f:J\\to M$, die den makespan minimiert. Der makespan ist dabei\n",
    "\n",
    "$$\n",
    "\\text{make}(f)= \\max_{p\\in M} \\sum_{a\\in J:f(p)=a} d_{ap}\n",
    "$$\n",
    "\n",
    "Als mip:\n",
    "\n",
    "$$\n",
    "\\begin{array}{lll}\n",
    "\\min & T & \\\\\n",
    "\\text{unter }& \n",
    "\\sum_{a\\in J} x_{ap}d_{ap} \\leq T&\\text{ für alle }p\\in M\\\\\n",
    "&\\sum_{p\\in M} x_{ap} = 1 & \\text{ für alle }a\\in J\\\\\n",
    "&x_{ap}\\in\\{0,1\\} &\\text{ für alle } a\\in J\\text{ und }p\\in M\n",
    "\\end{array}\n",
    "$$\n",
    "\n",
    "Das Paket mip muss installiert sein. "
   ]
  },
  {
   "cell_type": "code",
   "execution_count": null,
   "metadata": {},
   "outputs": [],
   "source": [
    "# Zum Installieren in google colab, entfernen Sie die Raute in der nächsten Zeile\n",
    "#!pip install mip"
   ]
  },
  {
   "cell_type": "code",
   "execution_count": 1,
   "metadata": {},
   "outputs": [],
   "source": [
    "import mip\n",
    "import random  ## Standard-Bibliothek zur Erzeugung von Zufallszahlen"
   ]
  },
  {
   "cell_type": "markdown",
   "metadata": {},
   "source": [
    "Als erstes definieren wir eine Methode zur Erzeugung von Zufallsinstanzen. Die Funktion <code>random.randint(a,b)</code> liefert eine zufällig ganze Zahl zwischen a und b (einschließlich)."
   ]
  },
  {
   "cell_type": "code",
   "execution_count": 2,
   "metadata": {},
   "outputs": [],
   "source": [
    "def random_instance(number_machines,number_jobs):\n",
    "    d=[[random.randint(1,20) for _ in range(number_machines)] for _ in range(number_jobs)]\n",
    "    return d"
   ]
  },
  {
   "cell_type": "code",
   "execution_count": 3,
   "metadata": {},
   "outputs": [
    {
     "data": {
      "text/plain": [
       "[[9, 5, 9],\n",
       " [16, 5, 20],\n",
       " [19, 17, 15],\n",
       " [8, 10, 15],\n",
       " [8, 4, 15],\n",
       " [6, 15, 18],\n",
       " [3, 12, 3],\n",
       " [14, 1, 17],\n",
       " [8, 7, 15],\n",
       " [19, 18, 18]]"
      ]
     },
     "execution_count": 3,
     "metadata": {},
     "output_type": "execute_result"
    }
   ],
   "source": [
    "number_jobs=10\n",
    "number_machines=3\n",
    "D=random_instance(number_machines,number_jobs)\n",
    "D"
   ]
  },
  {
   "cell_type": "markdown",
   "metadata": {},
   "source": [
    "Wir stellen das mip auf. Dazu definieren wir zunächst das mip-Objekt und fügen gleich Variablen hinzu, einmal die Variablen $x_{ap}\\in\\{0,1\\}$ für Auftrag $a$ und Maschine $p$ und dann noch die makespan-Variable $T$, die alle (nicht-negativen) Werte annehmen darf. Durch Angabe von <code>var_type=mip.BINARY</code> definieren wir Binärvariablen. Mit <code>var_type=INTEGER</code> würden wir allgemeine Ganzzahlvariablen definieren."
   ]
  },
  {
   "cell_type": "code",
   "execution_count": 4,
   "metadata": {},
   "outputs": [],
   "source": [
    "m=mip.Model()\n",
    "x=[[m.add_var(var_type=mip.BINARY) for _ in range(number_machines)] for _ in range(number_jobs)]\n",
    "T=m.add_var()"
   ]
  },
  {
   "cell_type": "markdown",
   "metadata": {},
   "source": [
    "Wir fügen die Bedingung\n",
    "\n",
    "$\\sum_{a\\in J}x_{ap}d_{ap}\\leq T\\quad\\text{ für alle }p\\in M$\n",
    "\n",
    "hinzu."
   ]
  },
  {
   "cell_type": "code",
   "execution_count": 5,
   "metadata": {},
   "outputs": [],
   "source": [
    "for p in range(number_machines):\n",
    "    m+=mip.xsum(x[a][p]*D[a][p] for a in range(number_jobs))<=T"
   ]
  },
  {
   "cell_type": "markdown",
   "metadata": {},
   "source": [
    "Schließlich müssen wir garantieren, dass auch jeder Auftrag bearbeitet wird:\n",
    "\n",
    "$\\sum_{p\\in M}x_{ap}=1\\quad\\text{für alle }a\\in J$"
   ]
  },
  {
   "cell_type": "code",
   "execution_count": 6,
   "metadata": {},
   "outputs": [],
   "source": [
    "for a in range(number_jobs):\n",
    "    m+=mip.xsum(x[a][p] for p in range(number_machines))==1"
   ]
  },
  {
   "cell_type": "markdown",
   "metadata": {},
   "source": [
    "Wir starten die Optimierung:"
   ]
  },
  {
   "cell_type": "code",
   "execution_count": 7,
   "metadata": {},
   "outputs": [
    {
     "data": {
      "text/plain": [
       "<OptimizationStatus.OPTIMAL: 0>"
      ]
     },
     "execution_count": 7,
     "metadata": {},
     "output_type": "execute_result"
    }
   ],
   "source": [
    "m.objective=mip.minimize(T)\n",
    "m.optimize()    "
   ]
  },
  {
   "cell_type": "markdown",
   "metadata": {},
   "source": [
    "Schließlich ist's zweckmäßig sich die Lösung auszugeben:"
   ]
  },
  {
   "cell_type": "code",
   "execution_count": 13,
   "metadata": {},
   "outputs": [
    {
     "name": "stdout",
     "output_type": "stream",
     "text": [
      "Maschine 0:\n",
      "  Aufträge: [3, 5, 6, 8]\n",
      "  Auftragsdauern: [8, 6, 3, 8]\n",
      "  Arbeitsdauer Maschine 0: 25\n",
      "Maschine 1:\n",
      "  Aufträge: [1, 2, 4, 7]\n",
      "  Auftragsdauern: [5, 17, 4, 1]\n",
      "  Arbeitsdauer Maschine 1: 27\n",
      "Maschine 2:\n",
      "  Aufträge: [0, 9]\n",
      "  Auftragsdauern: [9, 18]\n",
      "  Arbeitsdauer Maschine 2: 27\n",
      "-------\n",
      "makespan: 27.0\n"
     ]
    }
   ],
   "source": [
    "for p in range(number_machines):\n",
    "    print(\"Maschine {}:\".format(p))\n",
    "    jobs=[a for a in range(number_jobs) if x[a][p].x==1]\n",
    "    print(\"  Aufträge: {}\".format(jobs))\n",
    "    job_lengths=[D[a][p] for a in jobs]\n",
    "    print(\"  Auftragsdauern: {}\".format(job_lengths))\n",
    "    print(\"  Arbeitsdauer Maschine {}: {}\".format(p,sum(job_lengths)))\n",
    "print(\"-------\")\n",
    "print(\"makespan: {}\".format(T.x))"
   ]
  }
 ],
 "metadata": {
  "kernelspec": {
   "display_name": "Python 3",
   "language": "python",
   "name": "python3"
  },
  "language_info": {
   "codemirror_mode": {
    "name": "ipython",
    "version": 3
   },
   "file_extension": ".py",
   "mimetype": "text/x-python",
   "name": "python",
   "nbconvert_exporter": "python",
   "pygments_lexer": "ipython3",
   "version": "3.8.6"
  }
 },
 "nbformat": 4,
 "nbformat_minor": 4
}
