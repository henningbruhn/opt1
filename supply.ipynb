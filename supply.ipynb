{
 "cells": [
  {
   "cell_type": "markdown",
   "metadata": {},
   "source": [
    "# Einfaches Transportproblem\n",
    "\n",
    "Wir implementieren hier ein einfaches Transportproblem.\n",
    "\n",
    "Eine Menge  $\\mathcal B$ von Produktionsstätten und eine Menge $\\mathcal C$ von Kunden ist gegeben. \n",
    "Die Produktionsstätte $i\\in\\mathcal B$ kann während der \n",
    "Produktionsperiode $a_i$kg *Frosted Sugar Flakes* herstellen. Der Kunde $j\\in\\mathcal C$ \n",
    "möchte in dieser Zeit die Menge $d_j$ (wieder in kg) abnehmen. Die Produktionsstätten\n",
    "sind unterschiedlich effizient. Es kostet daher $b_i$€ um ein Kilogramm *Frosted Sugar Flakes*\n",
    "in der Produktionsstätte $i\\in\\mathcal B$ herzustellen. Der Transport von $i\\in\\mathcal B$\n",
    "pro Kilogramm zum Kunden $j\\in\\mathcal C$ schlägt mit $c_{ij}$€ zu Buche.\n",
    "Welche Produktionsstätte soll nun welchen Kunden mit wie viel Produkt beliefern, so dass die Gesamtkosten\n",
    "möglichst gering sind?\n",
    "\n",
    "Als lineares Programm:\n",
    "$$\n",
    "\\begin{array}{lll}\n",
    "\\min & \\sum_{i\\in\\mathcal B}\\sum_{j\\in\\mathcal C}b_ix_{ij}+c_{ij}x_{ij} &\\\\\n",
    "\\text{unter} & \\sum_{j\\in\\mathcal C}x_{ij}\\leq a_i&\\quad\\text{für alle }i\\in\\mathcal B\\\\\n",
    "&\\sum_{i\\in\\mathcal B}x_{ij}=d_j&\\quad\\text{für alle }j\\in\\mathcal C\n",
    "\\end{array}\n",
    "$$\n",
    "\n",
    "Wenn Sie in Google Colab arbeiten, dann verwenden Sie die nächste Zelle so wie sie ist. Wenn Sie auf dem eigenen Rechner arbeiten und mip bereits installiert haben, dann löschen Sie die nächste Zelle oder kommentieren Sie per Raute den Installationsbefehl."
   ]
  },
  {
   "cell_type": "code",
   "execution_count": 1,
   "metadata": {},
   "outputs": [],
   "source": [
    "# für google colab\n",
    "!pip install mip  # Löschen / Auskommentieren, wenn Sie mip bereits installiert haben."
   ]
  },
  {
   "cell_type": "markdown",
   "metadata": {},
   "source": [
    "Wiederum müssen wir das Paket <code>mip</code> auch importieren, um es zu verwenden. Wir importieren noch ein paar mehr Pakete, und zwar:\n",
    "* <code>math</code>: stellt mathematische Funktionen wie zB die Wurzel zur Verfügung (gehört zum Kern von Python und muss nicht installiert werden);\n",
    "* <code>random</code>: Erzeugung von Zufallszahlen (gehört zum Kern von Python und muss nicht installiert werden);\n",
    "* <code>numpy</code>: das Standardpaket für wissenschaftliches Rechnen; hier brauchen wir <code>numpy</code> nur hinter den Kulissen, um die Visualisierung ein wenig leichter zu machen\n",
    "* <code>matplotlib</code>: das Standardpaket für Plots\n",
    "\n",
    "Wenn Sie Google Colab verwenden, dann sind die Pakete <code>numpy</code> und <code>matplotlib</code> vorinstalliert."
   ]
  },
  {
   "cell_type": "code",
   "execution_count": 2,
   "metadata": {},
   "outputs": [],
   "source": [
    "import mip\n",
    "import random  ## Standard-Bibliothek zur Erzeugung von Zufallszahlen\n",
    "import math\n",
    "### Wir werden die Daten plotten und müssen dafür matplotlib einbinden\n",
    "import matplotlib.pyplot as plt # Abkürzung plt\n",
    "import numpy as np # Abkürzung np"
   ]
  },
  {
   "cell_type": "markdown",
   "metadata": {},
   "source": [
    "## Erzeugung einer Zufallsinstanz\n",
    "\n",
    "Für das Transportproblem erzeugen wir eine zufällige Instanz. Dazu platzieren wir Produktionsstätten und Kunden zufällig in der Ebene. Als Transportkosten nehmen wir dann den gewöhnlichen Abstand in der Ebene. Die folgende Funktion, deren Funktionsweise Sie nicht im Detail verstehen müssen, erzeugt die Zufallsinstanz. Sie gibt vier Variablen zurück:\n",
    "* <code>factories</code>: eine Liste mit den Positionen im $\\mathbb R^2$ der Produktionsstätten;\n",
    "* <code>customers</code>: eine Liste mit den Positionen im $\\mathbb R^2$ der Kunden;\n",
    "* <code>supplies</code>: eine Liste mit dem Angebot der jeweiligen Produktionsstätte (Index entspricht dem Index in <code>factories</code>); und\n",
    "* <code>demands</code>: eine Liste mit der jeweiligen Nachfrage eines Kunden.\n",
    "\n",
    "Wir rufen die Funktion <code>rnd_instance</code> gleich auf, um eine Zufallsinstanz zu erzeuge."
   ]
  },
  {
   "cell_type": "code",
   "execution_count": 3,
   "metadata": {},
   "outputs": [],
   "source": [
    "def rnd_instance(num_factories,num_customers):\n",
    "    factories=[(random.random(),random.random()) for _ in range(num_factories)]\n",
    "    customers=[(random.random(),random.random()) for _ in range(num_customers)]\n",
    "    demands=[0.5+random.random() for _ in range(num_customers)]  \n",
    "    total_demand=sum(demands)\n",
    "    supply_factor=total_demand/num_factories\n",
    "    ### wir stellen sicher, dass die Nachfrage abgedeckt werden kann\n",
    "    insufficient_supply=True\n",
    "    while insufficient_supply:\n",
    "        supplies=[0.3*supply_factor+random.random()*1.1*supply_factor for _ in range(num_factories)]\n",
    "        if sum(supplies)>=total_demand:\n",
    "            insufficient_supply=False\n",
    "    return factories,customers,supplies,demands\n",
    "\n",
    "num_factories=3\n",
    "num_customers=10\n",
    "B,C,a,d=rnd_instance(num_factories=num_factories,num_customers=num_customers)"
   ]
  },
  {
   "cell_type": "markdown",
   "metadata": {},
   "source": [
    "Schauen wir doch einmal hinein in die Instanz. Zunächst in <code>B</code>, die Liste der Produktionsstätten:"
   ]
  },
  {
   "cell_type": "code",
   "execution_count": 4,
   "metadata": {},
   "outputs": [
    {
     "data": {
      "text/plain": [
       "[(0.2641845535382612, 0.5387849647275759),\n",
       " (0.1300793808320465, 0.49354787702288405),\n",
       " (0.3522381633025484, 0.07741945051870303)]"
      ]
     },
     "execution_count": 4,
     "metadata": {},
     "output_type": "execute_result"
    }
   ],
   "source": [
    "B"
   ]
  },
  {
   "cell_type": "markdown",
   "metadata": {},
   "source": [
    "Aha, wir sehen drei Produktionsstätten und ihre jeweiligen Positionen in der Ebene. Gucken wir auch in <code>C</code>, die Liste der Kunden:"
   ]
  },
  {
   "cell_type": "code",
   "execution_count": 5,
   "metadata": {},
   "outputs": [
    {
     "data": {
      "text/plain": [
       "[(0.8355345757930434, 0.07368612939877717),\n",
       " (0.014069265879523285, 0.7962542931265697),\n",
       " (0.1382130091471816, 0.6170945824721362),\n",
       " (0.8324272685396684, 0.5803577966784107),\n",
       " (0.38313515033070855, 0.8884800208100996),\n",
       " (0.17826003203688612, 0.17690166712356725),\n",
       " (0.7602274504664918, 0.9136945874089863),\n",
       " (0.7777062654826008, 0.16027715648918894),\n",
       " (0.8587930529307164, 0.7932789237644837),\n",
       " (0.6468753714154554, 0.5084519012405255)]"
      ]
     },
     "execution_count": 5,
     "metadata": {},
     "output_type": "execute_result"
    }
   ],
   "source": [
    "C"
   ]
  },
  {
   "cell_type": "markdown",
   "metadata": {},
   "source": [
    "Ein wenig länger: es gibt 10 Kunden, jeweils mit 2-dimensionalen Koordinaten. Schließlich gucken wir auch in das Angebot <code>a</code> und die Nachfrage <code>d</code>:"
   ]
  },
  {
   "cell_type": "code",
   "execution_count": 6,
   "metadata": {},
   "outputs": [
    {
     "name": "stdout",
     "output_type": "stream",
     "text": [
      "Angebot: [5.9743785731562955, 2.1036626222040136, 5.480622032510086]\n",
      "Nachfrage: [1.2037486493303886, 1.286133408146552, 1.1935524404227218, 1.4612857229947491, 1.3905475183315215, 1.328299863282023, 1.4180760194317639, 1.4093872285759574, 1.415850926938966, 1.2166668462402788]\n"
     ]
    }
   ],
   "source": [
    "print(\"Angebot: {}\".format(a))\n",
    "print(\"Nachfrage: {}\".format(d))"
   ]
  },
  {
   "cell_type": "markdown",
   "metadata": {},
   "source": [
    "Die Transportkosten sollen euklidisch sein, also einfach direkt dem Abstand entsprechen. Dazu brauchen wir den euklidischen Abstand."
   ]
  },
  {
   "cell_type": "code",
   "execution_count": 7,
   "metadata": {},
   "outputs": [
    {
     "data": {
      "text/plain": [
       "2.23606797749979"
      ]
     },
     "execution_count": 7,
     "metadata": {},
     "output_type": "execute_result"
    }
   ],
   "source": [
    "def distance(factory,customer):\n",
    "    px,py=factory  # unpack 2d coordinates of factory\n",
    "    qx,qy=customer # unpack 2d coordinates of customer \n",
    "    return math.sqrt((px-qx)**2+(py-qy)**2) # **2 is the square function, math.sqrt is the square root\n",
    "\n",
    "# ausprobieren\n",
    "distance( (1,1), (2,3) )"
   ]
  },
  {
   "cell_type": "markdown",
   "metadata": {},
   "source": [
    "## Das lineare Programm\n",
    "\n",
    "Stellen wir das LP auf. Als Variablen benötigen wir nur die Transportvariablen $x_{ij}$. Diese wollen wir in einer 2-dimensionalen Liste <code>x</code>, also einer Liste von Listen, speichern. Dazu nutzen wir die Listensyntax von Python. Machen wir es uns erst einmal einfach, und nehmen an, wir wollten 100 nicht-negative Variablen zu einem linearen Programm hinzufügen. Dann geht das so:\n",
    "\n"
   ]
  },
  {
   "cell_type": "code",
   "execution_count": 8,
   "metadata": {},
   "outputs": [],
   "source": [
    "toy_model=mip.Model()\n",
    "\n",
    "z= [ toy_model.add_var() for i in range(100) ]"
   ]
  },
  {
   "cell_type": "markdown",
   "metadata": {},
   "source": [
    "Was passiert hier? Die Funktion <code>range(100)</code> erzeugt einfach eine Liste mit den Zahlen [0,1,2,...,99]. Der Code <code>for i in range(100)</code> iteriert dann über diese Liste und befüllt sukzessive die Variable <code>i</code> mit den Zahlen von 0,...,99. Jedes Mal, wenn <code>i</code> eine neue Zahl zugewiesen bekommt, wird dann <code>toy_model.add_var()</code> aufgerufen. Dabei wird eine Variable des LPs erzeugt und zurück geliefert. Die Syntax mit den eckigen Klammern <code>[...]</code> erzeugt dann eine Liste, in der alle diese LP-Variablen drin stehen. \n",
    "\n",
    "Schauen wir mal, was in <code>z</code> drin steckt. Damit das nicht so lang wird, gucken wir uns nur die ersten 10 Einträge an. Das geht so:"
   ]
  },
  {
   "cell_type": "code",
   "execution_count": 9,
   "metadata": {},
   "outputs": [
    {
     "data": {
      "text/plain": [
       "[<mip.entities.Var at 0x7fba324735b0>,\n",
       " <mip.entities.Var at 0x7fba323c7d30>,\n",
       " <mip.entities.Var at 0x7fba323c7d60>,\n",
       " <mip.entities.Var at 0x7fba323c7d90>,\n",
       " <mip.entities.Var at 0x7fba323c7dc0>,\n",
       " <mip.entities.Var at 0x7fba323c7df0>,\n",
       " <mip.entities.Var at 0x7fba323c7e20>,\n",
       " <mip.entities.Var at 0x7fba323c7e50>,\n",
       " <mip.entities.Var at 0x7fba323c7e80>,\n",
       " <mip.entities.Var at 0x7fba323c7eb0>]"
      ]
     },
     "execution_count": 9,
     "metadata": {},
     "output_type": "execute_result"
    }
   ],
   "source": [
    "z[:10]"
   ]
  },
  {
   "cell_type": "markdown",
   "metadata": {},
   "source": [
    "Aha, lauter Variablen. Wenn man jetzt genauer auf den Code oben guckt, dann stellt man fest, dass <code>i</code> eigentlich gar nicht mitspielt. Um zu signalisieren, dass die Laufvariable nicht wichtig ist, kann man sie als <code>_</code> bezeichnen, so wie hier:"
   ]
  },
  {
   "cell_type": "code",
   "execution_count": 10,
   "metadata": {},
   "outputs": [],
   "source": [
    "z= [ toy_model.add_var() for _ in range(100) ]"
   ]
  },
  {
   "cell_type": "markdown",
   "metadata": {},
   "source": [
    "Das ist exakt das gleiche wie oben. Nun gut. Die Variablen $x_{ij}$ in unserem Transportproblem haben zwei Indizes. Daher definieren wir eine Liste, deren Einträge Listen sind:"
   ]
  },
  {
   "cell_type": "code",
   "execution_count": 11,
   "metadata": {},
   "outputs": [],
   "source": [
    "model=mip.Model()\n",
    "x=[[model.add_var() for _ in range(num_customers)] for _ in range(num_factories)]"
   ]
  },
  {
   "cell_type": "markdown",
   "metadata": {},
   "source": [
    "Schauen wir uns auch <code>x</code> an."
   ]
  },
  {
   "cell_type": "code",
   "execution_count": 12,
   "metadata": {},
   "outputs": [
    {
     "data": {
      "text/plain": [
       "[[<mip.entities.Var at 0x7fba32523370>,\n",
       "  <mip.entities.Var at 0x7fba32473400>,\n",
       "  <mip.entities.Var at 0x7fba32522c20>,\n",
       "  <mip.entities.Var at 0x7fba32521150>,\n",
       "  <mip.entities.Var at 0x7fba325215d0>,\n",
       "  <mip.entities.Var at 0x7fba324737f0>,\n",
       "  <mip.entities.Var at 0x7fba32473610>,\n",
       "  <mip.entities.Var at 0x7fba32473c40>,\n",
       "  <mip.entities.Var at 0x7fba9bab65f0>,\n",
       "  <mip.entities.Var at 0x7fba323c7ca0>],\n",
       " [<mip.entities.Var at 0x7fba32522bf0>,\n",
       "  <mip.entities.Var at 0x7fba32521690>,\n",
       "  <mip.entities.Var at 0x7fba325212d0>,\n",
       "  <mip.entities.Var at 0x7fba32521750>,\n",
       "  <mip.entities.Var at 0x7fba32522c80>,\n",
       "  <mip.entities.Var at 0x7fba32522cb0>,\n",
       "  <mip.entities.Var at 0x7fba32522ce0>,\n",
       "  <mip.entities.Var at 0x7fba32522d10>,\n",
       "  <mip.entities.Var at 0x7fba325231c0>,\n",
       "  <mip.entities.Var at 0x7fba32523190>],\n",
       " [<mip.entities.Var at 0x7fba32522c50>,\n",
       "  <mip.entities.Var at 0x7fba32523130>,\n",
       "  <mip.entities.Var at 0x7fba32523100>,\n",
       "  <mip.entities.Var at 0x7fba325230d0>,\n",
       "  <mip.entities.Var at 0x7fba325230a0>,\n",
       "  <mip.entities.Var at 0x7fba32523070>,\n",
       "  <mip.entities.Var at 0x7fba32523040>,\n",
       "  <mip.entities.Var at 0x7fba32522b90>,\n",
       "  <mip.entities.Var at 0x7fba32522b60>,\n",
       "  <mip.entities.Var at 0x7fba32522b30>]]"
      ]
     },
     "execution_count": 12,
     "metadata": {},
     "output_type": "execute_result"
    }
   ],
   "source": [
    "x"
   ]
  },
  {
   "cell_type": "markdown",
   "metadata": {},
   "source": [
    "Man sieht: Eine äußere Liste, die drei Listen à 10 Einträge enthält. Wenn wir nun auf einen bestimmten Eintrag zugreifen wollen, können wir das so machen:"
   ]
  },
  {
   "cell_type": "code",
   "execution_count": 13,
   "metadata": {},
   "outputs": [
    {
     "data": {
      "text/plain": [
       "<mip.entities.Var at 0x7fba325231c0>"
      ]
     },
     "execution_count": 13,
     "metadata": {},
     "output_type": "execute_result"
    }
   ],
   "source": [
    "x[1][8]"
   ]
  },
  {
   "cell_type": "markdown",
   "metadata": {},
   "source": [
    "Diese Syntax mit den Doppelklammern ist zugegebenermaßen ein wenig häßlich. (Mit <code>numpy</code> hat man eine etwas schönere Syntax, aber das führt jetzt zu weit.)\n",
    "\n",
    "Als nächstes wollen wir die Bedingungen hinzufügen. Wir fangen damit an, dass keine Produktionsstätte mehr produziert, als sie kann. Oben im LP ist das eine Zeile. Tatsächlich aber haben wir eine Bedingung pro Produktionsstätte. Daher verwenden wir eine <code>for</code>-Schleife. Jede Bedingung selbst besteht aus einer Summe über die Transportvariablen, die zu der Produktionsstätte <code>i</code> gehören. Die Syntax sieht so aus:"
   ]
  },
  {
   "cell_type": "code",
   "execution_count": 14,
   "metadata": {},
   "outputs": [],
   "source": [
    "for i in range(num_factories):\n",
    "    model += mip.xsum( x[i][j] for j in range(num_customers) )<=a[i]"
   ]
  },
  {
   "cell_type": "markdown",
   "metadata": {},
   "source": [
    "Das Innere <code>x[i][j] for j in range(num_customers)</code> lässt das <code>j</code> über alle Kunden iterieren. Die Funktion <code>mip.xsum</code> bildet dann die Summe. (Tatsächlich könnte man auch die eingebaute Funktion <code>sum</code> verwenden, aber <code>mip.xsum</code> soll schneller sein.)\n",
    "\n",
    "Die Bedarfsbedingungen (zweite Bedingung im LP oben) ist nun einfach."
   ]
  },
  {
   "cell_type": "code",
   "execution_count": 15,
   "metadata": {},
   "outputs": [],
   "source": [
    "for j in range(num_customers):\n",
    "    model +=mip.xsum(x[i][j] for i in range(num_factories))==d[j]"
   ]
  },
  {
   "cell_type": "markdown",
   "metadata": {},
   "source": [
    "Die Zielfunktion besteht einfach aus den Transportkosten. Der Einfachheit halber lassen wir die Produktionskosten weg, bzw. nehmen an, dass die \n",
    "Produktionskosten in allen Produktionsstätten gleich sind. Die Kosten sind, wie gesagt euklidisch, dh, die Abstandsfunktion <code>distance</code> kommt zum Einsatz. Die Summe hat zwei Laufvariablen, <code>i</code> und <code>j</code>. Dementsprechend nutzen wir zwei <code>for</code>."
   ]
  },
  {
   "cell_type": "code",
   "execution_count": 16,
   "metadata": {},
   "outputs": [],
   "source": [
    "model.objective=mip.minimize(mip.xsum(x[i][j]*distance(B[i],C[j]) for i in range(num_factories) for j in range(num_customers)))"
   ]
  },
  {
   "cell_type": "markdown",
   "metadata": {},
   "source": [
    "Schließlich starten wir die Optimierung. "
   ]
  },
  {
   "cell_type": "code",
   "execution_count": 17,
   "metadata": {},
   "outputs": [
    {
     "name": "stdout",
     "output_type": "stream",
     "text": [
      "Welcome to the CBC MILP Solver \n",
      "Version: Trunk\n",
      "Build Date: Oct 24 2021 \n",
      "\n",
      "Starting solution of the Linear programming problem using Dual Simplex\n",
      "\n"
     ]
    },
    {
     "data": {
      "text/plain": [
       "<OptimizationStatus.OPTIMAL: 0>"
      ]
     },
     "execution_count": 17,
     "metadata": {},
     "output_type": "execute_result"
    }
   ],
   "source": [
    "model.optimize()"
   ]
  },
  {
   "cell_type": "markdown",
   "metadata": {},
   "source": [
    "Wir plotten das Ergebnis. Den Code können Sie getrost ignorieren."
   ]
  },
  {
   "cell_type": "code",
   "execution_count": 18,
   "metadata": {},
   "outputs": [
    {
     "data": {
      "image/png": "[encoded data removed]",
      "text/plain": [
       "<Figure size 500x500 with 1 Axes>"
      ]
     },
     "metadata": {},
     "output_type": "display_data"
    }
   ],
   "source": [
    "plt.figure(figsize=(5,5))\n",
    "BB=np.array(B)\n",
    "CC=np.array(C)\n",
    "plt.scatter(BB[:,0],BB[:,1],s=np.array(a)*100,marker='s')\n",
    "plt.scatter(CC[:,0],CC[:,1],s=np.array(d)*100,marker='^')\n",
    "for i in range(num_factories):\n",
    "    for j in range(num_customers):\n",
    "        if x[i][j].x>0.0001:\n",
    "            plt.plot([BB[i,0],CC[j,0]],[BB[i,1],CC[j,1]],'k',zorder=-1,alpha=0.5,linewidth=x[i][j].x*5)\n",
    "plt.xlim(-0.1,1.1)\n",
    "plt.ylim(-0.1,1.1)\n",
    "plt.xticks([])\n",
    "plt.yticks([])\n",
    "plt.show()"
   ]
  },
  {
   "cell_type": "markdown",
   "metadata": {},
   "source": [
    "Im Plot sind die Produktionsstätten als Quadrate, die Kunden als Dreiecke widergegeben. Die Größen (Durchmesser) spiegeln den Bedarf/die Nachfrage wider. Ebenso ist die Linienstärke der Verbindungen proportional zum Transport."
   ]
  }
 ],
 "metadata": {
  "kernelspec": {
   "display_name": "Python 3 (ipykernel)",
   "language": "python",
   "name": "python3"
  },
  "language_info": {
   "codemirror_mode": {
    "name": "ipython",
    "version": 3
   },
   "file_extension": ".py",
   "mimetype": "text/x-python",
   "name": "python",
   "nbconvert_exporter": "python",
   "pygments_lexer": "ipython3",
   "version": "3.11.0"
  }
 },
 "nbformat": 4,
 "nbformat_minor": 4
}
