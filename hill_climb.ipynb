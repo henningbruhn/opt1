{
 "cells": [
  {
   "cell_type": "markdown",
   "metadata": {},
   "source": [
    "# Zufallssuche, hill climbing und hill climbing with restarts für min makespan\n",
    "\n",
    "Minimum makespan für zwei Maschinen"
   ]
  },
  {
   "cell_type": "code",
   "execution_count": 1,
   "metadata": {},
   "outputs": [],
   "source": [
    "import random\n",
    "import time\n",
    "import numpy as np  # scientific computing library, see numpy.org"
   ]
  },
  {
   "cell_type": "markdown",
   "metadata": {},
   "source": [
    "## Zufallsinstanzen\n",
    "\n",
    "Wir erzeugen einfache Zufallsinstanzen."
   ]
  },
  {
   "cell_type": "code",
   "execution_count": 2,
   "metadata": {},
   "outputs": [
    {
     "data": {
      "text/plain": [
       "array([[322.96,  82.63, 481.77, 833.26, 824.68,  91.31, 959.63, 464.6 ,\n",
       "        349.07, 535.96],\n",
       "       [313.05,  84.48, 487.92, 828.95, 829.67,  94.98, 961.52, 474.26,\n",
       "        351.78, 544.5 ]])"
      ]
     },
     "execution_count": 2,
     "metadata": {},
     "output_type": "execute_result"
    }
   ],
   "source": [
    "def rnd_instance(n):\n",
    "    d=[random.randint(1001,100000) for _ in range(n)]\n",
    "    d2=[dd-random.randint(-1000,1000) for dd in d]\n",
    "    return np.array([d,d2])/100\n",
    "\n",
    "d=rnd_instance(10)\n",
    "d"
   ]
  },
  {
   "cell_type": "markdown",
   "metadata": {},
   "source": [
    "Erste Zeile zeigt die Dauern der Aufträge auf der ersten Maschine; die zweite, die Dauern auf der zweiten Maschine.\n",
    "\n",
    "Wichtig: Eine Methode, um den makespan zu berechnen."
   ]
  },
  {
   "cell_type": "code",
   "execution_count": 3,
   "metadata": {},
   "outputs": [],
   "source": [
    "def compute_makespan(assignment,instance):\n",
    "    \"\"\"\n",
    "    expects assignment to be a list that maps jobs to machines (machine 0 or machine 1), ie assignment is to be a list with 0/1 entries.\n",
    "    \"\"\"\n",
    "    T1=sum([d for i,d in enumerate(instance[0,:]) if assignment[i]==0])\n",
    "    T2=sum([d for i,d in enumerate(instance[1,:]) if assignment[i]==1])\n",
    "    return max(T1,T2)"
   ]
  },
  {
   "cell_type": "markdown",
   "metadata": {},
   "source": [
    "Wir testen die Methode:"
   ]
  },
  {
   "cell_type": "code",
   "execution_count": 4,
   "metadata": {},
   "outputs": [
    {
     "name": "stdout",
     "output_type": "stream",
     "text": [
      "Zufallslösung:\n",
      "[0, 1, 0, 1, 1, 1, 0, 0, 1, 0]\n",
      "Makespan: 2764.9\n"
     ]
    }
   ],
   "source": [
    "n=d.shape[1]\n",
    "rnd_solution=[random.randint(0,1) for _ in range(n)]\n",
    "makespan=compute_makespan(rnd_solution,d)\n",
    "print(\"Zufallslösung:\")\n",
    "print(rnd_solution)\n",
    "print(\"Makespan: {:.1f}\".format(makespan))"
   ]
  },
  {
   "cell_type": "markdown",
   "metadata": {},
   "source": [
    "## Zufallssuche\n",
    "\n",
    "Als erstes erzeugen wir brutal viele Zufallslösungen und wählen dann diejenige mit kleinstem makespan aus.\n",
    "\n",
    "Die folgende Klasse ist nur Bequemlichkeit: Sie ermöglicht ein einfaches Tracken der bisher besten Lösung."
   ]
  },
  {
   "cell_type": "code",
   "execution_count": 5,
   "metadata": {},
   "outputs": [],
   "source": [
    "class Best_Tracker:\n",
    "    def __init__(self):\n",
    "        self.reset()\n",
    "        \n",
    "    def reset(self):\n",
    "        self.best_cost=np.inf\n",
    "        self.best=None\n",
    "    \n",
    "    def update(self,solution,cost):\n",
    "        if cost<self.best_cost:\n",
    "            self.best_cost=cost\n",
    "            self.best=solution.copy()"
   ]
  },
  {
   "cell_type": "code",
   "execution_count": 6,
   "metadata": {},
   "outputs": [],
   "source": [
    "def best_rnd_solution(instance,time_budget):\n",
    "    start_time=time.time()\n",
    "    n=instance.shape[1]\n",
    "    tracker=Best_Tracker()\n",
    "    while time.time()-start_time<time_budget:\n",
    "        solution=[random.randint(0,1) for _ in range(n)]\n",
    "        makespan=compute_makespan(solution,instance)\n",
    "        tracker.update(solution,makespan)\n",
    "    return tracker.best,tracker.best_cost"
   ]
  },
  {
   "cell_type": "markdown",
   "metadata": {},
   "source": [
    "## hill climbing\n",
    "\n",
    "Wir brechen das hill climbing ebenfalls nach vorgegebener Zeit ab, um Vergleichbarkeit mit den anderen Algorithmen zu schaffen."
   ]
  },
  {
   "cell_type": "code",
   "execution_count": 7,
   "metadata": {},
   "outputs": [],
   "source": [
    "def tweak(solution):\n",
    "    \"\"\"\n",
    "    performs simple local change: randomly one job is transferred from one machine to the other.\n",
    "    \"\"\"\n",
    "    position=random.randrange(len(solution))\n",
    "    solution[position]=1-solution[position]\n",
    "    return position\n",
    "\n",
    "def undo_tweak(solution,position):\n",
    "    \"\"\"\n",
    "    swaps the job at position back \n",
    "    \"\"\"\n",
    "    solution[position]=1-solution[position]    \n",
    "\n",
    "def hill_climbing(solution,instance,time_budget,tries=20):\n",
    "    start_time=time.time()\n",
    "    step_tracker=Best_Tracker()   # keeps track of best solution during single step\n",
    "    current_cost=compute_makespan(solution,instance)\n",
    "    while time.time()-start_time<time_budget:\n",
    "        step_tracker.reset()\n",
    "        for _ in range(tries):         # try several local changes and pick the best one\n",
    "            position=tweak(solution)\n",
    "            ms=compute_makespan(solution,instance)  # this could be done more efficiently -- we do not actually have to recompute the makespan in each step\n",
    "            step_tracker.update(solution,ms)\n",
    "            undo_tweak(solution,position) \n",
    "        if step_tracker.best_cost<current_cost:    # we found an improvement, so we take the step \n",
    "            solution=step_tracker.best             # if not, we simply try again to find an improvement until time runs out\n",
    "            current_cost=step_tracker.best_cost\n",
    "    return solution,current_cost"
   ]
  },
  {
   "cell_type": "markdown",
   "metadata": {},
   "source": [
    "## hill climbing mit random restarts"
   ]
  },
  {
   "cell_type": "code",
   "execution_count": 8,
   "metadata": {},
   "outputs": [],
   "source": [
    "def hill_climbing_random_restarts(instance,time_budget,tries=20):\n",
    "    start_time=time.time()\n",
    "    n=instance.shape[1]\n",
    "    tracker=Best_Tracker()\n",
    "    while time.time()-start_time<time_budget:\n",
    "        solution=[random.randint(0,1) for _ in range(n)]\n",
    "        makespan=compute_makespan(solution,instance)\n",
    "        hill_climbing_time_budget=min(time_budget/10,time.time()-start_time)  # div by 10 is arbitrary\n",
    "        solution,makespan=hill_climbing(solution,instance,hill_climbing_time_budget)\n",
    "        tracker.update(solution,makespan)\n",
    "    return tracker.best,tracker.best_cost   "
   ]
  },
  {
   "cell_type": "markdown",
   "metadata": {},
   "source": [
    "## Vergleich"
   ]
  },
  {
   "cell_type": "code",
   "execution_count": 9,
   "metadata": {},
   "outputs": [
    {
     "name": "stdout",
     "output_type": "stream",
     "text": [
      "Niedrigster makespan in 50 Versuchen:\n",
      "Zufallssuche                  : 86.0%\n",
      "hill climbing                 : 0.0%\n",
      "hill climbing, random restarts: 14.0%\n"
     ]
    }
   ],
   "source": [
    "repeats=50\n",
    "n=100\n",
    "time_budget=3\n",
    "results=[0]*3\n",
    "for _ in range(repeats):\n",
    "    instance=rnd_instance(n)\n",
    "    _,rnd=best_rnd_solution(instance,time_budget)\n",
    "    _,hill=hill_climbing([0]*n,instance,time_budget)\n",
    "    _,rnd_hill=hill_climbing_random_restarts(instance,time_budget)\n",
    "    results[np.argmin([rnd,hill,rnd_hill])]+=1   # we count who wins\n",
    "    \n",
    "print(\"Niedrigster makespan in {} Versuchen:\".format(repeats))\n",
    "print(\"Zufallssuche                  : {:2.1f}%\".format(results[0]/repeats*100))\n",
    "print(\"hill climbing                 : {:2.1f}%\".format(results[1]/repeats*100))\n",
    "print(\"hill climbing, random restarts: {:2.1f}%\".format(results[2]/repeats*100))"
   ]
  },
  {
   "cell_type": "markdown",
   "metadata": {},
   "source": [
    "Dass hier die Zufallssuche mit Abstand am erfolgreichsten ist, bedeutet nicht, dass Zufallssuche generell das Mittel der Wahl ist. Vielmehr ist min makespan (mit zwei Maschinen) ein so einfaches Problem, dass es sich offenbar lohnt den Lösungsraum weit zu erkunden. Zudem hat hill climbing noch Parameter, die vielleicht besser eingestellt werden könnten (wie viele lokale Änderungen sollen ausprobiert werden, bevor der lokale Schritt getan wird?). Das gleiche gilt für hill climbing mit random restarts."
   ]
  }
 ],
 "metadata": {
  "kernelspec": {
   "display_name": "Python 3",
   "language": "python",
   "name": "python3"
  },
  "language_info": {
   "codemirror_mode": {
    "name": "ipython",
    "version": 3
   },
   "file_extension": ".py",
   "mimetype": "text/x-python",
   "name": "python",
   "nbconvert_exporter": "python",
   "pygments_lexer": "ipython3",
   "version": "3.8.6"
  }
 },
 "nbformat": 4,
 "nbformat_minor": 4
}
