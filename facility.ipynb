{
 "cells": [
  {
   "cell_type": "markdown",
   "metadata": {},
   "source": [
    "# Uncapacitated facility location\n",
    "\n",
    "Wir implementieren hier das Ganzzahlprogramm für uncapacitated facility location:\n",
    "\n",
    "$$\n",
    "\\begin{array}{lll}\n",
    "\\min & \\sum_{i\\in\\mathcal F}y_if_i\n",
    "+\\sum_{i\\in\\mathcal F,j\\in\\mathcal D}x_{ij}c_{ij}, \n",
    "& y\\in\\mathbb R^{\\mathcal F},\\, x\\in\\mathbb R^{\\mathcal F\\times\\mathcal D}\\\\\n",
    "\\textrm{unter} & x_{ij}\\leq y_i & \\textrm{für alle }i\\in\\mathcal F,\\,j\\in\\mathcal D\\\\\n",
    "& \\sum_{i\\in\\mathcal F}x_{ij}\\geq 1 & \\textrm{für alle }j\\in\\mathcal D\\\\\n",
    "& x_{ij}\\in\\{0,1\\},\\,y_i\\in\\{0,1\\} & \\textrm{für alle }i\\in\\mathcal F,\\,j\\in\\mathcal D\n",
    "\\end{array}\n",
    "$$\n",
    "\n",
    "\n",
    "Verwendet wird das <code>mip</code>-Paket. Dokumentation findet sich [hier.](https://python-mip.readthedocs.io/en/latest/)"
   ]
  },
  {
   "cell_type": "code",
   "execution_count": 1,
   "metadata": {},
   "outputs": [],
   "source": [
    "# Zum Installieren in google colab, entfernen Sie die Raute in der nächsten Zeile\n",
    "#!pip install mip\n",
    "\n",
    "import mip  ## Bibliothek für lineare Programme und MIPs\n",
    "import numpy as np ## Standard-Bibliothek für wiss Rechnen\n",
    "import random\n",
    "import math\n",
    "import matplotlib.pyplot as plt\n",
    "### Wir benutzen das fivethirtyeight style, damit die plots ein bisschen hübscher aussehen\n",
    "### könnte auch weggelassen werden\n",
    "plt.style.use('fivethirtyeight')"
   ]
  },
  {
   "cell_type": "markdown",
   "metadata": {},
   "source": [
    "Wie immer brauchen wir eine Beispielsinstanz, die wir zufällig erzeugen. Wir platzieren Standorte und Kunden zufällig in der Ebene. Als Anschluss-/Betriebskosten nehmen wir dann den gewöhnlichen Abstand in der Ebene. Die Konstruktionskosten setzen wir überall auf $1$."
   ]
  },
  {
   "cell_type": "code",
   "execution_count": 2,
   "metadata": {},
   "outputs": [],
   "source": [
    "def rnd_instance(num_facilities=10,num_customers=30):\n",
    "    facilities=[(random.random(),random.random()) for _ in range(num_facilities)]\n",
    "    customers=[(random.random(),random.random()) for _ in range(num_customers)]\n",
    "    opening_costs=[1]*num_facilities  ## for simplicity, all opening costs are 1\n",
    "    return facilities,customers,opening_costs\n",
    "\n",
    "def distance(facility,customer):\n",
    "    px,py=facility\n",
    "    qx,qy=customer\n",
    "    return math.sqrt((px-qx)**2+(py-qy)**2)\n",
    "\n",
    "facilities,customers,opening_costs=rnd_instance()"
   ]
  },
  {
   "cell_type": "markdown",
   "metadata": {},
   "source": [
    "Ein bisschen Visualisierungscode. Der ist ein wenig komplizierter, aber nicht notwendig, um das MIP bzw dessen Lösung zu verstehen. Dh, einfach ignorieren. "
   ]
  },
  {
   "cell_type": "code",
   "execution_count": 3,
   "metadata": {},
   "outputs": [
    {
     "data": {
      "image/png": "[encoded data removed]",
      "text/plain": [
       "<Figure size 504x504 with 1 Axes>"
      ]
     },
     "metadata": {},
     "output_type": "display_data"
    }
   ],
   "source": [
    "def show(facilities,customers,x=None,y=None):\n",
    "    plt.figure(figsize=(7,7))\n",
    "    BB=np.array(facilities)\n",
    "    CC=np.array(customers)\n",
    "    if y is None:\n",
    "        closed=BB\n",
    "    else:\n",
    "        opened=np.array([F for i,F in enumerate(facilities) if y[i].x==1])\n",
    "        closed=np.array([F for i,F in enumerate(facilities) if y[i].x==0])\n",
    "        plt.scatter(opened[:,0],opened[:,1],color='blue',s=100,marker='o',label=\"offen\")\n",
    "    plt.scatter(closed[:,0],closed[:,1],color='gray',s=50,marker='x',label=\"Standort\")\n",
    "    plt.scatter(CC[:,0],CC[:,1],color='red',marker='s',label=\"Kunde\")\n",
    "    if x is not None:\n",
    "        for i in range(len(facilities)):\n",
    "            for j in range(len(customers)):\n",
    "                if x[i][j].x>0.0001:\n",
    "                    plt.plot([BB[i,0],CC[j,0]],[BB[i,1],CC[j,1]],'k',zorder=-1,alpha=0.5,linewidth=2)\n",
    "    plt.xlim(-0.1,1.1)\n",
    "    plt.ylim(-0.1,1.1)\n",
    "    plt.xticks([])\n",
    "    plt.yticks([])\n",
    "    plt.legend(loc=\"upper left\")\n",
    "    plt.show()   \n",
    "\n",
    "show(facilities,customers)"
   ]
  },
  {
   "cell_type": "markdown",
   "metadata": {},
   "source": [
    "## Das MIP\n",
    "\n",
    "Wir starten damit, das <code>Model</code> zu instantiieren. "
   ]
  },
  {
   "cell_type": "code",
   "execution_count": 4,
   "metadata": {},
   "outputs": [],
   "source": [
    "m=mip.Model()\n",
    "num_customers=len(customers)\n",
    "num_facilities=len(facilities)"
   ]
  },
  {
   "cell_type": "markdown",
   "metadata": {},
   "source": [
    "Binäre Variablen werden erzeugt, in dem var_type=mip.BINARY gesetzt wird. \n",
    "\n",
    "$y_i\\in\\{0,1\\}$"
   ]
  },
  {
   "cell_type": "code",
   "execution_count": 5,
   "metadata": {},
   "outputs": [],
   "source": [
    "y=[m.add_var(var_type=mip.BINARY) for _ in range(num_facilities)]"
   ]
  },
  {
   "cell_type": "markdown",
   "metadata": {},
   "source": [
    "Als nächstes erzeugen wir die Anschlussvariablen.\n",
    "\n",
    "$x_{ij}\\in\\{0,1\\}$"
   ]
  },
  {
   "cell_type": "code",
   "execution_count": 6,
   "metadata": {},
   "outputs": [],
   "source": [
    "x=[[m.add_var(var_type=mip.BINARY) for _ in range(num_customers)] for _ in range(num_facilities)]"
   ]
  },
  {
   "cell_type": "markdown",
   "metadata": {},
   "source": [
    "Die Zielfunktion. Als Anschluss-/Betriebkosten nehmen wir den Abstand in der Ebene.\n",
    "\n",
    "$\\min\\sum_{i}y_if_i+\\sum_{ij}x_{ij}c_{ij}$"
   ]
  },
  {
   "cell_type": "code",
   "execution_count": 7,
   "metadata": {},
   "outputs": [],
   "source": [
    "m.objective=mip.minimize(mip.xsum(y[i]*opening_costs[i] for i in range(num_facilities)) + \\\n",
    "                         mip.xsum(x[i][j]*distance(facilities[i],customers[j]) for i in range(num_facilities) for j in range(num_customers)))"
   ]
  },
  {
   "cell_type": "markdown",
   "metadata": {},
   "source": [
    "Die Indikatorvariablebedingungen -- kein Anschluss zu einer nicht geöffneten facility:\n",
    "\n",
    "$x_{ij}\\leq y_i$"
   ]
  },
  {
   "cell_type": "code",
   "execution_count": 8,
   "metadata": {},
   "outputs": [],
   "source": [
    "for i in range(num_facilities):\n",
    "    for j in range(num_customers):\n",
    "        m+=x[i][j]<=y[i]"
   ]
  },
  {
   "cell_type": "markdown",
   "metadata": {},
   "source": [
    "Jeder Kunde muss angeschlossen werden:\n",
    "\n",
    "$\\sum_{i}x_{ij}\\geq 1$ "
   ]
  },
  {
   "cell_type": "code",
   "execution_count": 9,
   "metadata": {},
   "outputs": [],
   "source": [
    "for j in range(num_customers):\n",
    "    m+=mip.xsum(x[i][j] for i in range(num_facilities)) >= 1"
   ]
  },
  {
   "cell_type": "markdown",
   "metadata": {},
   "source": [
    "Wir starten die Optimierung und lassen uns gleich die Lösung anzeigen:"
   ]
  },
  {
   "cell_type": "code",
   "execution_count": 10,
   "metadata": {},
   "outputs": [
    {
     "data": {
      "image/png": "[encoded data removed]",
      "text/plain": [
       "<Figure size 504x504 with 1 Axes>"
      ]
     },
     "metadata": {},
     "output_type": "display_data"
    }
   ],
   "source": [
    "m.optimize()\n",
    "\n",
    "show(facilities,customers,x,y)"
   ]
  }
 ],
 "metadata": {
  "kernelspec": {
   "display_name": "Python 3",
   "language": "python",
   "name": "python3"
  },
  "language_info": {
   "codemirror_mode": {
    "name": "ipython",
    "version": 3
   },
   "file_extension": ".py",
   "mimetype": "text/x-python",
   "name": "python",
   "nbconvert_exporter": "python",
   "pygments_lexer": "ipython3",
   "version": "3.8.6"
  }
 },
 "nbformat": 4,
 "nbformat_minor": 4
}
