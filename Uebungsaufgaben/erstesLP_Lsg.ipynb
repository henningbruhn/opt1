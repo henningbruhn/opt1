{
 "cells": [
  {
   "cell_type": "markdown",
   "id": "272b3a5a-ae87-47a8-9aec-2b711b111a9f",
   "metadata": {},
   "source": [
    "**<div align=\"center\"><span style=\"font-size:4em\">Lösung</span></div>**\n",
    "# Erste Schritte mit MIP\n",
    "\n",
    "In diesem Notebook sollen Sie ein erstes einfaches lineares Programm mit dem Paket <code>mip</code> kodieren und lösen.\n",
    "\n",
    "Gehen Sie dieses Notebook Zelle für Zelle durch und vergessen Sie nicht, die Zellen auszuführen, in dem Sie das kleine *play*-Symbol drücken. Wenn Sie viel hin und her ändern, dann lohnt es sich ab und zu den *kernel*, also die Python-Maschine, neu zu starten. Das machen Sie über den Menüpunkt *Kernel* bzw. *Laufzeit* (je nachdem, ob Sie in Colab oder auf Ihrem Rechner arbeiten und je nachdem, auf welche Sprache die Umgebung gestellt ist, heißt der Menüreiter anders).\n"
   ]
  },
  {
   "cell_type": "markdown",
   "id": "1f25ea52-f610-4d0e-ad2c-7f241e33a1c6",
   "metadata": {},
   "source": [
    "Wir benötigen einige Pakete (Bibliotheken), die weitere Funktionalität bereit stellen. Wir benötigen\n",
    "* <code>mip</code>: das Paket, das den solver für lineare Programme bereit stellt\n",
    "* <code>math</code>: ein Paket, das allgemeine mathematische Konstanten und Funktionen bietet; es ist Teil von Python und muss nicht installiert werden\n",
    "* <code>numpy</code>: das Standardpaket für wissenschaftliches Rechnen; hier brauchen wir <code>numpy</code> nur hinter den Kulissen, um die Visualisierung ein wenig leichter zu machen\n",
    "* <code>matplotlib</code>: das Standardpaket für Plots\n",
    "\n",
    "Wenn Sie Google Colab verwenden, dann sind die Pakete <code>numpy</code> und <code>matplotlib</code> vorinstalliert (und <code>math</code> ist eh immer vorhanden) -- nur <code>mip</code> muss installiert werden. Sie können dies tun, indem Sie einfach die Raute in der nächsten Zeile löschen. Wenn Sie auf Ihrem eigenen Rechner arbeiten, müssen Sie eventuell die Pakete selbst installieren (aber nur einmal!). Dazu gehen Sie in ein Terminal und geben\n",
    "<code>pip install mip</code> ein. Nach dem Installieren müssen wir Python sagen, dass wir die Pakete verwenden wollen: dies geschieht mit <code>import paket_name</code>. Manche Pakete haben recht lange Namen. Man kann Abkürzungen der Namen verwenden, wenn dies Python mit dem Schlüsselwort <code>as</code> mitgeteilt wird. Das Paket <code>numpy</code> zB wird traditionell als <code>np</code> abgekürzt, und zwar so: <code>import numpy as np</code>."
   ]
  },
  {
   "cell_type": "code",
   "execution_count": 1,
   "id": "492534d1-f2b6-452e-9780-87075f1077c3",
   "metadata": {},
   "outputs": [],
   "source": [
    "# Löschen Sie die Raute in der nächsten Zeile, wenn Sie in Google Colab arbeiten\n",
    "# !pip install mip\n",
    "\n",
    "## Wir wollen die folgendende Pakete verwenden:\n",
    "import mip\n",
    "import math \n",
    "import matplotlib.pyplot as plt # pyplot ist ein Unterpaket, in dem die eigentliche Plottingfunktionalität steckt\n",
    "import numpy as np"
   ]
  },
  {
   "cell_type": "markdown",
   "id": "6fc407df-b8d6-419a-87a2-59d2c308b607",
   "metadata": {},
   "source": [
    "Die nächste Zelle können Sie ignorieren (ausführen müssen Sie die aber trotzdem!). Das ist ein wenig Code zum Plotten."
   ]
  },
  {
   "cell_type": "code",
   "execution_count": 2,
   "id": "c8ba70ab-8c06-483f-83fa-bc76d8d98320",
   "metadata": {},
   "outputs": [],
   "source": [
    "#### Visualisierungscode -- können Sie getrost ignorieren! ####\n",
    "def show_poly(solution=None):\n",
    "    f1=lambda x: 0.8*x+2.8\n",
    "    f2=lambda x: -0.2*x+3  # x2=-0.2x1+3\n",
    "    f3=lambda x: -2*x+8\n",
    "\n",
    "    fig,ax=plt.subplots(1,1,figsize=(5,5))\n",
    "\n",
    "    z=np.linspace(-5,5,100)\n",
    "    X,Y=np.meshgrid(z,z)\n",
    "    Z = (f1(X)-Y>0) * (X>-1) * (X<4) * (f2(X)>Y) * (f3(X)>Y)\n",
    "    ax.contourf(X, Y, Z, levels=1,colors=['white','tab:blue'],zorder=-2)\n",
    "\n",
    "    ax.set_xlim([-5,5])\n",
    "    ax.set_ylim([-5,5])\n",
    "    ax.plot([-1]*2,[-10,10],'b',linewidth=3,zorder=-1)\n",
    "    ax.plot([4]*2,[-10,10],'b',linewidth=3,zorder=-1)\n",
    "    ax.plot([-5,5],[f1(-5),f1(5)],'b',linewidth=3,zorder=-1) # x_2=0.8x_1+2.8\n",
    "    ax.plot([-5,5],[f2(-5),f2(5)],'b',linewidth=3,zorder=-1)\n",
    "    ax.plot([-5,5],[f3(-5),f3(5)],'b',linewidth=3,zorder=-1)\n",
    "    ax.spines['bottom'].set_position(('data', 0))\n",
    "    ax.spines['left'].set_position(('data', 0))\n",
    "    ax.spines['top'].set_visible(False)\n",
    "    ax.spines['right'].set_visible(False)\n",
    "    ax.set_xticks([-4,-3,-2,-1,1,2,3,4])\n",
    "    ax.set_yticks([-4,-3,-2,-1,1,2,3,4])\n",
    "\n",
    "    ax.arrow(0,0,1,1.5,color=\"tab:red\",linewidth=3,head_width=0.2)\n",
    "    ax.text(1,1,\"besser\")\n",
    "\n",
    "    if solution is not None:\n",
    "        ax.scatter([solution[0]],[solution[1]],c='r',zorder=10)\n",
    "    \n",
    "    #plt.savefig(\"simple_poly.png\",dpi=300)"
   ]
  },
  {
   "cell_type": "markdown",
   "id": "b4b84c77-a8e0-4797-af57-348805354455",
   "metadata": {},
   "source": [
    "Es soll das folgende lineare Programm gelöst werden:\n",
    "\n",
    "\\begin{align}\n",
    "\\max\\quad & x_1+1.5x_2 \\\\\n",
    "\\text{unter}\\quad  & -4x_1+5x_2 \\leq 14 \\\\\n",
    "& x_1+5x_2\\leq 15 \\\\\n",
    "& 2x_1+x_2\\leq 8 \\\\\n",
    "& -1\\leq x_1\\leq 4\n",
    "\\end{align}\n",
    "\n",
    "Die zugehörige Lösungsmenge kann, da es sich um ein 2-dimensionales Problem handelt, graphisch dargestellt werden:"
   ]
  },
  {
   "cell_type": "code",
   "execution_count": 3,
   "id": "28707034-85e5-420e-8b99-18a3cc1911fe",
   "metadata": {},
   "outputs": [
    {
     "data": {
      "image/png": "[encoded data removed]",
      "text/plain": [
       "<Figure size 500x500 with 1 Axes>"
      ]
     },
     "metadata": {},
     "output_type": "display_data"
    }
   ],
   "source": [
    "show_poly()"
   ]
  },
  {
   "cell_type": "markdown",
   "id": "8aeaaca3-c5c5-4554-8523-53ce3811bdfe",
   "metadata": {},
   "source": [
    "Implementieren wir das lineare Programm! Zunächst müssen wir uns Objekt beschaffen, dass das LP kodiert. Dies geschieht mit <code>mip.Model()</code>. Wir speichern das Objekt in die Variable <code>model</code>."
   ]
  },
  {
   "cell_type": "code",
   "execution_count": 4,
   "id": "cc518990-5ba6-4c1d-8286-30a50370e40b",
   "metadata": {},
   "outputs": [],
   "source": [
    "model=mip.Model()"
   ]
  },
  {
   "cell_type": "markdown",
   "id": "3cc0c021-fc7c-4f3e-8dc7-7340487d79c7",
   "metadata": {},
   "source": [
    "Als nächstes definieren wir die Variablen $x_1,x_2$, die wir mit <code>x1</code> und <code>x2</code> bezeichnen wollen. Mit <code>z=model.add_var()</code> fügen wir dem LP <code>model</code> eine Variable hinzu und speichern die, zur späteren Verwendung, in <code>z</code>. Standardmäßig darf die Variable alle *nicht-negativen* Werte annehmen. Im obigen LP hingegen ist $-1\\leq x_1 \\leq 4$ vorgesehen und $x_2$ darf sogar alle Werte in $\\mathbb R$ annehmen. Um untere und obere Schranken festzulegen benutzen wir die Parameter <code>lb</code> und <code>ub</code> wie in \n",
    "\n",
    "<code>z=model.add_var(lb=-42,ub=100000)</code>\n",
    "\n",
    "Wie aber legen fest, dass $x_2$ nach unten gar nicht begrenzt ist? Wir verwenden als untere Grenze $-\\infty$! In Python können wir uns den Wert $\\infty$ durch <code>math.inf</code> beschaffen, $-\\infty$ ist dann entsprechend <code>-math.inf</code>.\n",
    "\n",
    "### Aufgabe: Variablen\n",
    "Fügen Sie die Variablen <code>x1</code> und <code>x2</code> mit den korrekten Grenzen dem LP <code>model</code> hinzu!"
   ]
  },
  {
   "cell_type": "code",
   "execution_count": 5,
   "id": "4ac4778f-68f3-48c1-b048-f1afe720a3ef",
   "metadata": {},
   "outputs": [],
   "source": [
    "### Fügen Sie hier Ihren Code ein ###\n",
    "\n",
    "x1=model.add_var(lb=-1,ub=4)\n",
    "x2=model.add_var(lb=-math.inf)"
   ]
  },
  {
   "cell_type": "markdown",
   "id": "bcd8ae12-809f-4e2d-a8e9-fe1ad395b8bf",
   "metadata": {},
   "source": [
    "Als nächstes definieren wir die Zielfunktion. Angenommen wir wollten $42x_1-2x_2$ maximieren. Dann würden wir schreiben:\n",
    "\n",
    "<code>model.objective=mip.maximize(42\\*x1-2\\*x2)</code>\n",
    "\n",
    "Damit haben wir festgelegt, dass wir maximieren wollen und zwar die Funktion $42x_1-2x_2$. Wichtig: Die Zielfunktion muss <code>model</code> auch als Zielfunktion zugewiesen werden. Das geschieht eben durch die Zuweisung <code>model.objective=...</code>. Ebenfalls wichtig: die Zielfunktion muss linear sein. Wenn Sie versuchen als Zielfunktion <code>x1\\*x2</code> anzugeben, werden Sie eine Fehlermeldung erhalten.\n",
    "\n",
    "### Aufgabe: Zielfunktion\n",
    "Definieren Sie die Zielfunktion für <code>model</code>!"
   ]
  },
  {
   "cell_type": "code",
   "execution_count": 6,
   "id": "02ca3d24-7c93-4cbc-b80a-61af664975d5",
   "metadata": {},
   "outputs": [],
   "source": [
    "### Fügen Sie hier Ihren Code ein ###\n",
    "\n",
    "model.objective = mip.maximize(x1+1.5*x2)"
   ]
  },
  {
   "cell_type": "markdown",
   "id": "6b7b4697-b4ea-469d-863d-1ebd784249cc",
   "metadata": {},
   "source": [
    "Es verbleiben die drei Ungleichungen des linearen Programms. (Die Ungleichung $-1\\leq x_1\\leq 4$ haben wir bereits durch die untere und obere Grenze an <code>x1</code> eingefangen.) Die Ungleichungen können wir einfach hinschreiben so wie \n",
    "\n",
    "<code>27\\*x1-15\\*x2 \\<= 12</code>\n",
    "    \n",
    "Eine solche Ungleichung müssen wir allerdings mit <code>model</code> verknüpfen. Das geschieht, indem wir die Ungleichung zu <code>model</code> *addieren*. Dh, wir schreiben:\n",
    "    \n",
    "<code>model += 27\\*x1-15\\*x2 \\<= 12</code>\n",
    "    \n",
    "(Der Operator <code>+=</code> ist eine Kurzschreibweise für <code>model = model + ...</code>.) Statt <code>\\<=</code> können wir auch <code>\\>=</code> und <code>==</code> verwenden. Strikte Ungleichungen, also <code>\\<</code> oder <code>\\></code>, sind jedoch nicht möglich.\n",
    "    \n",
    "### Aufgabe: Bedingungen\n",
    "Fügen Sie Bedingungen zu <code>model</code> hinzu!"
   ]
  },
  {
   "cell_type": "code",
   "execution_count": 7,
   "id": "5f7fff2a-f17f-4a30-9827-32db790313c5",
   "metadata": {},
   "outputs": [],
   "source": [
    "### Fügen Sie hier Ihren Code ein ###\n",
    "model += -4*x1+5*x2 <= 14\n",
    "model += x1+5*x2 <= 15\n",
    "model += 2*x1+x2 <= 8"
   ]
  },
  {
   "cell_type": "markdown",
   "id": "e8ca28aa-d78f-467e-a322-e3cb6801ed7b",
   "metadata": {},
   "source": [
    "Schließlich müssen wir den solver starten und die Lösung auslesen. Mit <code>model.optimize</code> starten wir den solver. Danach kann die Lösung ausgelesen werden, und zwar durch anhängen von <code>.x</code> an die entsprechende Variable. Dh, für die Variable <code>x1</code> wäre das <code>x1.x</code>. (Ja, das kann manchmal ein wenig verwirrend aussehen. Angenommen zB es gäbe eine Variable <code>x</code>, dann wäre der *Wert* der Variable in <code>x.x</code> gespeichert.)\n",
    "\n",
    "Wie machen wir nun die Ausgabe? Mit <code>print</code>. Der Funktion <code>print</code> kann man einen Muster-String übergeben, in den dann Werte eingesetzt werden. Das geht so:\n",
    "\n",
    "<code>print(\"Hier kommt der erste Wert: {} und dann auch schon der zweite: {}\".format(42,27))</code>\n",
    "\n",
    "Was passiert hier? Überall wo im String geschweifte Klammern <code>{}</code> stehen, setzt <code>format</code> Werte ein, und zwar hier an erster Stelle <code>42</code> und beim zweiten Vorkommen von <code>{}</code> eben die <code>27</code>. Probieren wir das aus:"
   ]
  },
  {
   "cell_type": "code",
   "execution_count": 8,
   "id": "f7b0330b-0185-4f01-a29a-5b3c15a23034",
   "metadata": {},
   "outputs": [
    {
     "name": "stdout",
     "output_type": "stream",
     "text": [
      "Hier kommt der erste Wert: 42 und dann auch schon der zweite: 27\n"
     ]
    }
   ],
   "source": [
    "print(\"Hier kommt der erste Wert: {} und dann auch schon der zweite: {}\".format(42,27))"
   ]
  },
  {
   "cell_type": "markdown",
   "id": "43103690-eff2-45fe-b918-61b61107ad39",
   "metadata": {},
   "source": [
    "Das nutzen wir nun, um die Werte <code>x1.x</code> und <code>x2.x</code> auszugeben. \n",
    "\n",
    "### Aufgabe: Optimieren\n",
    "Starten Sie die Optimierung und geben Sie die optimalen Werte für <code>x1</code> und <code>x2</code> mit <code>print</code> aus!"
   ]
  },
  {
   "cell_type": "code",
   "execution_count": 9,
   "id": "64923e5e-f8be-4360-9a39-c58895061596",
   "metadata": {},
   "outputs": [
    {
     "name": "stdout",
     "output_type": "stream",
     "text": [
      "Welcome to the CBC MILP Solver \n",
      "Version: Trunk\n",
      "Build Date: Oct 24 2021 \n",
      "\n",
      "Starting solution of the Linear programming problem using Primal Simplex\n",
      "\n",
      "Optimale Lösung: \n",
      "x1=2.7777777777777777 / x2=2.4444444444444446\n"
     ]
    }
   ],
   "source": [
    "### Fügen Sie hier Ihren Code ein ###\n",
    "model.optimize()\n",
    "print(\"Optimale Lösung: \")\n",
    "print(\"x1={} / x2={}\".format(x1.x,x2.x))"
   ]
  },
  {
   "cell_type": "markdown",
   "id": "e8fbf83b-58d5-4acd-9341-7fe31b1b40ab",
   "metadata": {},
   "source": [
    "(Der solver ist recht mitteilsam. Wenn Sie das nervt, so können Sie das Geblabbel mit <code>model.verbose=0</code> ausschalten.)\n",
    "\n",
    "Wir nutzen die obige Visualisierungsmethode, um uns das Optimum auch graphisch anzuzeigen."
   ]
  },
  {
   "cell_type": "code",
   "execution_count": 10,
   "id": "a8293969-9b59-41d1-a071-02cf2c5fe541",
   "metadata": {},
   "outputs": [
    {
     "data": {
      "image/png": "[encoded data removed]",
      "text/plain": [
       "<Figure size 500x500 with 1 Axes>"
      ]
     },
     "metadata": {},
     "output_type": "display_data"
    }
   ],
   "source": [
    "show_poly(solution=(x1.x,x2.x))"
   ]
  },
  {
   "cell_type": "markdown",
   "id": "df1507d9-19d8-48fb-8234-0f236ead2498",
   "metadata": {},
   "source": [
    "Schließlich interessiert uns natürlich auch der Zielfunktionswert am Optimum. Den bekommen wir so:"
   ]
  },
  {
   "cell_type": "code",
   "execution_count": 16,
   "id": "60ba4313-da9f-4031-a24d-d37154a50205",
   "metadata": {},
   "outputs": [
    {
     "name": "stdout",
     "output_type": "stream",
     "text": [
      "Optimaler Zielfunktionswert: 6.444444444444445\n"
     ]
    }
   ],
   "source": [
    "OPT=model.objective_value\n",
    "print(\"Optimaler Zielfunktionswert: {}\".format(OPT))"
   ]
  }
 ],
 "metadata": {
  "kernelspec": {
   "display_name": "Python 3 (ipykernel)",
   "language": "python",
   "name": "python3"
  },
  "language_info": {
   "codemirror_mode": {
    "name": "ipython",
    "version": 3
   },
   "file_extension": ".py",
   "mimetype": "text/x-python",
   "name": "python",
   "nbconvert_exporter": "python",
   "pygments_lexer": "ipython3",
   "version": "3.11.0"
  }
 },
 "nbformat": 4,
 "nbformat_minor": 5
}
