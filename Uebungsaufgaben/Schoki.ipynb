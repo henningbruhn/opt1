{
 "cells": [
  {
   "cell_type": "markdown",
   "id": "0591f1dc-cdef-479f-824f-6cdbafc4ad94",
   "metadata": {},
   "source": [
    "**<div align=\"center\"><span style=\"font-size:4em\">Lösung</span></div>**\n",
    "# Programmieraufgabe: Schokoladentafeln\n",
    "Eine Manufaktur kann kleine und große Tafeln Schokolade herstellen. Pro Stunde können entweder $r_k$ kleine oder $r_g$ große Tafeln produziert werden. Jede kleine Tafel bringt einen Gewinn von $p_k$ Cent ein, während eine große Tafel $p_g$ Cent Gewinn liefert. Erfahrungsgemäß können pro Woche bis zu $m_k$ kleine und bis zu $m_g$ große Tafeln verkauft werden. In der Woche kann die Manufaktur 40 Stunden lang Schokolade produzieren.\n",
    "\n",
    "\n",
    "| | | | | |\n",
    "|:----|---:|:--|:---|---:|\n",
    "|$r_k:$| 170 | | $r_g$: | 129 |\n",
    "|$p_k:$| 19 | | $p_g$: | 24 |\n",
    "|$m_k:$| 5990 | | $m_g$: | 4850 |\n",
    "\n",
    "\n",
    "Stellen Sie lineares Programm auf, um die folgende Frage zu beantworten: Wie viele Tafeln welcher Art sollte die Manufaktur pro Woche herstellen, um ihren Gewinn zu maximieren? Eine kleine technische Feinheit: Eigentlich müsste die Anzahl der Tafeln immer eine ganze (nicht-negative) Zahl sein, da die Manufaktur natürlich keine 173,3852 Schokoladentafeln herstellen kann. Allerdings sind die erwartbaren Mengen so groß, dass es keinen praktischen Unterschied macht, ob nun 173,3852 oder 173 Tafeln hergestellt werden. Dh, wir werden am Ende die Zahl der Tafeln runden und können daher erst einmal jede nicht-negative Anzahl, ganzzahlig oder nicht, an Tafeln zulassen. \n",
    "\n",
    "Was ist die optimale Lösung der folgenden Instanz? \n",
    "\n",
    "### Aufgabe\n",
    "Geben Sie den maximalen Profit (in Euro) sowie die optimalen Anzahlen an großen und kleinen Tafeln an! Die Anzahl der Tafeln soll dafür gerundet werden. Nutzen Sie dazu den Befehl <code>round</code> wie in:"
   ]
  },
  {
   "cell_type": "code",
   "execution_count": null,
   "id": "d5d9301f-01c3-4271-bf57-b318d6eccc0a",
   "metadata": {},
   "outputs": [],
   "source": [
    "round(3.142)"
   ]
  },
  {
   "cell_type": "markdown",
   "id": "c204213b-3111-4094-8146-2f2318760d96",
   "metadata": {},
   "source": [
    "## Installation / Import der MIP-Bibliothek\n",
    "\n",
    "Wenn Sie in Google Colab arbeiten, dann verwenden Sie die nächste Zelle so wie sie ist. Wenn Sie auf dem eigenen Rechner arbeiten und mip bereits installiert haben, dann löschen Sie die nächste Zelle oder kommentieren Sie per Raute den Installationsbefehl."
   ]
  },
  {
   "cell_type": "code",
   "execution_count": null,
   "id": "0e7cb4c0-bf91-46e8-80a8-4a9077196c06",
   "metadata": {},
   "outputs": [],
   "source": [
    "# für google colab\n",
    "!pip install mip  # Löschen / Auskommentieren, wenn Sie mip bereits installiert haben."
   ]
  },
  {
   "cell_type": "code",
   "execution_count": null,
   "id": "c5a3a976-49c4-40ea-b25f-76ba0e99bfe5",
   "metadata": {},
   "outputs": [],
   "source": [
    "import mip # Wir wollen die mip-Bibliothek verwenden\n",
    "\n",
    "# Konstanten, die die Instanz definieren\n",
    "r_k = 170\n",
    "r_g = 129\n",
    "m_k = 5990\n",
    "m_g = 4850\n",
    "p_k = 19\n",
    "p_g = 24"
   ]
  },
  {
   "cell_type": "markdown",
   "id": "591a96fa-c4ca-4fa3-a1b0-dfe525ca364e",
   "metadata": {},
   "source": [
    "## Lösung\n"
   ]
  },
  {
   "cell_type": "code",
   "execution_count": null,
   "id": "82c610a1-7196-4405-8107-87a81723fc6c",
   "metadata": {},
   "outputs": [],
   "source": [
    "### Fügen Sie hier Ihren Code ein ###"
   ]
  }
 ],
 "metadata": {
  "kernelspec": {
   "display_name": "Python 3",
   "language": "python",
   "name": "python3"
  },
  "language_info": {
   "codemirror_mode": {
    "name": "ipython",
    "version": 3
   },
   "file_extension": ".py",
   "mimetype": "text/x-python",
   "name": "python",
   "nbconvert_exporter": "python",
   "pygments_lexer": "ipython3",
   "version": "3.8.8"
  }
 },
 "nbformat": 4,
 "nbformat_minor": 5
}
