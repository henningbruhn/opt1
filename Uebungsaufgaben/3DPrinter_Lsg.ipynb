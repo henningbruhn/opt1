{
 "cells": [
  {
   "cell_type": "markdown",
   "id": "6f0484ec-ee0c-4104-b9e2-65c6c431100a",
   "metadata": {},
   "source": [
    "**<div align=\"center\"><span style=\"font-size:4em\">Lösung</span></div>**\n",
    "# Programmieraufgabe: 3D-Printer\n",
    "\n",
    "Eine kleine Firma betreibt professionellen 3D-Druck. In der Woche kann die Firma den 3D-Drucker $T$ Stunden betreiben. Die Aufträge $A_1,\\ldots, A_n$ werden der Firma angeboten. Die Firma will gewisse dieser Aufträge auswählen und die anderen ablehnen (oder auf später verschieben), und so den Wochengewinn maximieren. Jeder Auftrag $A_i$ ist durch eine Bearbeitungsdauer $d_i$ (in Stunden) und einen Gewinn $p_i$ (in Euro) beschrieben. Dazu kommen gewisse technische Unterschiede in den Aufträgen, die gegebenfalls eine Reinigung oder einen Umbau des 3D-Druckers bedingen. Wir werden diese Unterschiede der Einfachheit unter dem Stichwort Substrat $s_i$ zusammenfassen: Ein Auftrag braucht vielleicht nur schnödes graues Plastik, ein anderer eine Plastik-Metallmischung in orange. (Ich habe keine Ahnung wie 3D-Drucker funktionieren.)\n"
   ]
  },
  {
   "cell_type": "markdown",
   "id": "e6bcec83-9271-44ae-811e-4c996f169ff3",
   "metadata": {},
   "source": [
    "### Aufgabe (a): Einfaches MIP\n",
    "Implementieren Sie ein MIP und lösen Sie <code>simple_instance</code>. Führen Sie dazu Indikatorvariablen <code>x[i]</code> ein, die angeben, ob der Auftrag <code>i</code> angenommen wird oder nicht. Führen Sie zusätzlich eine Variable <code>profit</code> ein, die den Gewinn beziffert. Nutzen Sie den Code unten, um die angenommenen Aufträge und den Gewinn auszugeben."
   ]
  },
  {
   "cell_type": "code",
   "execution_count": 1,
   "id": "f04260e3-b6d6-4502-ad0f-7ef908defe68",
   "metadata": {},
   "outputs": [],
   "source": [
    "def simple_instance():\n",
    "    T = 30\n",
    "    d = [2,3,6,3,4,7,4,2,4,5]\n",
    "    p = [22,31,65,33,42,71,41,22,30,59]\n",
    "    return T,d,p"
   ]
  },
  {
   "cell_type": "markdown",
   "id": "9501220c-2b8e-4a34-b8f0-6416c9c1d3f0",
   "metadata": {},
   "source": [
    "Wie immer muss das Paket <code>mip</code> installiert sein. In Colab (oder auf Ihrem eigenen Rechner) installieren Sie <code>mip</code> gegebenfalls durch Löschen der Raute unten. "
   ]
  },
  {
   "cell_type": "code",
   "execution_count": 2,
   "id": "536ddf29-129d-459a-9747-2ad4c10a7e72",
   "metadata": {},
   "outputs": [],
   "source": [
    "# Raute Löschen, um mip zu installieren\n",
    "# !pip install mip\n",
    "import mip"
   ]
  },
  {
   "cell_type": "markdown",
   "id": "6bf2c363-19aa-40ec-8b2e-e32c50312be3",
   "metadata": {},
   "source": [
    "### Lösung (a)\n",
    "\n",
    "Als erstes instantiieren wir das Modell und führen Indikatorvariablen $x_i$ ein, die angeben, ob wir Auftrag $A_i$ annehmen oder nicht. Wir definieren zudem eine Variable für den Gewinn."
   ]
  },
  {
   "cell_type": "code",
   "execution_count": 3,
   "id": "34882934-44c4-4cbb-abd4-dc781d2a29a2",
   "metadata": {},
   "outputs": [],
   "source": [
    "T,d,p=simple_instance()\n",
    "n=len(d)\n",
    "\n",
    "model=mip.Model()\n",
    "# Indikator x[i], ob Auftrag i ausgeführt wird\n",
    "x = [model.add_var(var_type=mip.BINARY) for _ in range(n)] \n",
    "profit = model.add_var() # automatically non-negative"
   ]
  },
  {
   "cell_type": "markdown",
   "id": "4b20e6fe-80fa-4b02-b165-4022db97aa91",
   "metadata": {},
   "source": [
    "Nun die einzige Bedingung: Wir dürfen die Produktionszeit des 3D-Druckers nicht übersteigen. Als zusätzliche Bedingung berechnen wir den Gewinn."
   ]
  },
  {
   "cell_type": "code",
   "execution_count": 4,
   "id": "be00a9e1-85be-49a5-91c7-e3f62f3a69c7",
   "metadata": {},
   "outputs": [],
   "source": [
    "model+= mip.xsum( d[i]*x[i] for i in range(n)) <= T\n",
    "profit = mip.xsum(p[i]*x[i] for i in range(n))"
   ]
  },
  {
   "cell_type": "markdown",
   "id": "a22452d9-771a-4fa7-b67a-88ce1cbc0df5",
   "metadata": {},
   "source": [
    "Zielfunktion ist nun einfach die Maximierung von <code>profit</code>. Wir führen die Optimierung dann auch gleich durch."
   ]
  },
  {
   "cell_type": "code",
   "execution_count": 5,
   "id": "bb0e5c38-17c5-4384-b9e5-a8490fcd1625",
   "metadata": {},
   "outputs": [
    {
     "data": {
      "text/plain": [
       "<OptimizationStatus.OPTIMAL: 0>"
      ]
     },
     "execution_count": 5,
     "metadata": {},
     "output_type": "execute_result"
    }
   ],
   "source": [
    "model.objective=mip.maximize(profit)\n",
    "model.verbose=0 # suppress lengthy solver output\n",
    "model.optimize()"
   ]
  },
  {
   "cell_type": "markdown",
   "id": "3bd831ee-2990-4d02-9342-95fddd4255a2",
   "metadata": {},
   "source": [
    "Schließlich die Ausgabe der Lösung."
   ]
  },
  {
   "cell_type": "code",
   "execution_count": 6,
   "id": "1f59f84a-be2d-423f-ace8-cba6d310dd0b",
   "metadata": {},
   "outputs": [
    {
     "name": "stdout",
     "output_type": "stream",
     "text": [
      "Angenommene Aufträge: [0, 1, 2, 3, 4, 5, 9]\n",
      "Gewinn: 323.0EUR\n"
     ]
    }
   ],
   "source": [
    "accepted_jobs=[i for i in range(n) if x[i].x>0]\n",
    "print(\"Angenommene Aufträge: {}\".format(accepted_jobs))\n",
    "print(\"Gewinn: {}EUR\".format(profit.x))"
   ]
  },
  {
   "cell_type": "markdown",
   "id": "107e4174-4848-47fb-ab67-45ed92aeeaae",
   "metadata": {},
   "source": [
    "## MIP mit Rüstzeiten\n",
    "Das Modell bisher war sehr einfach. In der Realität kommen oft Rüstzeiten dazu: Der 3D-Drucker muss umgerüstet, eventuell gereinigt werden, wenn sich das Substrat ändert. Bestand etwa bei einem Auftrag das Substrat aus grauem Plastik und soll nun der folgende Auftrag mit weißem Plastik durchgeführt werden, so muss der Drucker gereinigt werden, um Farbfehler zu vermeiden. Wie viel Zeit auf die Umrüstung / Reinigung verwendet werden muss, hängt dabei davon ab, von welchem Substrat auf welches Substrat gewechselt wird. Konkret: Im Gegensatz zu vorher muss nun eine Reihenfolge der angenommenen Aufträge bestimmt werden, und wenn dann auf einen Auftrag $A_i$ mit Substrat $k=s_i$ der Auftrag $A_j$ mit $\\ell=s_j$ folgt, wird eine Rüstzeit von $r_{k,\\ell}$ nötig.\n",
    "\n",
    "Es sei $\\{1,\\ldots, C\\}$ die Menge der unterschiedlichen Substrate. Für die Rüstzeiten soll gelten:\n",
    "* $r_{k,\\ell}\\geq 0$ für alle $k,\\ell\\in \\{1,\\ldots, C\\}$, dh, keine Reisen in die Vergangenheit.\n",
    "* $r_{k,k}=0$ für all $k\\in\\{1,\\ldots, C\\}$, dh wenn das Substrat nicht gewechselt wird, fallen keine Rüstzeiten an.\n",
    "* es gilt eine Dreiecksungleichung $r_{k,m}\\leq r_{k,\\ell}+r_{\\ell,m}$ für alle $k,\\ell,m\\in\\{1,\\ldots, C\\}$, dh, Rüstzeiten können nicht verkürzt werden, in dem auf ein drittes Substrat gewechselt wird. (Ist ja klar.)\n",
    "\n",
    "Es kann aber durchaus $r_{k,\\ell}\\neq r_{\\ell,k}$ gelten, dh, die Rüstzeiten sind nicht notwendig symmetrisch. Der Wechsel von weißem Substrat auf graues erfordert eventuell eine kürzere Reinigung als umgekehrt.\n",
    "\n",
    "Am Ende ist keine Reinigung nötig. (Ich weiß, igitt.)"
   ]
  },
  {
   "cell_type": "markdown",
   "id": "3053e67e-7eda-4d44-9d77-3e5269b256b3",
   "metadata": {},
   "source": [
    "### Aufgabe (b): Reihenfolge \n",
    "Argumentieren Sie, dass alle (angenommenen) Aufträge mit gleichem Substrat konsekutiv ausgeführt werden können. Dh, es reicht aus, die Substrate der angenommenen Aufträge in eine Reihenfolge zu bringen. Schreiben Sie Ihre Argumentation in die folgende *markdown*-Zelle."
   ]
  },
  {
   "cell_type": "markdown",
   "id": "869af14d-f72e-4c8d-93c2-822f2638e3b0",
   "metadata": {},
   "source": [
    "### Lösung (b)\n",
    "Sei $R$ eine Reihung der angenommenen Aufträge, in der die Aufträge mit gleichem Substrat nicht konsekutiv sind. \n",
    "Dann gibt es in $R$ Aufträge $A_{i_1},A_{i_2},A_{i_3}$ mit Substraten $\\ell=s_{i_1}=s_{i_3}$ und $k=s_{i_2}\\neq \\ell$, so dass die zeitliche Reihung wie folgt ist:\n",
    "$$R:\\:\\ldots,A_{i_1},\\ldots,A_{i_2}, A_{i_3},A_{i_4}\\ldots$$\n",
    "Dabei deuten Punkte mögliche weitere Aufträge an und $A_{i_4}$ sei der auf $A_{i_3}$ folgende Auftrag. Wenn $A_{i_3}$ der letzte Auftrag ist, so fügen wir einen künstlichen Auftrag $A_{i_4}$ hinzu, der eine Beabeitungsdauer von $0$ hat und keinerlei Umrüstung erfordert (Rüstzeit $0$, egal welcher Auftrag davor kommt).\n",
    "\n",
    "Wir sortieren um: der Auftrag $A_{i_3}$ soll nun direkt nach $A_{i_1}$ ausgeführt werden:\n",
    "$$R':\\:\\ldots,A_{i_1},A_{i_3}\\ldots,A_{i_2},A_{i_4},\\ldots$$\n",
    "Wie ändern sich die Rüstzeiten? Da $r_{\\ell,\\ell}=0$, entstehen keine neuen Rüstzeiten, wenn $A_{i_3}$ direkt auf $A_{i_1}$ folgt. Bei $A_{i_2}$ ändert sich jedoch etwas: Sei $m=s_{i_4}$ das Substrat von $A_{i_4}$. Dann fielen beim Wechsel $A_{i_2}\\rightarrow A_{i_3}\\rightarrow A_{i_4}$ in $R$ die  Rüstzeiten $r_{k,\\ell}+r_{\\ell,m}$ an. In $R'$ hingegen fallen nur Rüstzeiten bei $A_{i_2}\\rightarrow A_{i_4}$ von $r_{k,m}$ an. Da, nach Dreiecksungleichung, $r_{k,m}\\leq r_{k,\\ell}+r_{\\ell,m}$ erhöhen sich die Rüstzeiten insgesamt nicht. So können wir also schrittweise die Aufträge umsortieren bis identische Substraten konsekutiv in den Aufträgen auftreten. "
   ]
  },
  {
   "cell_type": "markdown",
   "id": "a7653bf4-c60d-466f-8b9d-18e20b6b9ce7",
   "metadata": {},
   "source": [
    "### Aufgabe (c): MIP mit Rüstzeiten\n",
    "Implementieren Sie das MIP mit Rüstzeiten und lösen Sie <code>small_instance</code> oder <code>large_instance</code>. \n",
    "\n",
    "Anleitung: Wie oben führen Sie Variablen <code>x[i]</code> und <code>profit</code> ein. Führen Sie zusätzlich für $k,p=1,\\ldots,C$ eine Indikatorvariable <code>z[k][p]</code> ein, die bestimmt, ob das Substrat $k$ an $p$ter Stelle der Reihung der Substrate stehen soll. Die Variable <code>R</code> soll die Gesamtrüstzeit bezeichnen. Nutzen Sie den Code unten, um die angenommenen Aufträge, die Reihung der Substrate, die Gesamtrüstzeit und den Gewinn auszugeben. Sie werden sicher noch weitere Variablen einführen müssen."
   ]
  },
  {
   "cell_type": "code",
   "execution_count": 7,
   "id": "3d7339a8-da7f-42e1-81c5-5cbc00f32659",
   "metadata": {},
   "outputs": [],
   "source": [
    "def small_instance():\n",
    "    T,d,p=simple_instance()\n",
    "    s = [1, 2, 0, 2, 3, 0, 3, 1, 3, 4]\n",
    "    r = [[0, 6, 8, 7, 7],\n",
    "         [6, 0, 5, 4, 4],\n",
    "         [5, 5, 0, 4, 4],\n",
    "         [4, 4, 6, 0, 7],\n",
    "         [8, 6, 7, 7, 0]]\n",
    "    C=max(s)+1\n",
    "    return T,d,p,s,r,C\n",
    "\n",
    "def large_instance():\n",
    "    T = 60\n",
    "    d = [2,3,6,3,4,7,4,2,4,5,6,2,5,7,2,3,4,3,7,8,6,6,2,3,5,9,6,7,4,1]\n",
    "    p = [22,31,65,33,42,71,41,22,30,59,63,22,51,72,27,38,46,36,77,84,64,64,23,32,53,91,61,71,43,15]\n",
    "    s = [1, 2, 0, 2, 3, 0, 3, 1, 3, 4, 1, 1, 4, 0, 1, 2, 3, 2, 0, 0, 4, 4, 3, 2, 1, 0, 1, 2, 3, 0]\n",
    "    r = [[0, 6, 8, 7, 7],\n",
    "         [6, 0, 5, 4, 4],\n",
    "         [5, 5, 0, 4, 4],\n",
    "         [4, 4, 6, 0, 7],\n",
    "         [8, 6, 7, 7, 0]]\n",
    "    C=max(s)+1\n",
    "    return T,d,p,s,r,C"
   ]
  },
  {
   "cell_type": "markdown",
   "id": "f326628e-3ac9-4dc3-a8f2-2de19ab18a74",
   "metadata": {},
   "source": [
    "### Lösung (c)\n",
    "Wir stellen zunächst das MIP auf:\n",
    "\\begin{align}\n",
    "\\max\\quad & \\sum_{i=1}^np_ix_i & \\\\\n",
    "\\textsf{unter}\\quad & \\sum_{i=1}^n d_ix_i+R\\leq T & (1) \\\\\n",
    "& R=\\sum_{k=1}^C\\sum_{\\ell=1}^Cr_{k,\\ell}z_{k,\\ell} & (2) \\\\\n",
    "& z_{k,\\ell}\\geq y_{k,p}+y_{\\ell,p+1}-1\\quad\\textsf{ für alle }p=1,\\ldots, C-1\\textsf{ und }k,\\ell=1,\\ldots, C & (3) \\\\\n",
    "& x_i\\leq \\sum_{p=1}^Cz_{s_i,p}\\quad\\textsf{ für alle }i=1\\ldots,n & (4) \\\\\n",
    "& z_{k,p+1}\\leq z_{k,p}\\quad\\textsf{ für alle }p=1,\\ldots, C-1\\textsf{ und }k=1,\\ldots, C & (5)\\\\\n",
    "& x_i,y_{k,\\ell},z_{k,p}\\in\\{0,1\\}\\quad\\textsf{ für alle }i=1,\\ldots n\\textsf{ und }k,\\ell,p=1,\\ldots,C & (6)\n",
    "\\end{align}\n",
    "\n",
    "Was machen die einzelnen Variablen und Bedingungen? Wie oben ist\n",
    "$$\n",
    "x_i=\\begin{cases} \n",
    "1 & \\textsf{ Auftrag $A_i$ wird angenommen}\\\\\n",
    "0 & \\textsf{ Auftrag $A_i$ wird abgelehnt}\n",
    "\\end{cases}\n",
    "$$\n",
    "Damit drückt die Zielfunktion wieder den Gewinn aus. Wir werden $R$ als die Gesamtrüstzeit identifizieren. Damit ist (1) die Kapazitätsbeschränkung: Gesamtbearbeitungszeit plus Gesamtrüstzeit darf die verfügbare Zeit $T$ nicht überschreiten. \n",
    "\n",
    "Wir werden erzwingen, dass \n",
    "$$\n",
    "z_{k,\\ell}=\\begin{cases} \n",
    "1 & \\textsf{ Substrat $\\ell$ folgt direkt auf Substrat $k$}\\\\\n",
    "0 & \\textsf{ sonst}\n",
    "\\end{cases}\n",
    "$$\n",
    "Damit ist mit (2) $R$ einfach die Gesamtrüstzeit. Um das Versprechen bezüglich $z_{k,\\ell}$ einzulösen, fügen wir die Variablen $y_{k,p}$ ein. Diese sollen folgendes erfüllen:\n",
    "$$\n",
    "y_{k,p}=\\begin{cases} \n",
    "1 & \\textsf{ Substrat $k$ ist an Position $p$ der Reihung}\\\\\n",
    "0 & \\textsf{ sonst}\n",
    "\\end{cases}\n",
    "$$\n",
    "Ist das der Fall, so sagt (3) aus, dass der Substratwechsel $k\\rightarrow \\ell$ auftritt, wenn es eine Position $p$ gibt, so dass $k$ an Position $p$ auftritt und $\\ell$ an Position $p+1$. Nun müssen wir noch die Substrate mit der Auftragsannahme verknüpfen. Dies geschieht in (4): Wenn der Auftrag $A_i$ angenommen wird, dann muss das entsprechende Substrat an einer Position der Reihung auftreten. Schließlich darf es keine Lücken in der Reihung geben, dh, es darf nicht vorkommen, dass an Position $p$ ein Substrat gereiht ist, an Position $p+1$ aber keines -- dies wird mit (5) erzwungen.\n",
    "\n",
    "Implementieren wir das MIP! Dazu kopieren wir zunächst die Teile aus (a), die wir wiederverwenden können."
   ]
  },
  {
   "cell_type": "code",
   "execution_count": 8,
   "id": "d1eef8f2-5e36-495d-9cdf-32fc9ba4b173",
   "metadata": {},
   "outputs": [],
   "source": [
    "T,d,p,s,r,C=small_instance()\n",
    "#T,d,p,s,r,C=large_instance()\n",
    "n=len(d)\n",
    "\n",
    "model=mip.Model()\n",
    "# Indikator x[i], ob Auftrag i ausgeführt wird\n",
    "x = [model.add_var(var_type=mip.BINARY) for _ in range(n)] \n",
    "profit = model.add_var() # automatically non-negative\n",
    "profit = mip.xsum(p[i]*x[i] for i in range(n))\n",
    "model.objective=mip.maximize(profit)"
   ]
  },
  {
   "cell_type": "markdown",
   "id": "5cbb0259-5031-4cca-86ec-9893074af521",
   "metadata": {},
   "source": [
    "Als nächstes fügen wir die Variablen $R$, $y_{k,\\ell}$ und $z_{k,p}$ hinzu."
   ]
  },
  {
   "cell_type": "code",
   "execution_count": 9,
   "id": "32aa4c19-7e5e-40a3-b38d-676f60ea254a",
   "metadata": {},
   "outputs": [],
   "source": [
    "y=[[model.add_var(var_type=mip.BINARY) for _ in range(C)] for _ in range(C)]\n",
    "z=[[model.add_var(var_type=mip.BINARY) for _ in range(C)] for _ in range(C)]\n",
    "R=model.add_var()"
   ]
  },
  {
   "cell_type": "markdown",
   "id": "b786b03b-daa3-4dfd-b1a9-9926d0aaa720",
   "metadata": {},
   "source": [
    "Bedingung (1): Es steht nur die Zeit $T$ zur Verfügung."
   ]
  },
  {
   "cell_type": "code",
   "execution_count": 10,
   "id": "2aa658a9-f6b8-4449-b480-630b90bac38d",
   "metadata": {},
   "outputs": [],
   "source": [
    "model += mip.xsum( d[i]*x[i] for i in range(n))+ R <= T"
   ]
  },
  {
   "cell_type": "markdown",
   "id": "11b0b807-2ef8-458e-b4b2-11d06ffad04f",
   "metadata": {},
   "source": [
    "Bedingung (2): $R$ ist die Gesamtrüstzeit."
   ]
  },
  {
   "cell_type": "code",
   "execution_count": 11,
   "id": "8b61b361-94eb-45ca-84a3-eda288b68bc7",
   "metadata": {},
   "outputs": [],
   "source": [
    "model += R==mip.xsum( r[k][l]*z[k][l] for k in range(C) for l in range(C) )"
   ]
  },
  {
   "cell_type": "markdown",
   "id": "94a2a765-9c4b-4d59-8546-0b8e005db957",
   "metadata": {},
   "source": [
    "Bedingung (3): Der Wechsel $k\\rightarrow \\ell$ tritt auf, wenn es ein $p$ gibt, so dass $k$ an Stelle $p$ und $\\ell$ an Stelle $p+1$ gereiht ist."
   ]
  },
  {
   "cell_type": "code",
   "execution_count": 12,
   "id": "d866d7cc-a406-49f9-b15d-12cac8447f96",
   "metadata": {},
   "outputs": [],
   "source": [
    "for p in range(C-1):\n",
    "    for k in range(C):\n",
    "        for l in range(C):\n",
    "            model += y[k][p]+y[l][p+1] <= z[k][l]"
   ]
  },
  {
   "cell_type": "markdown",
   "id": "63cbc8fa-5073-46db-902f-6dd178320e1c",
   "metadata": {},
   "source": [
    "Bedingung (4): Wenn der Auftrag $i$ das Substrat $k$ benötigt, dann muss es gereiht werden."
   ]
  },
  {
   "cell_type": "code",
   "execution_count": 13,
   "id": "2b37857e-54bf-4731-ac89-ead7930f7e96",
   "metadata": {},
   "outputs": [],
   "source": [
    "for i in range(n):\n",
    "    k=s[i]\n",
    "    model += mip.xsum( z[k][p] for p in range(C)) >= x[i]"
   ]
  },
  {
   "cell_type": "markdown",
   "id": "10a07c44-d6ba-479a-a18f-0b1100b8206a",
   "metadata": {},
   "source": [
    "Bedingung (5): Die Reihung darf keine Lücken enthalten."
   ]
  },
  {
   "cell_type": "code",
   "execution_count": 14,
   "id": "00232c5b-1e3f-4f68-9fc5-6ebd3eba9e9b",
   "metadata": {},
   "outputs": [],
   "source": [
    "for p in range(C-1):\n",
    "    for k in range(C):\n",
    "        model += z[k][p+1] <= z[k][p]"
   ]
  },
  {
   "cell_type": "markdown",
   "id": "38430814-1750-4ca5-a6dd-86e2dcf7c724",
   "metadata": {},
   "source": [
    "Wir starten die Optimierung:"
   ]
  },
  {
   "cell_type": "code",
   "execution_count": 15,
   "id": "d4eef67c-3575-4f99-a2f1-c8058d3504f4",
   "metadata": {},
   "outputs": [
    {
     "data": {
      "text/plain": [
       "<OptimizationStatus.OPTIMAL: 0>"
      ]
     },
     "execution_count": 15,
     "metadata": {},
     "output_type": "execute_result"
    }
   ],
   "source": [
    "model.verbose=0 # suppress lengthy solver output\n",
    "model.optimize()"
   ]
  },
  {
   "cell_type": "markdown",
   "id": "6aba9fd2-00cf-4e24-b7ec-974ba3c6172b",
   "metadata": {},
   "source": [
    "Ausgabe der Lösung"
   ]
  },
  {
   "cell_type": "code",
   "execution_count": 16,
   "id": "5927634b-fd96-484c-b647-7ccd92ff37fb",
   "metadata": {},
   "outputs": [
    {
     "name": "stdout",
     "output_type": "stream",
     "text": [
      "Angenommene Aufträge: [2, 4, 5, 6, 8]\n",
      "Reihenfolge der Substrate: [0, 3]\n",
      "Gesamtrüstzeit: 4.0\n",
      "Gewinn: 249.0EUR\n"
     ]
    }
   ],
   "source": [
    "sequence=[k for p in range(C) for k in range(C) if z[k][p].x>0] \n",
    "jobs=[i for i in range(n) if x[i].x>0]\n",
    "setup_time=R.x\n",
    "profit_opt=profit.x\n",
    "print(\"Angenommene Aufträge: {}\".format(jobs))\n",
    "print(\"Reihenfolge der Substrate: {}\".format(sequence))\n",
    "print(\"Gesamtrüstzeit: {}\".format(setup_time))\n",
    "print(\"Gewinn: {}EUR\".format(profit_opt))"
   ]
  }
 ],
 "metadata": {
  "kernelspec": {
   "display_name": "Python 3",
   "language": "python",
   "name": "python3"
  },
  "language_info": {
   "codemirror_mode": {
    "name": "ipython",
    "version": 3
   },
   "file_extension": ".py",
   "mimetype": "text/x-python",
   "name": "python",
   "nbconvert_exporter": "python",
   "pygments_lexer": "ipython3",
   "version": "3.8.8"
  }
 },
 "nbformat": 4,
 "nbformat_minor": 5
}
