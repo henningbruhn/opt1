{
 "cells": [
  {
   "cell_type": "markdown",
   "metadata": {},
   "source": [
    "**<div align=\"center\"><span style=\"font-size:4em\">Lösung</span></div>**\n",
    "# Capacitated facility location\n",
    "\n",
    "In diesem Notebook sollen Sie ein Ganzzahlprogramm implementieren, und zwar für das *capacitated facility location*-Problem. Wir erlauben dabei an jedem Standort, entweder ein kleines oder ein großes Depot zu eröffnen (aber nicht beides). Mehr zu dem Problem finden Sie in Abschnitt 5.7 des Skripts. Auch das Notebook \n",
    "[facility.ipnyb](https://colab.research.google.com/github/henningbruhn/opt1/blob/main/facility.ipynb)\n",
    "wird Ihnen nützlich sein.\n",
    "\n",
    "\\begin{align}\n",
    "\t\\min\\quad & \\sum_{i\\in\\mathcal F}y_i^kf_i^k+y_i^gf_i^g\n",
    "+\\sum_{i\\in\\mathcal F,j\\in\\mathcal D}x_{ij}c_{ij}, \n",
    "& y^{k},y^g\\in\\mathbb R^{\\mathcal F},\\, x\\in\\mathbb R^{\\mathcal F\\times\\mathcal D}\\\\\n",
    "\t\\textrm{unter}\\quad & \\sum_{j\\in\\mathcal D} x_{ij}\\leq q^ky_i^k+q^gy_i^g \n",
    "& \\textrm{für alle }i\\in\\mathcal F\\\\\n",
    "& y_i^k+y_i^g\\leq 1 & \\textrm{für alle }i\\in\\mathcal F\\\\\n",
    "\t& \\sum_{i\\in\\mathcal F}x_{ij}\\geq 1 & \\textrm{für alle }j\\in\\mathcal D\\\\\n",
    "\t& x_{ij}\\in\\{0,1\\},\\,y_i^k,y_i^g\\in\\{0,1\\} & \\textrm{für alle }i\\in\\mathcal F,\\,j\\in\\mathcal D\n",
    "\\end{align}\n",
    "\n",
    "\n",
    "\n",
    "\n",
    "Verwendet wird das <code>mip</code>-Paket. Dokumentation findet sich [hier.](https://python-mip.readthedocs.io/en/latest/)\n",
    "Wenn Sie in Google Colab arbeiten, dann verwenden Sie die nächste Zelle so wie sie ist. Wenn Sie auf dem eigenen Rechner arbeiten und mip bereits installiert haben, dann löschen Sie die nächste Zelle oder kommentieren Sie per Raute den Installationsbefehl."
   ]
  },
  {
   "cell_type": "code",
   "execution_count": 1,
   "metadata": {},
   "outputs": [],
   "source": [
    "# für google colab\n",
    "!pip install mip  # Löschen / Auskommentieren, wenn Sie mip bereits installiert haben."
   ]
  },
  {
   "cell_type": "markdown",
   "metadata": {},
   "source": [
    "Wir brauchen einige Pakete."
   ]
  },
  {
   "cell_type": "code",
   "execution_count": 2,
   "metadata": {},
   "outputs": [],
   "source": [
    "import mip  ## Bibliothek für lineare Programme und MIPs\n",
    "import random\n",
    "import math\n",
    "import matplotlib.pyplot as plt\n",
    "import time"
   ]
  },
  {
   "cell_type": "markdown",
   "metadata": {},
   "source": [
    "## Erzeugung einer Zufallsinstanz\n",
    "\n",
    "Wie immer brauchen wir eine Beispielsinstanz, die wir zufällig erzeugen. Wir platzieren Standorte und Kunden zufällig in der Ebene. Als Anschluss-/Betriebskosten nehmen wir dann den gewöhnlichen Abstand in der Ebene. Die Konstruktionskosten wählen wir zufällig. Die Instanz wird in einem [dictionary](https://docs.python.org/3/tutorial/datastructures.html#dictionaries) gespeichert. Das ist eine Datenstruktur, die per Schlüsselwort verschiedenste Daten aufnehmen kann. Insbesondere sind folgende Informationen in dem dictionary <code>inst</code> enthalten:\n",
    "* <code>inst[\"facilities\"]</code>: eine Liste mit den Ebenenkoordinaten der Standorte für Depots\n",
    "* <code>inst[\"customers\"]</code>: eine Liste mit den Ebenenkoordinaten der Kunden\n",
    "* <code>inst[\"opening_costs_small\"]</code>: eine Liste mit den Konstruktionskosten für kleine Depots\n",
    "* <code>inst[\"opening_costs_large\"]</code>: eine Liste mit den Konstruktionskosten für große Depots\n",
    "* <code>inst[\"capacity_small\"]</code>: die Kapazität eines kleinen Depots (gleich für alle kleinen Depots)\n",
    "* <code>inst[\"capacity_large\"]</code>: die Kapazität eines großen Depots (gleich für alle großen Depots)\n",
    "* <code>inst[\"num_facilities\"]</code>: Anzahl der Standorte\n",
    "* <code>inst[\"num_customers\"]</code>: Anzahl der Kunden"
   ]
  },
  {
   "cell_type": "code",
   "execution_count": 3,
   "metadata": {},
   "outputs": [],
   "source": [
    "### Sie müssen diesen Code nicht verstehen. Wichtig ist nur, dass die Instanz in der Variablen inst gespeichert wird.\n",
    "def rnd_instance(num_facilities=30,num_customers=1000):\n",
    "    random.seed(42)\n",
    "    inst={}\n",
    "    inst[\"facilities\"]=[(random.random(),random.random()) for _ in range(num_facilities)]\n",
    "    inst[\"customers\"]=[(random.random(),random.random()) for _ in range(num_customers)]\n",
    "    inst[\"opening_costs_small\"]=[random.randint(7,14) for _ in range(num_facilities)]  #[10]*num_facilities\n",
    "    inst[\"opening_costs_large\"]=[random.randint(20,34) for _ in range(num_facilities)]\n",
    "    inst[\"capacity_small\"]=math.floor(0.5*num_customers/num_facilities)\n",
    "    inst[\"capacity_large\"]=round(3*num_customers/num_facilities)\n",
    "    inst[\"num_facilities\"]=num_facilities\n",
    "    inst[\"num_customers\"]=num_customers\n",
    "    return inst\n",
    "\n",
    "def distance(facility,customer):\n",
    "    px,py=facility\n",
    "    qx,qy=customer\n",
    "    return math.sqrt((px-qx)**2+(py-qy)**2)\n",
    "\n",
    "# Die eigentliche Instanz:\n",
    "inst=rnd_instance()"
   ]
  },
  {
   "cell_type": "markdown",
   "metadata": {},
   "source": [
    "Wie kommen wir nun an die Instanzdaten ran? So:"
   ]
  },
  {
   "cell_type": "code",
   "execution_count": 4,
   "metadata": {},
   "outputs": [
    {
     "data": {
      "text/plain": [
       "16"
      ]
     },
     "execution_count": 4,
     "metadata": {},
     "output_type": "execute_result"
    }
   ],
   "source": [
    "inst[\"capacity_small\"]"
   ]
  },
  {
   "cell_type": "markdown",
   "metadata": {},
   "source": [
    "### Aufgabe: facilities\n",
    "Implementieren Sie das obige Ganzzahlprogramm. Nutzen Sie den Code unten, um die Kosten und Eigenschaften der Lösung sowie die Rechenzeit auszugeben. Dazu legen Sie bitte im Ganzzahlprogramm folgende Variablen an:\n",
    "* <code>opening_costs</code> für die Konstruktionskosten \n",
    "* <code>connection_costs</code> für die Betriebskosten \n",
    "* <code>y_k</code> eine Binärvariable pro Standort, um anzuzeigen, ob dort ein kleines Depot eröffnet wird\n",
    "* <code>y_g</code> eine Binärvariable pro Standort, um anzuzeigen, ob dort ein großes Depot eröffnet wird\n",
    "\n",
    "Am einfachsten ist die Aufgabe, wenn Sie den Code aus dem Notebook\n",
    "[facility.ipnyb](https://colab.research.google.com/github/henningbruhn/opt1/blob/main/facility.ipynb)\n",
    "adaptieren."
   ]
  },
  {
   "cell_type": "markdown",
   "metadata": {},
   "source": [
    "### Lösung\n",
    "\n"
   ]
  },
  {
   "cell_type": "code",
   "execution_count": 5,
   "metadata": {},
   "outputs": [],
   "source": [
    "model=mip.Model()\n",
    "num_customers=inst[\"num_customers\"]\n",
    "num_facilities=inst[\"num_facilities\"]\n",
    "facilities=inst[\"facilities\"]\n",
    "customers=inst[\"customers\"]\n",
    "y_g=[model.add_var(var_type=mip.BINARY) for _ in range(num_facilities)]\n",
    "y_k=[model.add_var(var_type=mip.BINARY) for _ in range(num_facilities)]\n",
    "x=[[model.add_var(var_type=mip.BINARY) for _ in range(num_customers)] for _ in range(num_facilities)]\n",
    "\n",
    "opening_costs=mip.xsum(y_k[i]*inst[\"opening_costs_small\"][i]+y_g[i]*inst[\"opening_costs_large\"][i]  for i in range(num_facilities))\n",
    "connection_costs=mip.xsum(x[i][j]*distance(facilities[i],customers[j]) for i in range(num_facilities) for j in range(num_customers))\n",
    "\n",
    "model.objective=mip.minimize(opening_costs+connection_costs)\n",
    "\n",
    "for i in range(num_facilities):\n",
    "    for j in range(num_customers):\n",
    "        model+=x[i][j]<=inst[\"capacity_small\"]*y_k[i]+inst[\"capacity_large\"]*y_g[i]\n",
    "        \n",
    "for i in range(num_facilities):\n",
    "    model+= y_k[i]+y_g[i] <= 1\n",
    "    \n",
    "for j in range(num_customers):\n",
    "    model+=mip.xsum(x[i][j] for i in range(num_facilities)) >= 1"
   ]
  },
  {
   "cell_type": "markdown",
   "metadata": {},
   "source": [
    "Wir starten die Optimierung und messen die Rechenzeit."
   ]
  },
  {
   "cell_type": "code",
   "execution_count": 6,
   "metadata": {},
   "outputs": [
    {
     "name": "stdout",
     "output_type": "stream",
     "text": [
      "Gesamtkosten: 228.6\n",
      "  davon Betriebskosten: 165.6\n",
      "  davon Konstruktionskosten: 63.0\n",
      "Zahl großer / kleiner Depots: 0.0 / 7.0\n",
      "Rechenzeit für Optimierung: 12.5s\n"
     ]
    }
   ],
   "source": [
    "start=time.time() # Code zur Zeitmessung\n",
    "model.optimize()\n",
    "end=time.time()\n",
    "total_time=end-start\n",
    "\n",
    "total_costs=model.objective_value\n",
    "num_small_facilities=sum([y_k[i].x for i in range(num_facilities)])\n",
    "num_large_facilities=sum([y_g[i].x for i in range(num_facilities)])\n",
    "\n",
    "print(\"Gesamtkosten: {}\".format(round(total_costs,1)))\n",
    "print(\"  davon Betriebskosten: {}\".format(round(connection_costs.x,1)))\n",
    "print(\"  davon Konstruktionskosten: {}\".format(round(opening_costs.x,1)))\n",
    "print(\"Zahl großer / kleiner Depots: {} / {}\".format(num_large_facilities,num_small_facilities))\n",
    "print(\"Rechenzeit für Optimierung: {}s\".format(round(total_time,1)))"
   ]
  },
  {
   "cell_type": "markdown",
   "metadata": {},
   "source": [
    "### Aufgabe: Relaxierung\n",
    "Implementieren Sie das Ganzzahlprogramm noch einmal, nur dieses Mal mit reellwertigen Variablen. Dh, ersetzen Sie jede Binärvariable durch eine, die die Werte $[0,1]$ annehmen kann. Damit erhalten Sie ein gewöhnliches lineares Programm, oft (lineare) *Relaxierung* des ursprünglichen Programms genannt. Lassen Sie die Optimierung laufen und vergleichen Sie die optimalen Kosten und die Rechenzeit mit dem Ganzzahlprogramm oben. Was beobachten Sie? Anworten Sie **kurz** in einer *markdown*-Zelle. (Für robuste Aussagen über die Rechenzeit müsste man Ganzzahlprogramm und Relaxierung beide wiederholt lösen lassen und über die Rechenzeiten mitteln. Das ersparen wir uns.)"
   ]
  },
  {
   "cell_type": "markdown",
   "metadata": {},
   "source": [
    "### Lösung"
   ]
  },
  {
   "cell_type": "code",
   "execution_count": 7,
   "metadata": {},
   "outputs": [],
   "source": [
    "model=mip.Model()\n",
    "num_customers=inst[\"num_customers\"]\n",
    "num_facilities=inst[\"num_facilities\"]\n",
    "facilities=inst[\"facilities\"]\n",
    "customers=inst[\"customers\"]\n",
    "y_g=[model.add_var(ub=1) for _ in range(num_facilities)]\n",
    "y_k=[model.add_var(ub=1) for _ in range(num_facilities)]\n",
    "x=[[model.add_var(ub=1) for _ in range(num_customers)] for _ in range(num_facilities)]\n",
    "\n",
    "opening_costs=mip.xsum(y_k[i]*inst[\"opening_costs_small\"][i]+y_g[i]*inst[\"opening_costs_large\"][i]  for i in range(num_facilities))\n",
    "connection_costs=mip.xsum(x[i][j]*distance(facilities[i],customers[j]) for i in range(num_facilities) for j in range(num_customers))\n",
    "\n",
    "model.objective=mip.minimize(opening_costs+connection_costs)\n",
    "\n",
    "for i in range(num_facilities):\n",
    "    for j in range(num_customers):\n",
    "        model+=x[i][j]<=inst[\"capacity_small\"]*y_k[i]+inst[\"capacity_large\"]*y_g[i]\n",
    "        \n",
    "for i in range(num_facilities):\n",
    "    model+= y_k[i]+y_g[i] <= 1\n",
    "    \n",
    "for j in range(num_customers):\n",
    "    model+=mip.xsum(x[i][j] for i in range(num_facilities)) >= 1"
   ]
  },
  {
   "cell_type": "markdown",
   "metadata": {},
   "source": [
    "Identischer Code wie oben."
   ]
  },
  {
   "cell_type": "code",
   "execution_count": 8,
   "metadata": {},
   "outputs": [
    {
     "name": "stdout",
     "output_type": "stream",
     "text": [
      "Gesamtkosten: 109.5\n",
      "  davon Betriebskosten: 102.5\n",
      "  davon Konstruktionskosten: 7.0\n",
      "Zahl großer / kleiner Depots: 0.25000000000000017 / 0.0\n",
      "Rechenzeit für Optimierung: 0.1s\n"
     ]
    }
   ],
   "source": [
    "start=time.time()\n",
    "model.optimize()\n",
    "end=time.time()\n",
    "total_time=end-start\n",
    "\n",
    "total_costs=model.objective_value\n",
    "num_small_facilities=sum([y_k[i].x for i in range(num_facilities)])\n",
    "num_large_facilities=sum([y_g[i].x for i in range(num_facilities)])\n",
    "\n",
    "print(\"Gesamtkosten: {}\".format(round(total_costs,1)))\n",
    "print(\"  davon Betriebskosten: {}\".format(round(connection_costs.x,1)))\n",
    "print(\"  davon Konstruktionskosten: {}\".format(round(opening_costs.x,1)))\n",
    "print(\"Zahl großer / kleiner Depots: {} / {}\".format(num_large_facilities,num_small_facilities))\n",
    "print(\"Rechenzeit für Optimierung: {}s\".format(round(total_time,1)))"
   ]
  },
  {
   "cell_type": "markdown",
   "metadata": {},
   "source": [
    "Was beobachten wir? Die Relaxierung lässt sich viel schneller lösen. Die relaxierte Lösung hat jedoch deutlich geringere Kosten und scheint nicht viel mit der Lösung des Ganzzahlprogramms gemein zu haben. (Man beachte die Zahl der konstruierten Depots.)"
   ]
  }
 ],
 "metadata": {
  "kernelspec": {
   "display_name": "Python 3",
   "language": "python",
   "name": "python3"
  },
  "language_info": {
   "codemirror_mode": {
    "name": "ipython",
    "version": 3
   },
   "file_extension": ".py",
   "mimetype": "text/x-python",
   "name": "python",
   "nbconvert_exporter": "python",
   "pygments_lexer": "ipython3",
   "version": "3.8.8"
  }
 },
 "nbformat": 4,
 "nbformat_minor": 4
}
