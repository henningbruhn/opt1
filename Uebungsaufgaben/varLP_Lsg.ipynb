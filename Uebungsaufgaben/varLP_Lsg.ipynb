{
 "cells": [
  {
   "cell_type": "markdown",
   "id": "e2133e1f-bbb4-4098-85fc-82167a7854bd",
   "metadata": {},
   "source": [
    "**<div align=\"center\"><span style=\"font-size:4em\">Lösung</span></div>**\n",
    "# Einfaches LP variabler Größe\n",
    "In diesem Notebook lösen Sie ein relativ generisches lineares Programm, das eine variable und potentiell große Anzahl an Variablen und Bedingungen hat.\n",
    "\n",
    "\\begin{align}\n",
    "\\max\\quad & \\sum_{i=1}^nc_ix_i \\\\\n",
    "\\text{unter}\\quad & \\sum_{i=1}^na_{ij}x_i\\leq \\alpha_j \\text{ für jedes }j=1,\\ldots,m\\\\\n",
    "& \\sum_{i=1}^nb_ix_i=\\beta \\\\\n",
    "& x\\geq 0\n",
    "\\end{align}"
   ]
  },
  {
   "cell_type": "markdown",
   "id": "6b258ad1-16fe-413a-b593-5e2e382da73a",
   "metadata": {},
   "source": [
    "Wir benötigen das Paket <code>mip</code>. Wenn Sie Google Colab verwenden, dann lassen Sie die nächste Zelle so wie sie ist, um <code>mip</code> zu installieren. Wenn Sie auf Ihrem eigenen Rechner arbeiten, dann kommentieren Sie den Installationsbefehl aus bzw. löschen Sie die Zelle."
   ]
  },
  {
   "cell_type": "code",
   "execution_count": 1,
   "id": "89190e92-ce27-41e2-a834-257e76d1e60d",
   "metadata": {},
   "outputs": [
    {
     "name": "stdout",
     "output_type": "stream",
     "text": [
      "Requirement already satisfied: mip in /home/henning/anaconda3/envs/geo/lib/python3.11/site-packages (1.15.0)\n",
      "Requirement already satisfied: cffi==1.15.* in /home/henning/anaconda3/envs/geo/lib/python3.11/site-packages (from mip) (1.15.1)\n",
      "Requirement already satisfied: pycparser in /home/henning/anaconda3/envs/geo/lib/python3.11/site-packages (from cffi==1.15.*->mip) (2.21)\n"
     ]
    }
   ],
   "source": [
    "# für google colab\n",
    "!pip install mip  # Löschen / Auskommentieren, wenn Sie mip bereits installiert haben."
   ]
  },
  {
   "cell_type": "markdown",
   "id": "146bf683-e07e-4872-a4e5-56fbbe4f3409",
   "metadata": {},
   "source": [
    "Wir importieren drei Pakete:\n",
    "* <code>mip</code>: Das MIP-Paket;\n",
    "* <code>math</code>: Standard-Mathefunktionen; und\n",
    "* <code>random</code>: Zufallszahlen"
   ]
  },
  {
   "cell_type": "code",
   "execution_count": 2,
   "id": "7c8175d3-7c0f-4fa0-ac45-2d9ac6fa7bce",
   "metadata": {},
   "outputs": [],
   "source": [
    "import mip\n",
    "import math\n",
    "import random"
   ]
  },
  {
   "cell_type": "markdown",
   "id": "50024cc1-1adb-4e35-a249-e7503c55222c",
   "metadata": {},
   "source": [
    "Wir erzeugen die Instanz. Sie können den Code ignorieren. Wichtig ist nur: die Instanz wird in die Variablen <code>a</code>, <code>alpha</code>, <code>b</code>, <code>beta</code> und <code>c</code> gespeichert.\n"
   ]
  },
  {
   "cell_type": "code",
   "execution_count": 3,
   "id": "1c7aa734-edb5-4918-b1c3-cf44e79d9fb4",
   "metadata": {},
   "outputs": [],
   "source": [
    "n=100\n",
    "m=10\n",
    "a=[abs(math.sin(i)) for i in range(n)]\n",
    "\n",
    "random.seed(42)\n",
    "\n",
    "a=[[random.random() for _ in range(m)] for _ in range(n)]\n",
    "alpha=[random.random()*20 for _ in range(m)]\n",
    "b=[(-1)**i for i in range(n)]\n",
    "beta=5\n",
    "c=[abs(math.cos(27*i)) for i in range(n)]"
   ]
  },
  {
   "cell_type": "markdown",
   "id": "645bcf03-273d-48e2-89ae-917f75462b9f",
   "metadata": {},
   "source": [
    "### Aufgabe: Variablen\n",
    "Beschaffen Sie sich ein <code>mip.Model</code> und speichern Sie es in der Variable <code>model</code>. Fügen Sie die nötigen Variablen <code>x</code> hinzu. Nutzen Sie dazu die Listensyntax von Python \n",
    "\n",
    "<code>[... **for** ... **in** ...]</code>. "
   ]
  },
  {
   "cell_type": "code",
   "execution_count": 4,
   "id": "02ec6f53-52d1-4721-a132-25b4a1daba46",
   "metadata": {},
   "outputs": [],
   "source": [
    "model = mip.Model()\n",
    "x=[model.add_var() for _ in range(n)]"
   ]
  },
  {
   "cell_type": "markdown",
   "id": "051eb208-242d-4a3f-9f0d-0b8bb2b07245",
   "metadata": {},
   "source": [
    "### Aufgabe: Bedingungen\n",
    "Fügen Sie die Bedingungen hinzu. Die erste Bedingung ist tatsächlich eine Familie von Bedingungen. Sie werden daher Bedingungen in einer <code>for</code>-Schleife hinzufügen müssen. Die Funktion <code>mip.xsum</code> wird ebenfalls nötig sein."
   ]
  },
  {
   "cell_type": "code",
   "execution_count": 5,
   "id": "3699f072-d4d3-4cdb-941d-efc94db5c76d",
   "metadata": {},
   "outputs": [],
   "source": [
    "for j in range(m):\n",
    "    model += mip.xsum( a[i][j]*x[i] for i in range(n)) <= alpha[j]\n",
    "    \n",
    "model += mip.xsum( b[i]*x[i] for i in range(n)) == beta"
   ]
  },
  {
   "cell_type": "markdown",
   "id": "6e89ee6d-8bd6-4c4b-9774-c929d83e204c",
   "metadata": {},
   "source": [
    "### Aufgabe: Zielfunktion\n",
    "Fügen Sie die Zielfunktion hinzu. Sie werden die Funktion <code>mip.xsum</code> brauchen und mit <code>for</code> über die Variablen iterieren müssen."
   ]
  },
  {
   "cell_type": "code",
   "execution_count": 6,
   "id": "3b269005-d781-4bfc-9f97-7ef41de69208",
   "metadata": {},
   "outputs": [],
   "source": [
    "model.objective = mip.maximize( mip.xsum(c[i]*x[i] for i in range(n)) )"
   ]
  },
  {
   "cell_type": "markdown",
   "id": "ead7bda8-9d77-4f0b-a108-632954368467",
   "metadata": {},
   "source": [
    "### Aufgabe: Optimierung\n",
    "Starten Sie die Optimierung und geben Sie den Zielfunktionswert aus. "
   ]
  },
  {
   "cell_type": "code",
   "execution_count": 7,
   "id": "16a2bc36-e5b2-4375-9471-7eae8b837c65",
   "metadata": {},
   "outputs": [
    {
     "name": "stdout",
     "output_type": "stream",
     "text": [
      "Welcome to the CBC MILP Solver \n",
      "Version: Trunk\n",
      "Build Date: Oct 24 2021 \n",
      "\n",
      "Starting solution of the Linear programming problem using Dual Simplex\n",
      "\n",
      "Optimaler Zielfunktionswert: 11.06\n"
     ]
    }
   ],
   "source": [
    "model.optimize()\n",
    "OPT=model.objective_value\n",
    "print(\"Optimaler Zielfunktionswert: {}\".format(round(OPT,2)))"
   ]
  }
 ],
 "metadata": {
  "kernelspec": {
   "display_name": "Python 3 (ipykernel)",
   "language": "python",
   "name": "python3"
  },
  "language_info": {
   "codemirror_mode": {
    "name": "ipython",
    "version": 3
   },
   "file_extension": ".py",
   "mimetype": "text/x-python",
   "name": "python",
   "nbconvert_exporter": "python",
   "pygments_lexer": "ipython3",
   "version": "3.11.0"
  }
 },
 "nbformat": 4,
 "nbformat_minor": 5
}
