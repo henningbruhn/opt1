{
 "cells": [
  {
   "cell_type": "markdown",
   "id": "0591f1dc-cdef-479f-824f-6cdbafc4ad94",
   "metadata": {},
   "source": [
    "**<div align=\"center\"><span style=\"font-size:4em\">Lösung</span></div>**\n",
    "# Programmieraufgabe: Schokoladentafeln\n",
    "Eine Manufaktur kann kleine und große Tafeln Schokolade herstellen. Pro Stunde können entweder $r_k$ kleine oder $r_g$ große Tafeln produziert werden. Jede kleine Tafel bringt einen Gewinn von $p_k$ Cent ein, während eine große Tafel $p_g$ Cent Gewinn liefert. Erfahrungsgemäß können pro Woche bis zu $m_k$ kleine und bis zu $m_g$ große Tafeln verkauft werden. In der Woche kann die Manufaktur 40 Stunden lang Schokolade produzieren.\n",
    "\n",
    "\n",
    "| | | | | |\n",
    "|:----|---:|:--|:---|---:|\n",
    "|$r_k:$| 170 | | $r_g$: | 129 |\n",
    "|$p_k:$| 19 | | $p_g$: | 24 |\n",
    "|$m_k:$| 5990 | | $m_g$: | 4850 |\n",
    "\n",
    "\n",
    "Stellen Sie lineares Programm auf, um die folgende Frage zu beantworten: Wie viele Tafeln welcher Art sollte die Manufaktur pro Woche herstellen, um ihren Gewinn zu maximieren? Eine kleine technische Feinheit: Eigentlich müsste die Anzahl der Tafeln immer eine ganze (nicht-negative) Zahl sein, da die Manufaktur natürlich keine 173,3852 Schokoladentafeln herstellen kann. Allerdings sind die erwartbaren Mengen so groß, dass es keinen praktischen Unterschied macht, ob nun 173,3852 oder 173 Tafeln hergestellt werden. Dh, wir werden am Ende die Zahl der Tafeln runden und können daher erst einmal jede nicht-negative Anzahl, ganzzahlig oder nicht, an Tafeln zulassen. \n",
    "\n",
    "Was ist die optimale Lösung der folgenden Instanz? \n",
    "\n",
    "### Aufgabe\n",
    "Geben Sie den maximalen Profit (in Euro) sowie die optimalen Anzahlen an großen und kleinen Tafeln an! Die Anzahl der Tafeln soll dafür gerundet werden. Nutzen Sie dazu den Befehl <code>round</code> wie in:"
   ]
  },
  {
   "cell_type": "code",
   "execution_count": 1,
   "id": "d5d9301f-01c3-4271-bf57-b318d6eccc0a",
   "metadata": {},
   "outputs": [
    {
     "data": {
      "text/plain": [
       "3"
      ]
     },
     "execution_count": 1,
     "metadata": {},
     "output_type": "execute_result"
    }
   ],
   "source": [
    "round(3.142)"
   ]
  },
  {
   "cell_type": "markdown",
   "id": "c204213b-3111-4094-8146-2f2318760d96",
   "metadata": {},
   "source": [
    "## Installation / Import der MIP-Bibliothek\n",
    "\n",
    "Wenn Sie in Google Colab arbeiten, dann verwenden Sie die nächste Zelle so wie sie ist. Wenn Sie auf dem eigenen Rechner arbeiten und mip bereits installiert haben, dann löschen Sie die nächste Zelle oder kommentieren Sie per Raute den Installationsbefehl."
   ]
  },
  {
   "cell_type": "code",
   "execution_count": 2,
   "id": "0e7cb4c0-bf91-46e8-80a8-4a9077196c06",
   "metadata": {},
   "outputs": [
    {
     "name": "stdout",
     "output_type": "stream",
     "text": [
      "Requirement already satisfied: mip in /home/henning/anaconda3/lib/python3.8/site-packages (1.15.0)\n",
      "Requirement already satisfied: cffi==1.15.* in /home/henning/anaconda3/lib/python3.8/site-packages (from mip) (1.15.1)\n",
      "Requirement already satisfied: pycparser in /home/henning/anaconda3/lib/python3.8/site-packages (from cffi==1.15.*->mip) (2.20)\n"
     ]
    }
   ],
   "source": [
    "# für google colab\n",
    "!pip install mip  # Löschen / Auskommentieren, wenn Sie mip bereits installiert haben."
   ]
  },
  {
   "cell_type": "code",
   "execution_count": 3,
   "id": "c5a3a976-49c4-40ea-b25f-76ba0e99bfe5",
   "metadata": {},
   "outputs": [],
   "source": [
    "import mip # Wir wollen die mip-Bibliothek verwenden\n",
    "\n",
    "# Konstanten, die die Instanz definieren\n",
    "r_k = 170\n",
    "r_g = 129\n",
    "m_k = 5990\n",
    "m_g = 4850\n",
    "p_k = 19\n",
    "p_g = 24"
   ]
  },
  {
   "cell_type": "markdown",
   "id": "591a96fa-c4ca-4fa3-a1b0-dfe525ca364e",
   "metadata": {},
   "source": [
    "## Lösung\n"
   ]
  },
  {
   "cell_type": "code",
   "execution_count": 4,
   "id": "c547ace6-5ac0-4b46-a2de-fba1e5b7e6f7",
   "metadata": {},
   "outputs": [],
   "source": [
    "m = mip.Model()\n",
    "\n",
    "# Variablen\n",
    "n_k = m.add_var(lb=0,ub=m_k)\n",
    "n_g = m.add_var(lb=0,ub=m_g)\n",
    "profit = m.add_var(lb=0)"
   ]
  },
  {
   "cell_type": "markdown",
   "id": "dc161ee7-7318-4770-a0e6-c472237c44c0",
   "metadata": {},
   "source": [
    "Als nächste fügen wir die Kapazitätsbedingung ein und legen den Profit fest. Die Zielfunktion wird dann ganz einfach: Wir wollen <code>profit</code> maximieren. Schließlich wird der Algorithmus gestartet."
   ]
  },
  {
   "cell_type": "code",
   "execution_count": 5,
   "id": "5e5a0492-5cb1-4396-ba62-bbd191088678",
   "metadata": {},
   "outputs": [
    {
     "data": {
      "text/plain": [
       "<OptimizationStatus.OPTIMAL: 0>"
      ]
     },
     "execution_count": 5,
     "metadata": {},
     "output_type": "execute_result"
    }
   ],
   "source": [
    "# Bedingungen\n",
    "m += n_k/r_k + n_g/r_g <= 40\n",
    "m += p_k*n_k+p_g*n_g == profit\n",
    "\n",
    "# Zielfunktion\n",
    "m.objective = mip.maximize(profit)\n",
    "\n",
    "# Ausführen\n",
    "m.optimize()"
   ]
  },
  {
   "cell_type": "markdown",
   "id": "b9419370-f79f-4468-a6cf-570161850ea3",
   "metadata": {},
   "source": [
    "Für die Ausgabe der Lösung müssen wir auf die Werte der Variablen zugreifen. Dies geschieht mit <code>variable.x</code>. Wir runden die Werte, da <code>n_k</code> und <code>n_g</code> eh ganzzahlig sein müssen."
   ]
  },
  {
   "cell_type": "code",
   "execution_count": 6,
   "id": "c3c9be36-b9c1-4576-b85e-1844aeb0d9ab",
   "metadata": {},
   "outputs": [
    {
     "name": "stdout",
     "output_type": "stream",
     "text": [
      "Das maximale Gewinn ist 1285.62EUR und wird angenommen für n_k=5990 und n_g=615.\n"
     ]
    }
   ],
   "source": [
    "# Ausgabe\n",
    "n_k_opt=round(n_k.x)\n",
    "n_g_opt=round(n_g.x)\n",
    "profit_opt=round(profit.x/100,2) # mit round kann auch auf 2 Stellen nach dem Komma gerundet werden.\n",
    "print('Das maximale Gewinn ist {}EUR und wird angenommen für n_k={} und n_g={}.'.format(profit_opt,n_k_opt,n_g_opt))"
   ]
  },
  {
   "cell_type": "markdown",
   "id": "89f0b529-ef29-4100-b67e-3ea7c463be2f",
   "metadata": {},
   "source": [
    "Genau genommen müssten wir wohl den Profit mit den gerundeten Tafelanzahlen ausrechnen. Dann erhalten wir:"
   ]
  },
  {
   "cell_type": "code",
   "execution_count": 7,
   "id": "d28e487a-249c-4374-9b77-a22832764598",
   "metadata": {},
   "outputs": [
    {
     "name": "stdout",
     "output_type": "stream",
     "text": [
      "Gewinn mit gerundeten Tafelanzahlen: 1285.7EUR\n"
     ]
    }
   ],
   "source": [
    "profit_opt_rounded=round((p_k*n_k_opt+p_g*n_g_opt)/100,2)\n",
    "print(\"Gewinn mit gerundeten Tafelanzahlen: {}EUR\".format(profit_opt_rounded))"
   ]
  },
  {
   "cell_type": "markdown",
   "id": "569ee5a7-30a4-412d-9c93-e12d95eabbce",
   "metadata": {},
   "source": [
    "Wir sehen: Es gibt kaum einen Unterschied."
   ]
  }
 ],
 "metadata": {
  "kernelspec": {
   "display_name": "Python 3",
   "language": "python",
   "name": "python3"
  },
  "language_info": {
   "codemirror_mode": {
    "name": "ipython",
    "version": 3
   },
   "file_extension": ".py",
   "mimetype": "text/x-python",
   "name": "python",
   "nbconvert_exporter": "python",
   "pygments_lexer": "ipython3",
   "version": "3.8.8"
  }
 },
 "nbformat": 4,
 "nbformat_minor": 5
}
