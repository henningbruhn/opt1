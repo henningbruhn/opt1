{
 "cells": [
  {
   "cell_type": "markdown",
   "id": "6f0484ec-ee0c-4104-b9e2-65c6c431100a",
   "metadata": {},
   "source": [
    "# Programmieraufgabe: 3D-Printer\n",
    "\n",
    "Eine kleine Firma betreibt professionellen 3D-Druck. In der Woche kann die Firma den 3D-Drucker $T$ Stunden betreiben. Die Aufträge $A_1,\\ldots, A_n$ werden der Firma angeboten. Die Firma will gewisse dieser Aufträge auswählen und die anderen ablehnen (oder auf später verschieben), und so den Wochengewinn maximieren. Jeder Auftrag $A_i$ ist durch eine Bearbeitungsdauer $d_i$ (in Stunden) und einen Gewinn $p_i$ (in Euro) beschrieben. Dazu kommen gewisse technische Unterschiede in den Aufträgen, die gegebenfalls eine Reinigung oder einen Umbau des 3D-Druckers bedingen. Wir werden diese Unterschiede der Einfachheit unter dem Stichwort Substrat $s_i$ zusammenfassen: Ein Auftrag braucht vielleicht nur schnödes graues Plastik, ein anderer eine Plastik-Metallmischung in orange. (Ich habe keine Ahnung wie 3D-Drucker funktionieren.)\n"
   ]
  },
  {
   "cell_type": "markdown",
   "id": "e6bcec83-9271-44ae-811e-4c996f169ff3",
   "metadata": {},
   "source": [
    "### Aufgabe (a): Einfaches MIP\n",
    "Implementieren Sie ein MIP und lösen Sie <code>simple_instance</code>. Führen Sie dazu Indikatorvariablen <code>x[i]</code> ein, die angeben, ob der Auftrag <code>i</code> angenommen wird oder nicht. Führen Sie zusätzlich eine Variable <code>profit</code> ein, die den Gewinn beziffert. Nutzen Sie den Code unten, um die angenommenen Aufträge und den Gewinn auszugeben."
   ]
  },
  {
   "cell_type": "code",
   "execution_count": null,
   "id": "f04260e3-b6d6-4502-ad0f-7ef908defe68",
   "metadata": {},
   "outputs": [],
   "source": [
    "def simple_instance():\n",
    "    T = 30\n",
    "    d = [2,3,6,3,4,7,4,2,4,5]\n",
    "    p = [22,31,65,33,42,71,41,22,30,59]\n",
    "    return T,d,p"
   ]
  },
  {
   "cell_type": "markdown",
   "id": "9501220c-2b8e-4a34-b8f0-6416c9c1d3f0",
   "metadata": {},
   "source": [
    "Wie immer muss das Paket <code>mip</code> installiert sein. In Colab (oder auf Ihrem eigenen Rechner) installieren Sie <code>mip</code> gegebenfalls durch Löschen der Raute unten. "
   ]
  },
  {
   "cell_type": "code",
   "execution_count": null,
   "id": "536ddf29-129d-459a-9747-2ad4c10a7e72",
   "metadata": {},
   "outputs": [],
   "source": [
    "# Raute Löschen, um mip zu installieren\n",
    "# !pip install mip\n",
    "import mip"
   ]
  },
  {
   "cell_type": "markdown",
   "id": "6bf2c363-19aa-40ec-8b2e-e32c50312be3",
   "metadata": {},
   "source": [
    "### Lösung (a)"
   ]
  },
  {
   "cell_type": "code",
   "execution_count": null,
   "id": "34882934-44c4-4cbb-abd4-dc781d2a29a2",
   "metadata": {},
   "outputs": [],
   "source": [
    "T,d,p=simple_instance()\n",
    "n=len(d)\n",
    "\n",
    "### Fügen Sie Ihren Code hier ein ###"
   ]
  },
  {
   "cell_type": "markdown",
   "id": "3bd831ee-2990-4d02-9342-95fddd4255a2",
   "metadata": {},
   "source": [
    "Schließlich die Ausgabe der Lösung."
   ]
  },
  {
   "cell_type": "code",
   "execution_count": null,
   "id": "1f59f84a-be2d-423f-ace8-cba6d310dd0b",
   "metadata": {},
   "outputs": [],
   "source": [
    "accepted_jobs=[i for i in range(n) if x[i].x>0]\n",
    "print(\"Angenommene Aufträge: {}\".format(accepted_jobs))\n",
    "print(\"Gewinn: {}EUR\".format(profit.x))"
   ]
  },
  {
   "cell_type": "markdown",
   "id": "107e4174-4848-47fb-ab67-45ed92aeeaae",
   "metadata": {},
   "source": [
    "## MIP mit Rüstzeiten\n",
    "Das Modell bisher war sehr einfach. In der Realität kommen oft Rüstzeiten dazu: Der 3D-Drucker muss umgerüstet, eventuell gereinigt werden, wenn sich das Substrat ändert. Bestand etwa bei einem Auftrag das Substrat aus grauem Plastik und soll nun der folgende Auftrag mit weißem Plastik durchgeführt werden, so muss der Drucker gereinigt werden, um Farbfehler zu vermeiden. Wie viel Zeit auf die Umrüstung / Reinigung verwendet werden muss, hängt dabei davon ab, von welchem Substrat auf welches Substrat gewechselt wird. Konkret: Im Gegensatz zu vorher muss nun eine Reihenfolge der angenommenen Aufträge bestimmt werden, und wenn dann auf einen Auftrag $A_i$ mit Substrat $k=s_i$ der Auftrag $A_j$ mit $\\ell=s_j$ folgt, wird eine Rüstzeit von $r_{k,\\ell}$ nötig.\n",
    "\n",
    "Es sei $\\{1,\\ldots, C\\}$ die Menge der unterschiedlichen Substrate. Für die Rüstzeiten soll gelten:\n",
    "* $r_{k,\\ell}\\geq 0$ für alle $k,\\ell\\in \\{1,\\ldots, C\\}$, dh, keine Reisen in die Vergangenheit.\n",
    "* $r_{k,k}=0$ für all $k\\in\\{1,\\ldots, C\\}$, dh wenn das Substrat nicht gewechselt wird, fallen keine Rüstzeiten an.\n",
    "* es gilt eine Dreiecksungleichung $r_{k,m}\\leq r_{k,\\ell}+r_{\\ell,m}$ für alle $k,\\ell,m\\in\\{1,\\ldots, C\\}$, dh, Rüstzeiten können nicht verkürzt werden, in dem auf ein drittes Substrat gewechselt wird. (Ist ja klar.)\n",
    "\n",
    "Es kann aber durchaus $r_{k,\\ell}\\neq r_{\\ell,k}$ gelten, dh, die Rüstzeiten sind nicht notwendig symmetrisch. Der Wechsel von weißem Substrat auf graues erfordert eventuell eine kürzere Reinigung als umgekehrt.\n",
    "\n",
    "Am Ende ist keine Reinigung nötig. (Ich weiß, igitt.)"
   ]
  },
  {
   "cell_type": "markdown",
   "id": "3053e67e-7eda-4d44-9d77-3e5269b256b3",
   "metadata": {},
   "source": [
    "### Aufgabe (b): Reihenfolge \n",
    "Argumentieren Sie, dass alle (angenommenen) Aufträge mit gleichem Substrat konsekutiv ausgeführt werden können. Dh, es reicht aus, die Substrate der angenommenen Aufträge in eine Reihenfolge zu bringen. Schreiben Sie Ihre Argumentation in die folgende *markdown*-Zelle."
   ]
  },
  {
   "cell_type": "markdown",
   "id": "869af14d-f72e-4c8d-93c2-822f2638e3b0",
   "metadata": {},
   "source": [
    "### Lösung (b)\n",
    "\n",
    "*hier Ihre Argumentation*"
   ]
  },
  {
   "cell_type": "markdown",
   "id": "a7653bf4-c60d-466f-8b9d-18e20b6b9ce7",
   "metadata": {},
   "source": [
    "### Aufgabe (c): MIP mit Rüstzeiten\n",
    "Implementieren Sie das MIP mit Rüstzeiten und lösen Sie <code>small_instance</code> oder <code>large_instance</code>. \n",
    "\n",
    "Anleitung: Wie oben führen Sie Variablen <code>x[i]</code> und <code>profit</code> ein. Führen Sie zusätzlich für $k,p=1,\\ldots,C$ eine Indikatorvariable <code>z[k][p]</code> ein, die bestimmt, ob das Substrat $k$ an $p$ter Stelle der Reihung der Substrate stehen soll. Die Variable <code>R</code> soll die Gesamtrüstzeit bezeichnen. Nutzen Sie den Code unten, um die angenommenen Aufträge, die Reihung der Substrate, die Gesamtrüstzeit und den Gewinn auszugeben. Sie werden sicher noch weitere Variablen einführen müssen."
   ]
  },
  {
   "cell_type": "code",
   "execution_count": null,
   "id": "3d7339a8-da7f-42e1-81c5-5cbc00f32659",
   "metadata": {},
   "outputs": [],
   "source": [
    "def small_instance():\n",
    "    T,d,p=simple_instance()\n",
    "    s = [1, 2, 0, 2, 3, 0, 3, 1, 3, 4]\n",
    "    r = [[0, 6, 8, 7, 7],\n",
    "         [6, 0, 5, 4, 4],\n",
    "         [5, 5, 0, 4, 4],\n",
    "         [4, 4, 6, 0, 7],\n",
    "         [8, 6, 7, 7, 0]]\n",
    "    C=max(s)+1\n",
    "    return T,d,p,s,r,C\n",
    "\n",
    "def large_instance():\n",
    "    T = 60\n",
    "    d = [2,3,6,3,4,7,4,2,4,5,6,2,5,7,2,3,4,3,7,8,6,6,2,3,5,9,6,7,4,1]\n",
    "    p = [22,31,65,33,42,71,41,22,30,59,63,22,51,72,27,38,46,36,77,84,64,64,23,32,53,91,61,71,43,15]\n",
    "    s = [1, 2, 0, 2, 3, 0, 3, 1, 3, 4, 1, 1, 4, 0, 1, 2, 3, 2, 0, 0, 4, 4, 3, 2, 1, 0, 1, 2, 3, 0]\n",
    "    r = [[0, 6, 8, 7, 7],\n",
    "         [6, 0, 5, 4, 4],\n",
    "         [5, 5, 0, 4, 4],\n",
    "         [4, 4, 6, 0, 7],\n",
    "         [8, 6, 7, 7, 0]]\n",
    "    C=max(s)+1\n",
    "    return T,d,p,s,r,C"
   ]
  },
  {
   "cell_type": "markdown",
   "id": "f326628e-3ac9-4dc3-a8f2-2de19ab18a74",
   "metadata": {},
   "source": [
    "### Lösung (c)\n",
    "\n"
   ]
  },
  {
   "cell_type": "code",
   "execution_count": null,
   "id": "5b2e4a33-6552-4268-ac0d-46dc50e33c73",
   "metadata": {},
   "outputs": [],
   "source": [
    "T,d,p,s,r,C=small_instance()\n",
    "#T,d,p,s,r,C=large_instance()\n",
    "n=len(d)\n",
    "\n",
    "### Fügen Sie Ihren Code hier ein ###"
   ]
  },
  {
   "cell_type": "markdown",
   "id": "6aba9fd2-00cf-4e24-b7ec-974ba3c6172b",
   "metadata": {},
   "source": [
    "Ausgabe der Lösung"
   ]
  },
  {
   "cell_type": "code",
   "execution_count": null,
   "id": "5927634b-fd96-484c-b647-7ccd92ff37fb",
   "metadata": {},
   "outputs": [],
   "source": [
    "sequence=[k for p in range(C) for k in range(C) if z[k][p].x>0] \n",
    "jobs=[i for i in range(n) if x[i].x>0]\n",
    "setup_time=R.x\n",
    "profit_opt=profit.x\n",
    "print(\"Angenommene Aufträge: {}\".format(jobs))\n",
    "print(\"Reihenfolge der Substrate: {}\".format(sequence))\n",
    "print(\"Gesamtrüstzeit: {}\".format(setup_time))\n",
    "print(\"Gewinn: {}EUR\".format(profit_opt))"
   ]
  }
 ],
 "metadata": {
  "kernelspec": {
   "display_name": "Python 3 (ipykernel)",
   "language": "python",
   "name": "python3"
  },
  "language_info": {
   "codemirror_mode": {
    "name": "ipython",
    "version": 3
   },
   "file_extension": ".py",
   "mimetype": "text/x-python",
   "name": "python",
   "nbconvert_exporter": "python",
   "pygments_lexer": "ipython3",
   "version": "3.11.0"
  }
 },
 "nbformat": 4,
 "nbformat_minor": 5
}
