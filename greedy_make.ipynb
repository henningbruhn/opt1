{
 "cells": [
  {
   "cell_type": "markdown",
   "metadata": {
    "id": "j3LLQGzkAW1F"
   },
   "source": [
    "# Greedy-Algorithmus für *minimum makespan*\n",
    "\n",
    "Wir illustrieren hier den greedy-Algorithmus für das *minimum makespan*-Problem: Eine Reihe von Aufträgen soll Maschinen zugewiesen werden, \n",
    "so dass die Bearbeitungsdauer so klein wie möglich ist. Die Maschinen hier sind alle identisch, die Aufträge unterscheiden sich in der Bearbeitungsdauer. "
   ]
  },
  {
   "cell_type": "markdown",
   "metadata": {
    "id": "JZM3BwaEpBRu"
   },
   "source": [
    "## Imports\n",
    "\n",
    "Zunächst werden benötigte Softwarepakete importiert. Wenn Sie mit Colab arbeiten, sind diese vorinstalliert. Wenn Sie lokal arbeiten müssen Sie eventuell erst die entsprechenden Pakete installieren, etwa so: <code>pip install numpy</code> oder <code>conda install numpy</code>."
   ]
  },
  {
   "cell_type": "code",
   "execution_count": 1,
   "metadata": {
    "id": "eRNmW12u5nyO"
   },
   "outputs": [],
   "source": [
    "import numpy as np # Standardbibliothek für wissenschaftliches Rechnen, eigentlich hier unnötig (np.argmin an einer Stelle)\n",
    "import matplotlib.pyplot as plt # Plotten, Visualisierung\n",
    "from IPython.display import clear_output # Interaktion mit jupyter\n",
    "import ipywidgets as widgets # Interaktion mit jupyter"
   ]
  },
  {
   "cell_type": "markdown",
   "metadata": {
    "id": "yhJbHQweuIOd"
   },
   "source": [
    "## Greedy-Algorithmus\n",
    "\n",
    "Der Greedy-Algorithmus geht alle Jobs der Reihe nach durch und weist die Aufträge jeweils der Maschine zu, die zum aktuellen Zeitpunkt die geringste Auslastung hat.\n",
    "\n",
    "Wie kodieren wir die Eingabe? Wie legen die Zahl der verfügbaren Maschinen fest. Die Dauern der Aufträge schreiben wir einfach hintereinander in eine Liste."
   ]
  },
  {
   "cell_type": "code",
   "execution_count": 2,
   "metadata": {
    "id": "UITD6dMdoedj"
   },
   "outputs": [],
   "source": [
    "number_of_machines = 3\n",
    "durations = [10,8,7,13,24,15,16,11,16,12,11,15]"
   ]
  },
  {
   "cell_type": "markdown",
   "metadata": {},
   "source": [
    "Die Ausgabe des greedy wird eine Liste sein, mit einem Eintrag pro Auftrag. In diesem Eintrag steht dann eine Zahl von 0 bis Anzahl der Maschinen-1 (da Python bei 0 anfängt zu zählen); diese Zahl bestimmt auf welcher Maschine der entsprechende Auftrag ausgeführt werden soll.  "
   ]
  },
  {
   "cell_type": "code",
   "execution_count": 3,
   "metadata": {
    "id": "ysp0lqtmvjpI"
   },
   "outputs": [
    {
     "data": {
      "text/plain": [
       "[0, 1, 2, 2, 1, 0, 2, 0, 1, 0, 2, 2]"
      ]
     },
     "execution_count": 3,
     "metadata": {},
     "output_type": "execute_result"
    }
   ],
   "source": [
    "def greedy_makespan(durations,number_of_machines,return_history=False):\n",
    "    \"\"\"\n",
    "    Input\n",
    "    durations: Liste mit den Dauern der Aufträge\n",
    "    number_of_machines: Wie viele Maschine vorhanden sind\n",
    "    return_history: True/False, ob eine Liste mit den Zwischenzuständen des greedy zurück gegeben werden soll\n",
    "    Output\n",
    "    Wenn return_history==False: Liste mit Einträgen l_i, wobei l_i die Maschine angibt, der Auftrag i zugeordnet wird\n",
    "    Wenn return_history==True: Liste wie oben und zusätzlich eine Liste mit Zwischenzuständen\n",
    "    \"\"\"\n",
    "    # Zu Beginn hat jede Maschine die Auslastung 0:\n",
    "    load=[0]*number_of_machines\n",
    "    # Zu Beginn haben wir keine Aufträge eingeteilt:\n",
    "    schedule=[]\n",
    "    history=[schedule]  # für die Visualisierung\n",
    "    # enumerate(liste) liefert Paare (index, eintrag) zurück, also\n",
    "    # enumerate(['a','b','c']) -> (0,'a'), (1,'b'), (2,'c')\n",
    "    for i,job_length in enumerate(durations):  \n",
    "        j=np.argmin(load) # welches ist die Maschine mit geringster Auslastung?\n",
    "        load[j]+=job_length # erhöhe dort die Auslastung um die Auftragsdauer\n",
    "        schedule.append(j) # weise den Auftrag der Maschine zu\n",
    "        if return_history: # für die Visualisierung\n",
    "            history.append(schedule.copy())  \n",
    "    if return_history:\n",
    "        return schedule, history\n",
    "    return schedule\n",
    "\n",
    "## Wir machen gleich mal einen Test.\n",
    "schedule = greedy_makespan(durations,number_of_machines)\n",
    "schedule"
   ]
  },
  {
   "cell_type": "markdown",
   "metadata": {},
   "source": [
    "Den makespan könnten wir einfach mitberechnen, wenn der greedy durchläuft. Da der Rechenaufwand nicht groß ist, machen wir das gesondert."
   ]
  },
  {
   "cell_type": "code",
   "execution_count": 4,
   "metadata": {},
   "outputs": [
    {
     "name": "stdout",
     "output_type": "stream",
     "text": [
      "Der makespan beträgt: 62\n"
     ]
    }
   ],
   "source": [
    "def makespan(schedule,durations):\n",
    "    number_of_machines=max(schedule)+1\n",
    "    loads=[]\n",
    "    for m in range(number_of_machines):\n",
    "        # berechne Auslastung für Maschine m\n",
    "        # Dazu packen wir die Dauern der der Maschine zugewiesenen Aufträge in eine Liste und summieren\n",
    "        load=sum([durations[job] for job,machine in enumerate(schedule) if machine==m])\n",
    "        loads.append(load)\n",
    "    return max(loads) # bestimme maximale Auslastung einer Maschine\n",
    "\n",
    "print(\"Der makespan beträgt: {}\".format(makespan(schedule,durations)))"
   ]
  },
  {
   "cell_type": "markdown",
   "metadata": {
    "id": "txl_ovn9pIe_"
   },
   "source": [
    "## Methoden zur Visualisierung\n",
    "\n",
    "Hier kommt ein wenig komplexer Code, um das Ergebnis und auch den Verlauf von greedy bildlich darzustellen. Sie können den Code einfach ignorieren. (Die Zelle muss jedoch ausgeführt werden.)"
   ]
  },
  {
   "cell_type": "code",
   "execution_count": 6,
   "metadata": {
    "id": "e9Uh5yub7Xp_"
   },
   "outputs": [],
   "source": [
    "def show_schedule(schedule,durations,number_of_machines=-1):\n",
    "    if number_of_machines<0:\n",
    "        number_of_machines=max(schedule)+1\n",
    "    \n",
    "    fig, ax = plt.subplots(figsize=(20,1.5*number_of_machines)) \n",
    "\n",
    "    # Setting axis limits \n",
    "    ax.set_xlim(0, sum(durations)*1.01) \n",
    "    ax.set_ylim(-1,  3*number_of_machines+1) \n",
    "    # Setting labels for x-axis and y-axis \n",
    "    ax.set_xlabel('Zeit') \n",
    "    ax.set_ylabel('Maschine') \n",
    "\n",
    "    # Setting ticks on y-axis \n",
    "    ax.set_yticks(range(1,1+3*number_of_machines,3)) \n",
    "    # Labelling ticks of y-axis \n",
    "    ax.set_yticklabels(range(1,number_of_machines+1)) \n",
    "    \n",
    "    loads=[0]*number_of_machines\n",
    "    for job,machine in enumerate(schedule):\n",
    "        ax.broken_barh([(loads[machine], durations[job])], (3*machine, 2),edgecolor='black') \n",
    "        ax.text(x=loads[machine]+durations[job]/2,y=3*machine+1,s=job+1,  \n",
    "                    ha='center', va='center', color='white')\n",
    "        loads[machine]+=durations[job]\n",
    "\n",
    "    plt.title('Der Makespan beträgt {}.'.format(max(loads)))\n",
    "    plt.show()\n",
    "  \n",
    "def show_schedule_history(history,durations,number_of_machines,sleep_after=0.5): \n",
    "  # Löscht den alten Output, zeichnet die neue Zuweisung und wartet für sleep_after viele Sekunden.\n",
    "  for schedule in history:\n",
    "    clear_output(wait=True)\n",
    "    show_schedule(schedule,durations,number_of_machines=number_of_machines)\n",
    "    plt.pause(sleep_after)\n",
    "    \n",
    "#### Code für Widgets / Startbutton usw\n",
    "go_button=widgets.Button(\n",
    "    description='Start',\n",
    "    disabled=False,\n",
    "    button_style='', # 'success', 'info', 'warning', 'danger' or ''\n",
    "    tooltip='Startet Visualisierung')\n",
    "\n",
    "output = widgets.Output()\n",
    "animation_widget=widgets.VBox([go_button,output])\n",
    "\n",
    "def go(event):\n",
    "    greedy_schedule,greedy_history = greedy_makespan(durations,number_of_machines,return_history=True)\n",
    "    with output:\n",
    "        show_schedule_history(greedy_history,durations,number_of_machines)\n",
    "        \n",
    "go_button.on_click(go)"
   ]
  },
  {
   "cell_type": "markdown",
   "metadata": {
    "id": "9Dzlxkfnt1km"
   },
   "source": [
    "Wir weisen beispielhaft alle Jobs der ersten Maschine zu. "
   ]
  },
  {
   "cell_type": "code",
   "execution_count": 7,
   "metadata": {
    "colab": {
     "base_uri": "https://localhost:8080/",
     "height": 323
    },
    "id": "U_LfcLEfp6x6",
    "outputId": "67740950-0369-4596-febb-f894ec6d7b1b"
   },
   "outputs": [
    {
     "data": {
      "image/png": "[encoded data removed]",
      "text/plain": [
       "<Figure size 1440x108 with 1 Axes>"
      ]
     },
     "metadata": {
      "needs_background": "light"
     },
     "output_type": "display_data"
    }
   ],
   "source": [
    "all_in_one = [0]*len(durations)\n",
    "show_schedule( all_in_one,durations )"
   ]
  },
  {
   "cell_type": "markdown",
   "metadata": {
    "id": "W4yqOAnPKl04"
   },
   "source": [
    "Schauen wir uns das Ergebnis des greedy an."
   ]
  },
  {
   "cell_type": "code",
   "execution_count": 8,
   "metadata": {
    "colab": {
     "base_uri": "https://localhost:8080/",
     "height": 323
    },
    "id": "vROKz-l0Ks_s",
    "outputId": "755a6716-2da9-4cf3-f16d-0cb8c57de7bb"
   },
   "outputs": [
    {
     "data": {
      "image/png": "[encoded data removed]",
      "text/plain": [
       "<Figure size 1440x324 with 1 Axes>"
      ]
     },
     "metadata": {
      "needs_background": "light"
     },
     "output_type": "display_data"
    }
   ],
   "source": [
    "#### hier können Sie die Instanz ändern #### \n",
    "number_of_machines = 3\n",
    "durations = [10,8,7,13,24,15,16,11,16,12,11,15]\n",
    "####\n",
    "\n",
    "greedy_schedule = greedy_makespan(durations,number_of_machines)\n",
    "# Ergebnis darstellen:\n",
    "show_schedule(greedy_schedule,durations)"
   ]
  },
  {
   "cell_type": "markdown",
   "metadata": {
    "id": "RzLBeDxmK6z3"
   },
   "source": [
    "Wir können uns den Verlauf des greedy als Animation anschauen."
   ]
  },
  {
   "cell_type": "code",
   "execution_count": 9,
   "metadata": {
    "colab": {
     "base_uri": "https://localhost:8080/",
     "height": 323
    },
    "id": "ZwRDRDn1QRib",
    "outputId": "1daba7aa-4faa-474d-8e85-807b297d0453"
   },
   "outputs": [
    {
     "data": {
      "application/vnd.jupyter.widget-view+json": {
       "model_id": "183067172fb94132a5d18db0a2ed4129",
       "version_major": 2,
       "version_minor": 0
      },
      "text/plain": [
       "VBox(children=(Button(description='Start', style=ButtonStyle(), tooltip='Startet Visualisierung'), Output()))"
      ]
     },
     "metadata": {},
     "output_type": "display_data"
    }
   ],
   "source": [
    "#### hier können Sie die Instanz ändern #### \n",
    "number_of_machines = 3\n",
    "durations = [10,8,7,13,24,15,16,11,16,12,11,15]\n",
    "####\n",
    "\n",
    "animation_widget"
   ]
  }
 ],
 "metadata": {
  "kernelspec": {
   "display_name": "Python 3",
   "language": "python",
   "name": "python3"
  },
  "language_info": {
   "codemirror_mode": {
    "name": "ipython",
    "version": 3
   },
   "file_extension": ".py",
   "mimetype": "text/x-python",
   "name": "python",
   "nbconvert_exporter": "python",
   "pygments_lexer": "ipython3",
   "version": "3.8.8"
  }
 },
 "nbformat": 4,
 "nbformat_minor": 4
}
