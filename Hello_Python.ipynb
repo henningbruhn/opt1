{
 "cells": [
  {
   "cell_type": "markdown",
   "metadata": {
    "id": "TzfStdoNYe7d"
   },
   "source": [
    "# Hello Python\n",
    "\n",
    "Dieses Notebook ist ein kleiner Einblick in die Programmiersprache Python. Es soll den Einstieg erleichtern und einige hilfreiche Funktionen werden vorgestellt. \n",
    "\n",
    "Dokumentation und tutorials finden Sie unter https://www.python.org/doc/"
   ]
  },
  {
   "cell_type": "markdown",
   "metadata": {
    "id": "DliPHgD1JyXu"
   },
   "source": [
    "# Paket Import\n",
    "\n",
    "Python bietet einige Softwarepakete an. Um diese nutzen zu können, müssen Sie die Pakete importieren.\n",
    "*numpy* ist beispielsweise ein Paket, das viele mathematische Operationen enthält und *matplotlib.pyplot* ein Paket, das Graphiken erstellen kann."
   ]
  },
  {
   "cell_type": "code",
   "execution_count": null,
   "metadata": {
    "id": "tL6H5-eBJrHY"
   },
   "outputs": [],
   "source": [
    "import numpy as np\n",
    "import matplotlib.pyplot as plt"
   ]
  },
  {
   "cell_type": "markdown",
   "metadata": {
    "id": "xu62ME2tKuUn"
   },
   "source": [
    "Die Hauptleistung von numpy ist das Bereitstellen einer leistungsfähigen array-Klasse, die sich aber in vieler Hinsicht wie die gewöhnlichen Python-Listen verhält. Dokumentation über numpy finden Sie hier: https://numpy.org/doc/stable/contents.html\n",
    "\n",
    "Matplotlib ist manchmal ein wenig gewöhnungsbedürftig -- simple plots sind jedoch recht einfach zu realisieren, siehe unten. Auch hier gibt's natürlich Dokumentation im Internet, bei der es aber ausreicht, sie nur sehr punktuell zu konsultieren: https://matplotlib.org/\n",
    "\n",
    "In Google Colab sind viele Pakete vorinstalliert, allerdings nicht alle.\n",
    "Um zusätzliche Pakete zu installieren können Sie den Befehl *pip* benutzen. Dieser Befehl muss nicht in Python ausgeführt werden sondern auf der Kommandozeile. In Google Colab wird das durch ein Ausrufezeichen am Anfang markiert. "
   ]
  },
  {
   "cell_type": "code",
   "execution_count": null,
   "metadata": {
    "colab": {
     "base_uri": "https://localhost:8080/"
    },
    "id": "RNUe1f9JPuPq",
    "outputId": "0f4f55a0-0a6e-4da9-984a-1f811f16ec8d"
   },
   "outputs": [
    {
     "name": "stdout",
     "output_type": "stream",
     "text": [
      "Requirement already satisfied: mip in /usr/local/lib/python3.7/dist-packages (1.13.0)\n",
      "Requirement already satisfied: cffi in /usr/local/lib/python3.7/dist-packages (from mip) (1.14.5)\n",
      "Requirement already satisfied: pycparser in /usr/local/lib/python3.7/dist-packages (from cffi->mip) (2.20)\n"
     ]
    }
   ],
   "source": [
    "!pip install mip"
   ]
  },
  {
   "cell_type": "markdown",
   "metadata": {
    "id": "fJr5TYVPP1rg"
   },
   "source": [
    "Auch die neu installierten Pakete müssen noch importiert werden."
   ]
  },
  {
   "cell_type": "code",
   "execution_count": null,
   "metadata": {
    "id": "cs3GkjHMP9qP"
   },
   "outputs": [],
   "source": [
    "import mip"
   ]
  },
  {
   "cell_type": "markdown",
   "metadata": {
    "id": "3azQQppGQEDX"
   },
   "source": [
    "# Variablen und Datenstrukturen\n",
    "\n",
    "Variablen können einfach definiert werden. Der Datentyp wird automatisch erkannt."
   ]
  },
  {
   "cell_type": "code",
   "execution_count": null,
   "metadata": {
    "colab": {
     "base_uri": "https://localhost:8080/"
    },
    "id": "uWFqMJbbQCDj",
    "outputId": "24c3b35d-4c8d-4b15-e9cc-58c1cc12b9df"
   },
   "outputs": [
    {
     "name": "stdout",
     "output_type": "stream",
     "text": [
      "Mit print() kann man einen Text ausgeben.\n",
      "Um Werte in den ausgegebenen Text einzusetzen kann man mit geschweiften Klammern Platzhalter setzen und sie anschließend mit format ausfüllen. Zum Beispiel so:\n",
      "z=22.0. Inhalt von text: Mein Text\n",
      "z=23.0.\n",
      "z=24.0.\n"
     ]
    }
   ],
   "source": [
    "x = 5\n",
    "y = 4.2\n",
    "z = x*y+1\n",
    "text = 'Mein Text'\n",
    "schalter = True\n",
    "print('Mit print() kann man einen Text ausgeben.')\n",
    "print('Um Werte in den ausgegebenen Text einzusetzen kann man mit geschweiften Klammern Platzhalter setzen und sie anschließend mit format ausfüllen. Zum Beispiel so:')\n",
    "print('z={}. Inhalt von text: {}'.format(z,text))\n",
    "# Alles in einer Zeile hinter einem # ist nur noch ein Kommentar.\n",
    "# Wert ändern\n",
    "z = z + 1\n",
    "print('z={}.'.format(z))\n",
    "z += 1 # Kurzschreibweise für z = z + 1\n",
    "print('z={}.'.format(z))"
   ]
  },
  {
   "cell_type": "markdown",
   "metadata": {
    "id": "Ey_Gy2MRRY90"
   },
   "source": [
    "Daten können auch in Listen gespeichert werden. Hier einige Operationen mit Listen."
   ]
  },
  {
   "cell_type": "code",
   "execution_count": null,
   "metadata": {
    "colab": {
     "base_uri": "https://localhost:8080/"
    },
    "id": "Q1qRd68oRmgA",
    "outputId": "51c1bd6d-290e-4ece-85df-fefa622303c5"
   },
   "outputs": [
    {
     "name": "stdout",
     "output_type": "stream",
     "text": [
      "Meine Liste: [3, 10, 4, 5, 19, 11]\n",
      "Länge meiner Liste: 6\n",
      "Größtes Element 19 hat id: 4\n",
      "Erstes Element der Liste hat den Index 0: 3\n",
      "Teilliste, die mit Index 1 beginnt und 4 der erste Index ist, der nicht mehr enthalten ist.: [10, 4, 5]\n"
     ]
    }
   ],
   "source": [
    "meine_liste = [3,10,4,5,19,11]\n",
    "print('Meine Liste: {}'.format(meine_liste))\n",
    "print('Länge meiner Liste: {}'.format( len(meine_liste) ))\n",
    "print('Größtes Element {} hat id: {}'.format(np.max(meine_liste),np.argmax(meine_liste)))\n",
    "print('Erstes Element der Liste hat den Index 0: {}'.format( meine_liste[0] ))\n",
    "print('Teilliste, die mit Index 1 beginnt und 4 der erste Index ist, der nicht mehr enthalten ist.: {}'.format( meine_liste[1:4] ))"
   ]
  },
  {
   "cell_type": "markdown",
   "metadata": {
    "id": "y6h8D9MATxf7"
   },
   "source": [
    "Listen können auch bearbeitet werden. Wenn man die ursprüngliche Liste nicht verändern will, muss man sie erst kopieren."
   ]
  },
  {
   "cell_type": "code",
   "execution_count": null,
   "metadata": {
    "colab": {
     "base_uri": "https://localhost:8080/"
    },
    "id": "2Ia4rSmMTix4",
    "outputId": "1d487ec3-bb7f-4ee0-d874-f1e184b945ea"
   },
   "outputs": [
    {
     "name": "stdout",
     "output_type": "stream",
     "text": [
      "Position mit Index 3 auf 100 gesetzt: [3, 10, 4, 100, 19, 11]\n",
      "Teilliste verändern: [42, 44, 4, 100, 19, 11]\n",
      "Von hinten nach vorne: [11, 19, 100, 4, 44, 42]\n",
      "Unveränderte Startliste: [3, 10, 4, 5, 19, 11]\n"
     ]
    }
   ],
   "source": [
    "kopie = meine_liste.copy()\n",
    "kopie[3]= 100\n",
    "print('Position mit Index 3 auf 100 gesetzt: {}'.format(kopie))\n",
    "kopie[0:2] = [42,44] # Achtung die Längen müssen übereinstimmen!\n",
    "print('Teilliste verändern: {}'.format(kopie))\n",
    "kopie.reverse()\n",
    "print('Von hinten nach vorne: {}'.format(kopie))\n",
    "print('Unveränderte Startliste: {}'.format(meine_liste))"
   ]
  },
  {
   "cell_type": "markdown",
   "metadata": {
    "id": "FhwNJFhHU6K2"
   },
   "source": [
    "Oft benutzte Listen können einfach erstellt werden:"
   ]
  },
  {
   "cell_type": "code",
   "execution_count": null,
   "metadata": {
    "colab": {
     "base_uri": "https://localhost:8080/"
    },
    "id": "oLrL86MaVKB_",
    "outputId": "e6dee5f7-1b3a-4032-fbb2-30e3c0d54493"
   },
   "outputs": [
    {
     "name": "stdout",
     "output_type": "stream",
     "text": [
      "Die ersten 10 ganzen Zahlen, angefangen mit 0: [0, 1, 2, 3, 4, 5, 6, 7, 8, 9]\n",
      "11 Punkte von 0 mit 100 mit gleichmäßigem Abstand:[  0.  10.  20.  30.  40.  50.  60.  70.  80.  90. 100.]\n"
     ]
    }
   ],
   "source": [
    "print('Die ersten 10 ganzen Zahlen, angefangen mit 0: {}'.format( list(range(10)) ))\n",
    "print('11 Punkte von 0 mit 100 mit gleichmäßigem Abstand:{}'.format(np.linspace(0,100,11)))"
   ]
  },
  {
   "cell_type": "markdown",
   "metadata": {
    "id": "HDP8vOCZWW4r"
   },
   "source": [
    "Dictionaries sind besondere Listen. Sie benutzen als Index nicht die Zahlen angefangen mit 0, sondern beliebige Schlüssel."
   ]
  },
  {
   "cell_type": "code",
   "execution_count": null,
   "metadata": {
    "colab": {
     "base_uri": "https://localhost:8080/"
    },
    "id": "UmdLENMdWonB",
    "outputId": "c185be29-b136-4b66-90c3-8e46f9a5a42e"
   },
   "outputs": [
    {
     "name": "stdout",
     "output_type": "stream",
     "text": [
      "Anzahl Beine einer Spinne\n",
      "Anzahl Beine einer Henne\n",
      "Alle Schlüssel:dict_keys(['Hund', 'Mensch', 'Spinne', 'Ameise', 'Henne'])\n"
     ]
    }
   ],
   "source": [
    "anzahl_beine = {'Hund':4,'Mensch':2,'Spinne':8,'Ameise':6}\n",
    "print('Anzahl Beine einer Spinne'.format(anzahl_beine['Spinne']))\n",
    "anzahl_beine['Henne'] = 2 # Zusätzliches Element einfügen.\n",
    "print('Anzahl Beine einer Henne'.format(anzahl_beine['Henne']))\n",
    "print('Alle Schlüssel:{}'.format(anzahl_beine.keys()))"
   ]
  },
  {
   "cell_type": "markdown",
   "metadata": {
    "id": "kv9R6oXmXlet"
   },
   "source": [
    "# Bedingungen und Schleifen\n",
    "\n",
    "In Python ist die Zeileneinrückung sehr wichtig. Hieran werden Blöcke erkannt."
   ]
  },
  {
   "cell_type": "code",
   "execution_count": null,
   "metadata": {
    "colab": {
     "base_uri": "https://localhost:8080/"
    },
    "id": "0_ZPcyCvZ3_x",
    "outputId": "3a278b7e-3914-46b5-fd4b-3dda2a8944a1"
   },
   "outputs": [
    {
     "name": "stdout",
     "output_type": "stream",
     "text": [
      "5 ist größer als z, da z=3.\n",
      "Jetzt ist 5 ist kleiner oder gleich z, da z=7.\n"
     ]
    }
   ],
   "source": [
    "z = 3\n",
    "if 5>z:\n",
    "  print('5 ist größer als z, da z={}.'.format(z))\n",
    "else:\n",
    "  print('5 ist kleiner oder gleich z, da z={}.'.format(z))\n",
    "\n",
    "# Das Ende der vorherigen Bedingung wird an der Einrückung erkannt.\n",
    "z = 7\n",
    "if 5>z:\n",
    "  print('5 ist größer als z, da z={}.'.format(z))\n",
    "else:\n",
    "  print('Jetzt ist 5 ist kleiner oder gleich z, da z={}.'.format(z))\n"
   ]
  },
  {
   "cell_type": "markdown",
   "metadata": {
    "id": "YI0DsFa3fVpz"
   },
   "source": [
    "Mit Schleifen kann man den Code wiederholen lassen."
   ]
  },
  {
   "cell_type": "code",
   "execution_count": null,
   "metadata": {
    "colab": {
     "base_uri": "https://localhost:8080/"
    },
    "id": "IuuuUedxfU-K",
    "outputId": "7761fe95-f2b0-40de-f414-cda4279e84e9"
   },
   "outputs": [
    {
     "name": "stdout",
     "output_type": "stream",
     "text": [
      "0\n",
      "1\n",
      "2\n",
      "3\n",
      "Jetzt ist z=4 und damit größer als 3.\n"
     ]
    }
   ],
   "source": [
    "z = 0\n",
    "while z<=3:\n",
    "  print(z)\n",
    "  z+=1\n",
    "print('Jetzt ist z={} und damit größer als 3.'.format(z))"
   ]
  },
  {
   "cell_type": "code",
   "execution_count": null,
   "metadata": {
    "colab": {
     "base_uri": "https://localhost:8080/"
    },
    "id": "wIY8euOsf3VV",
    "outputId": "3c382751-6c9f-48f1-bfae-9a77ccdc93fd"
   },
   "outputs": [
    {
     "name": "stdout",
     "output_type": "stream",
     "text": [
      "0\n",
      "1\n",
      "2\n",
      "3\n",
      "4\n"
     ]
    }
   ],
   "source": [
    "for i in range(5):\n",
    "  print(i)"
   ]
  },
  {
   "cell_type": "markdown",
   "metadata": {
    "id": "gLHcE1jOgeJx"
   },
   "source": [
    "Das ist besonders in Verbindung mit Listen und Dictionaries nützlich."
   ]
  },
  {
   "cell_type": "code",
   "execution_count": null,
   "metadata": {
    "colab": {
     "base_uri": "https://localhost:8080/"
    },
    "id": "iNalytgigkcS",
    "outputId": "130a48d2-5b37-47ec-b7fe-707086b0c21a"
   },
   "outputs": [
    {
     "name": "stdout",
     "output_type": "stream",
     "text": [
      "Die Zahlen >5 in [3, 10, 4, 5, 19, 11] sind:\n",
      "10\n",
      "19\n",
      "11\n"
     ]
    }
   ],
   "source": [
    "print('Die Zahlen >5 in {} sind:'.format(meine_liste))\n",
    "for zahl in meine_liste:\n",
    "  if zahl > 5:\n",
    "    print(zahl)"
   ]
  },
  {
   "cell_type": "code",
   "execution_count": null,
   "metadata": {
    "colab": {
     "base_uri": "https://localhost:8080/"
    },
    "id": "vUgMTDNAfSWg",
    "outputId": "0887e837-d627-440a-b3d3-16094aedf05f"
   },
   "outputs": [
    {
     "name": "stdout",
     "output_type": "stream",
     "text": [
      "Hund hat 4 Beine.\n",
      "Mensch hat 2 Beine.\n",
      "Spinne hat 8 Beine.\n",
      "Ameise hat 6 Beine.\n",
      "Henne hat 2 Beine.\n"
     ]
    }
   ],
   "source": [
    "for key in anzahl_beine.keys():\n",
    "  print('{} hat {} Beine.'.format(key,anzahl_beine[key]))"
   ]
  },
  {
   "cell_type": "markdown",
   "metadata": {
    "id": "EyMnYy77VMfg"
   },
   "source": [
    "# Plots\n",
    "\n",
    "Die Bibliothek *matplotlib* ermöglicht es Graphiken zu erstellen. Hier ein kleines Beispiel wie man eine Funktion plotten kann. Dazu muss man der Funktion *plot* eine Liste mit x-Werten übergeben und eine zweite Liste, die die dazugehörigen y-Werte enthält. "
   ]
  },
  {
   "cell_type": "code",
   "execution_count": null,
   "metadata": {
    "colab": {
     "base_uri": "https://localhost:8080/",
     "height": 265
    },
    "id": "iWkKxJ3jWGuz",
    "outputId": "68e24baa-679e-4eec-8d28-e2456ecc0e24"
   },
   "outputs": [
    {
     "data": {
      "image/png": "[encoded data removed]",
      "text/plain": [
       "<Figure size 432x288 with 1 Axes>"
      ]
     },
     "metadata": {
      "needs_background": "light",
      "tags": []
     },
     "output_type": "display_data"
    }
   ],
   "source": [
    "xs=np.linspace(0,10,1000) # Erstellt 1000 gleichmäßig verteilte Punkte zwischen 0 und 10\n",
    "ys=[np.sin(x) for x in xs] # Berechnet für jedes x den Funktionswert sin(x)\n",
    "\n",
    "plt.plot(xs,ys)\n",
    "plt.show()"
   ]
  },
  {
   "cell_type": "markdown",
   "metadata": {
    "id": "DQDXw_9GYVaY"
   },
   "source": [
    "# Methoden\n",
    "\n",
    "Code den man öfter benutzen will, kann man als Methoden zusammenfassen:"
   ]
  },
  {
   "cell_type": "code",
   "execution_count": null,
   "metadata": {
    "id": "5gU4jtlLhE-s"
   },
   "outputs": [],
   "source": [
    "def get_maximum(liste):\n",
    "  max = - np.inf\n",
    "  for i in range(len(liste)):\n",
    "    if liste[i]>max:\n",
    "      max = liste[i]\n",
    "  return max\n",
    "\n",
    "def print_maximum(liste):  \n",
    "  max = get_maximum(liste)\n",
    "  print('Das Maximum von {} ist {}.'.format(liste,max))"
   ]
  },
  {
   "cell_type": "code",
   "execution_count": null,
   "metadata": {
    "colab": {
     "base_uri": "https://localhost:8080/"
    },
    "id": "W6X2N6tlhqLF",
    "outputId": "71bdfc0d-8a37-4436-952e-3e5138c68273"
   },
   "outputs": [
    {
     "name": "stdout",
     "output_type": "stream",
     "text": [
      "Das Maximum von [3, 10, 4, 5, 19, 11] ist 19.\n",
      "Das Maximum von [9.9, 8.0, 1.2] ist 9.9.\n"
     ]
    }
   ],
   "source": [
    "print_maximum(meine_liste)\n",
    "print_maximum([9.9,8.0,1.2])"
   ]
  },
  {
   "cell_type": "markdown",
   "metadata": {
    "id": "G-j_1RKTYZlf"
   },
   "source": [
    "# Klassen\n",
    "\n",
    "In Python können auch Klassen definiert werden."
   ]
  },
  {
   "cell_type": "code",
   "execution_count": null,
   "metadata": {
    "colab": {
     "base_uri": "https://localhost:8080/"
    },
    "id": "aEx5HKjCilOK",
    "outputId": "52b500b6-520b-4df3-c586-1f97374421c9"
   },
   "outputs": [
    {
     "name": "stdout",
     "output_type": "stream",
     "text": [
      "Hallo! Ich bin Spike und habe 4 Beine.\n",
      "Hallo! Ich bin Rüdiger und habe 8 Beine.\n"
     ]
    }
   ],
   "source": [
    "class Tier:\n",
    "  # Der Konstruktor __init__ wird bei der Erstellung eines Objectes aufgerufen.\n",
    "  def __init__(self,name,beine):\n",
    "    self.name = name\n",
    "    self.beine = beine\n",
    "\n",
    "  # Jede Methode muss als ersten Parameter self enthalten. Damit kann man auf das Objekt zugreifen, dass die Methode ausführt.\n",
    "  def hallo(self):\n",
    "    print('Hallo! Ich bin {} und habe {} Beine.'.format(self.name,self.beine))\n",
    "\n",
    "hund = Tier('Spike',4)\n",
    "spinne = Tier('Rüdiger',8)\n",
    "\n",
    "hund.hallo()\n",
    "spinne.hallo()"
   ]
  },
  {
   "cell_type": "markdown",
   "metadata": {
    "id": "fEK--zOij4Z5"
   },
   "source": [
    "Das war nur eine kurze Einführung in Python. Damit können Sie bereits viele Probleme lösen, aber noch nicht alles. Für die Praxis ist der beste Tipp bei Problemen im Internet nach Lösungen zu suchen. Sie werden feststellen: Jedes Problem, das Sie haben, hatten schon mindestens 10 Leute vor Ihnen."
   ]
  }
 ],
 "metadata": {
  "colab": {
   "collapsed_sections": [],
   "name": "Hello_Python.ipynb",
   "provenance": []
  },
  "kernelspec": {
   "display_name": "Python 3",
   "language": "python",
   "name": "python3"
  },
  "language_info": {
   "codemirror_mode": {
    "name": "ipython",
    "version": 3
   },
   "file_extension": ".py",
   "mimetype": "text/x-python",
   "name": "python",
   "nbconvert_exporter": "python",
   "pygments_lexer": "ipython3",
   "version": "3.8.6"
  }
 },
 "nbformat": 4,
 "nbformat_minor": 4
}
