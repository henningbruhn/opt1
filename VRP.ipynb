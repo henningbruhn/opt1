{
 "cells": [
  {
   "cell_type": "markdown",
   "metadata": {},
   "source": [
    "# Vehicle routing problem als mip\n",
    "\n",
    "Wir betrachten hier das vehicle routing problem."
   ]
  },
  {
   "cell_type": "code",
   "execution_count": 1,
   "metadata": {},
   "outputs": [],
   "source": [
    "# installieren von mip --- wenn Sie das lokal ausführen, können Sie den Befehl evtl weglassen\n",
    "!pip install mip\n",
    "\n",
    "import mip\n",
    "import random\n",
    "import math"
   ]
  },
  {
   "cell_type": "markdown",
   "metadata": {},
   "source": [
    "## Zufallsinstanz\n",
    "\n",
    "wir erzeugen eine Zufallsinstanz mit euklidischen Distanzen"
   ]
  },
  {
   "cell_type": "code",
   "execution_count": 2,
   "metadata": {},
   "outputs": [],
   "source": [
    "def rnd_instance(n=15,k=3):\n",
    "    positions=[(random.random(),random.random()) for _ in range(n+1)]\n",
    "    positions[0]=(0.5,0.5)  ## wir setzen das Depot in die Mitte\n",
    "    d=[random.randint(1,3) for _ in positions]\n",
    "    return positions,d\n",
    "\n",
    "n=10 # Anzahl Kunden\n",
    "k=3  # Anzahl Lieferwagen\n",
    "q=10 # Kapazität der Lieferwagen\n",
    "positions,d=rnd_instance(n=n,k=k)"
   ]
  },
  {
   "cell_type": "markdown",
   "metadata": {},
   "source": [
    "Visualisierungscode -- der kann getrost ignoriert werden. "
   ]
  },
  {
   "cell_type": "code",
   "execution_count": 3,
   "metadata": {},
   "outputs": [
    {
     "data": {
      "image/png": "[encoded data removed]",
      "text/plain": [
       "<Figure size 504x504 with 1 Axes>"
      ]
     },
     "metadata": {},
     "output_type": "display_data"
    }
   ],
   "source": [
    "import matplotlib.pyplot as plt  # für Grafikausgabe\n",
    "### Wir benutzen das fivethirtyeight style, damit die plots ein bisschen hübscher aussehen\n",
    "### könnte auch weggelassen werden\n",
    "plt.style.use('fivethirtyeight')\n",
    "\n",
    "def show(positions,d,x=None):\n",
    "    plt.figure(figsize=(7,7))\n",
    "    depot=positions[0]\n",
    "    plt.scatter([depot[0]],[depot[1]],s=150,marker='s',label='Depot')\n",
    "    markers={1:'s',2:'p',3:'h'}\n",
    "    marker_sizes={1:80,2:140,3:180}\n",
    "    for customer,demand in zip(positions[1:],d[1:]):\n",
    "        plt.scatter([customer[0]],[customer[1]],color='r',s=marker_sizes[demand],marker=markers[demand])\n",
    "    \n",
    "    for bogus in [1,2,3]:\n",
    "        plt.scatter([bogus*100],[bogus*100],color='r',s=marker_sizes[bogus],marker=markers[bogus],label=\"Bedarf {}\".format(bogus))\n",
    "        \n",
    "    if x is not None:\n",
    "        n=len(positions)\n",
    "        E=[(u,v) for u in range(n+1) for v in range(n) if u!=v]\n",
    "        for xx,e in zip(x,E):\n",
    "            if xx.x==1:\n",
    "                u,v=e\n",
    "                plt.plot([positions[u][0],positions[v][0]],[positions[u][1],positions[v][1]],'k',zorder=-1,alpha=0.5,linewidth=2) \n",
    "\n",
    "    margin=0.05\n",
    "    plt.xlim(-margin,1+margin)\n",
    "    plt.ylim(-margin,1+margin)\n",
    "    plt.xticks([])\n",
    "    plt.yticks([])\n",
    "    plt.legend(loc=\"upper left\")\n",
    "    plt.show()   \n",
    "\n",
    "show(positions,d)"
   ]
  },
  {
   "cell_type": "markdown",
   "metadata": {},
   "source": [
    "## Das mip\n",
    "\n",
    "\n",
    "\\begin{align}\n",
    "\\min \\sum_{e\\in E}c_ex_e & & (1)\\\\\n",
    "\\sum_{e\\in\\delta^+(0)}x_e\\leq k && (2)\\\\\n",
    "\\sum_{e\\in\\delta^-(v)}x_e=1 & \\quad\\text{für alle }v\\in C & (3)\\\\\n",
    "\\sum_{e\\in\\delta^-(v)}x_e=\\sum_{e\\in\\delta^+(v)}x_e & \\quad\\text{für alle }v\\in C_0 & (4) \\\\\n",
    "y_u+d_u-y_v\\leq (1-x_{(u,v)})2q & \\quad\\text{für alle }(u,v)\\in E\\setminus\\delta^+(0)& (5)\\\\\n",
    "0\\leq y_v\\leq q&\\quad\\text{für alle }v\\in C_0& (6)\\\\\n",
    "x_e\\in\\{0,1\\}&\\quad\\text{für alle }e\\in E & (7)\n",
    "\\end{align}\n",
    "\n",
    "Bevor wir das Modell instantiieren, beschaffen wir uns noch die Menge aller Kunden, die Menge aller Kunden plus Depot und die Menge aller Kanten. Zusätzlich definieren wir uns Methoden für $\\delta^+(v)$ und $\\delta^-(v)$."
   ]
  },
  {
   "cell_type": "code",
   "execution_count": 4,
   "metadata": {},
   "outputs": [],
   "source": [
    "C0=range(1,n+1) # Menge der Kunden\n",
    "C=range(n+1)   # Menge Kunden+Depot, das Depot hat Nr 0\n",
    "# die Kantenmenge\n",
    "E=[(u,v) for u in range(n+1) for v in range(n+1) if u!=v]\n",
    "\n",
    "# Hilfsfunktionen: Indizies der ein- bzw ausgehenden Kanten bei einer Ecke v\n",
    "def ingoing_edges(v):\n",
    "    return [i for i,e in enumerate(E) if e[1]==v]\n",
    "\n",
    "def outgoing_edges(v):\n",
    "    return [i for i,e in enumerate(E) if e[0]==v]\n",
    "\n",
    "m=mip.Model()"
   ]
  },
  {
   "cell_type": "markdown",
   "metadata": {},
   "source": [
    "<code>enumerate</code> ist eine praktische eingebaute Methode. Zurückgeliefert werden Paare von (Index, Listeninhalt). Oben werden nach und nach Paare (i,e) zurück gegeben, wobei e eine Kante in E ist und i eben deren Position in der Liste E.\n",
    "\n",
    "Als nächstes führen wir die Variablen ein, gleich mit den nötigen Schranken $(6)$."
   ]
  },
  {
   "cell_type": "code",
   "execution_count": 5,
   "metadata": {},
   "outputs": [],
   "source": [
    "# die Variablen\n",
    "x=[m.add_var(var_type=mip.BINARY) for _ in E]\n",
    "y=[m.add_var(lb=0,ub=q) for _ in C]"
   ]
  },
  {
   "cell_type": "markdown",
   "metadata": {},
   "source": [
    "Die Kosten von $(u,v)$ ergeben sich einfach aus der Distanz in der Ebene. Also definieren wir eine Methode, die Distanz für $(u,v)$ ermittelt."
   ]
  },
  {
   "cell_type": "code",
   "execution_count": 6,
   "metadata": {},
   "outputs": [],
   "source": [
    "def L2_dist(p,q):\n",
    "    px,py=p\n",
    "    qx,qy=q\n",
    "    return math.sqrt((px-qx)**2+(py-qy)**2)\n",
    "\n",
    "def dist(e):\n",
    "    \"\"\"berechnet die Euklidische Länge der Kante e=(u,v)\"\"\"\n",
    "    u,v=e\n",
    "    return L2_dist(positions[u],positions[v])\n",
    "\n",
    "# Zielfunktion\n",
    "m.objective=mip.minimize(mip.xsum(dist(e)*x[i] for i,e in enumerate(E)))"
   ]
  },
  {
   "cell_type": "markdown",
   "metadata": {},
   "source": [
    "Höchstens k Lieferwagen starten am Depot (2):"
   ]
  },
  {
   "cell_type": "code",
   "execution_count": 7,
   "metadata": {},
   "outputs": [],
   "source": [
    "m+=mip.xsum(x[i] for i in outgoing_edges(0))<=k"
   ]
  },
  {
   "cell_type": "markdown",
   "metadata": {},
   "source": [
    "Jeder Kunde muss bedient werden (3):"
   ]
  },
  {
   "cell_type": "code",
   "execution_count": 8,
   "metadata": {},
   "outputs": [],
   "source": [
    "for v in C0:\n",
    "    m+=mip.xsum(x[i] for i in ingoing_edges(v))==1"
   ]
  },
  {
   "cell_type": "markdown",
   "metadata": {},
   "source": [
    "Wenn ein Lieferwagen beim Kunden oder Depot $v$ anlangt, muss er dort auch wieder abfahren (4):"
   ]
  },
  {
   "cell_type": "code",
   "execution_count": 9,
   "metadata": {},
   "outputs": [],
   "source": [
    "for v in C:\n",
    "    m+=mip.xsum(x[i] for i in ingoing_edges(v))-mip.xsum(x[i] for i in outgoing_edges(v))==0"
   ]
  },
  {
   "cell_type": "markdown",
   "metadata": {},
   "source": [
    "Jeder Lieferwagen, der einen Kunden anfährt, muss auch genügend Kapazität für den Kunden haben (5):"
   ]
  },
  {
   "cell_type": "code",
   "execution_count": 10,
   "metadata": {},
   "outputs": [],
   "source": [
    "for i,e in enumerate(E):\n",
    "    u,v=e\n",
    "    if u!=0:  # schließe Kanten aus, die aus dem Depot herausgehen\n",
    "        m+=y[u]+d[u]-y[v]<= (1-x[i])*2*q"
   ]
  },
  {
   "cell_type": "code",
   "execution_count": 11,
   "metadata": {},
   "outputs": [
    {
     "name": "stdout",
     "output_type": "stream",
     "text": [
      "OptimizationStatus.OPTIMAL\n"
     ]
    },
    {
     "data": {
      "image/png": "[encoded data removed]",
      "text/plain": [
       "<Figure size 504x504 with 1 Axes>"
      ]
     },
     "metadata": {},
     "output_type": "display_data"
    }
   ],
   "source": [
    "status=m.optimize()  # kann länger dauern....\n",
    "print(status)\n",
    "show(positions,d,x)"
   ]
  }
 ],
 "metadata": {
  "kernelspec": {
   "display_name": "Python 3",
   "language": "python",
   "name": "python3"
  },
  "language_info": {
   "codemirror_mode": {
    "name": "ipython",
    "version": 3
   },
   "file_extension": ".py",
   "mimetype": "text/x-python",
   "name": "python",
   "nbconvert_exporter": "python",
   "pygments_lexer": "ipython3",
   "version": "3.8.6"
  }
 },
 "nbformat": 4,
 "nbformat_minor": 4
}
