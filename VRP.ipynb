{
 "cells": [
  {
   "cell_type": "markdown",
   "metadata": {},
   "source": [
    "# Vehicle routing problem als mip"
   ]
  },
  {
   "cell_type": "code",
   "execution_count": 1,
   "metadata": {},
   "outputs": [
    {
     "name": "stdout",
     "output_type": "stream",
     "text": [
      "Using Python-MIP package version 1.8.1\n"
     ]
    }
   ],
   "source": [
    "import mip\n",
    "import random\n",
    "import math\n",
    "import matplotlib.pylab as plt  # für Grafikausgabe\n",
    "import numpy as np  # Standard-Bibliothek für wissenschaftliches Rechnen, könnte hier vermieden werden"
   ]
  },
  {
   "cell_type": "markdown",
   "metadata": {},
   "source": [
    "## Zufallsinstanz\n",
    "\n",
    "wir erzeugen eine Zufallsinstanz mit euklidischen Distanzen"
   ]
  },
  {
   "cell_type": "code",
   "execution_count": 2,
   "metadata": {},
   "outputs": [],
   "source": [
    "n=15 # Anzahl Kunden\n",
    "k=3  # Anzahl Lieferwagen\n",
    "q=10 # Kapazität der Lieferwagen\n",
    "\n",
    "C=range(1,n+1) # Menge der Kunden\n",
    "V=range(n+1)   # Menge Kunden+Depot, das Depot hat Nr 0\n",
    "# Wir platzieren die Kunden und das Depot zufällig in das [0,1]*[0,1]-Quadrat\n",
    "Cpos=np.array([(random.random(),random.random()) for _ in V])\n",
    "# die Kantenmenge\n",
    "E=[(u,v) for u in range(n+1) for v in range(n+1) if u!=v]\n",
    "# Zufallsnachfragen\n",
    "d=[random.randint(1,3) for _ in V]"
   ]
  },
  {
   "cell_type": "code",
   "execution_count": 3,
   "metadata": {},
   "outputs": [
    {
     "data": {
      "text/plain": [
       "Text(0.5, 1.0, 'Kunden in blau, Depot in rot, euklidische Distanzen')"
      ]
     },
     "execution_count": 3,
     "metadata": {},
     "output_type": "execute_result"
    },
    {
     "data": {
      "image/png": "[encoded data removed]",
      "text/plain": [
       "<Figure size 432x288 with 1 Axes>"
      ]
     },
     "metadata": {
      "needs_background": "light"
     },
     "output_type": "display_data"
    }
   ],
   "source": [
    "plt.scatter(Cpos[:,0],Cpos[:,1],c='b')\n",
    "plt.scatter([Cpos[0,0]],[Cpos[0,1]],c='r')\n",
    "plt.title('Kunden in blau, Depot in rot, euklidische Distanzen')"
   ]
  },
  {
   "cell_type": "markdown",
   "metadata": {},
   "source": [
    "## Das mip"
   ]
  },
  {
   "cell_type": "code",
   "execution_count": 4,
   "metadata": {},
   "outputs": [],
   "source": [
    "m=mip.Model()"
   ]
  },
  {
   "cell_type": "code",
   "execution_count": 5,
   "metadata": {},
   "outputs": [],
   "source": [
    "# die Variablen\n",
    "x=[m.add_var(var_type=mip.BINARY) for _ in E]\n",
    "y=[m.add_var(lb=0,ub=q) for _ in V]"
   ]
  },
  {
   "cell_type": "code",
   "execution_count": 6,
   "metadata": {},
   "outputs": [],
   "source": [
    "def dist(e):\n",
    "    \"\"\"berechnet die Euklidische Länge der Kante e=(u,v)\"\"\"\n",
    "    u,v=e\n",
    "    return math.sqrt((Cpos[u,0]-Cpos[v,0])**2+(Cpos[u,1]-Cpos[v,1])**2)"
   ]
  },
  {
   "cell_type": "code",
   "execution_count": 7,
   "metadata": {},
   "outputs": [],
   "source": [
    "# Zielfunktion\n",
    "m.objective=mip.minimize(mip.xsum(dist(e)*x[i] for i,e in enumerate(E)))"
   ]
  },
  {
   "cell_type": "code",
   "execution_count": 9,
   "metadata": {},
   "outputs": [],
   "source": [
    "# Hilfsfunktionen: Indizies der ein- bzw ausgehenden Kanten bei einer Ecke v\n",
    "def ingoing_edges(v):\n",
    "    return [i for i,e in enumerate(E) if e[1]==v]\n",
    "\n",
    "def outgoing_edges(v):\n",
    "    return [i for i,e in enumerate(E) if e[0]==v]"
   ]
  },
  {
   "cell_type": "code",
   "execution_count": 10,
   "metadata": {},
   "outputs": [],
   "source": [
    "# Höchstens k Lieferwagen starten am Depot\n",
    "m+=mip.xsum(x[i] for i in outgoing_edges(0))<=k"
   ]
  },
  {
   "cell_type": "code",
   "execution_count": 11,
   "metadata": {},
   "outputs": [],
   "source": [
    "# Jeder Kunde muss bedient werden\n",
    "for v in C:\n",
    "    m+=mip.xsum(x[i] for i in ingoing_edges(v))==1"
   ]
  },
  {
   "cell_type": "code",
   "execution_count": 12,
   "metadata": {},
   "outputs": [],
   "source": [
    "# Keine Teleportation der Lieferwagen\n",
    "for v in V:\n",
    "    m+=mip.xsum(x[i] for i in ingoing_edges(v))-mip.xsum(x[i] for i in outgoing_edges(v))==0"
   ]
  },
  {
   "cell_type": "code",
   "execution_count": 13,
   "metadata": {},
   "outputs": [],
   "source": [
    "# Auslastung der Lieferwagen erhöht sich, wenn sie am Kunden ankommen\n",
    "for i,e in enumerate(E):\n",
    "    u,v=e\n",
    "    if u!=0:  # Bedingung wird nicht für vom Depot ausgehender Kante erzwungen\n",
    "        m+=y[u]+d[u]-y[v]<= (1-x[i])*q"
   ]
  },
  {
   "cell_type": "code",
   "execution_count": null,
   "metadata": {},
   "outputs": [],
   "source": [
    "m.optimize()  # kann länger dauern...."
   ]
  }
 ],
 "metadata": {
  "kernelspec": {
   "display_name": "Python 3",
   "language": "python",
   "name": "python3"
  },
  "language_info": {
   "codemirror_mode": {
    "name": "ipython",
    "version": 3
   },
   "file_extension": ".py",
   "mimetype": "text/x-python",
   "name": "python",
   "nbconvert_exporter": "python",
   "pygments_lexer": "ipython3",
   "version": "3.8.6"
  }
 },
 "nbformat": 4,
 "nbformat_minor": 4
}
