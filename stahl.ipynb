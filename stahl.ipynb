{
 "cells": [
  {
   "cell_type": "markdown",
   "metadata": {},
   "source": [
    "# Einfaches Lineares Programm zur Stahlproduktion\n",
    "\n",
    "Ein einfaches lineares Programm zur Stahlproduktion wird hier aufgestellt und algorithmisch gelöst. \n",
    "\n",
    "$$\n",
    "\t\\begin{array}{lll}\n",
    "\t\\max & 600s_1+650s_2+500s_3 &\\\\\n",
    "\t\\textrm{unter} & 2s_1+s_2+1,5s_3&\\leq 20000 \\\\\n",
    "\t & 0,5s_1+2s_2+1,5s_3 &\\leq 10000\\\\\n",
    "\t & 0,05s_1+0,08s_2 +0,01s_3 &\\leq 1000  \\\\\n",
    "\t & 10s_1+12s_2 +8s_3 &\\leq 5000  \\\\\n",
    "\t & s_1,s_2,s_3&\\geq 0\n",
    "\t\\end{array}\n",
    "$$\n",
    "\n",
    "Wir verwenden dafür die Bibliothek <code>mip</code>, die sowohl in der Lage ist lineare Programme wie auch mixed integer programs zu lösen. Das Paket mip muss vorher installiert werden. Wenn Sie google colab verwenden, so können Sie mip wie unten in der Zelle installieren. Wenn Sie jupyter / python auf Ihrem eigenen Rechner laufen lassen, dann installieren Sie mip durch den Befehl <code>pip install mip</code>, den Sie in einem Terminal ausführen. \n",
    "\n",
    "Dokumentation zum mip-Paket findet sich hier: https://python-mip.readthedocs.io/en/latest/\n",
    "\n",
    "Das mip-Paket ist im Wesentlichen die Klebe zwischen dem eigentlich solver und der Anwendung. Das bedeutet insbesondere, dass das mip-Paket mit verschiedenen solvern kombiniert werden kann. Für uns ist das aber ersteinmal unerheblich -- mip kommt zusammen mit einem solver, der absolut ausreichend ist.\n",
    "\n",
    "Wenn Sie in Google Colab arbeiten, dann verwenden Sie die nächste Zelle so wie sie ist. Wenn Sie auf dem eigenen Rechner arbeiten und <code>mip</code> bereits installiert haben, dann löschen Sie die nächste Zelle oder kommentieren Sie per Raute den Installationsbefehl."
   ]
  },
  {
   "cell_type": "code",
   "execution_count": 1,
   "metadata": {},
   "outputs": [],
   "source": [
    "# für google colab\n",
    "!pip install mip  # Löschen / Auskommentieren, wenn Sie mip bereits installiert haben."
   ]
  },
  {
   "cell_type": "markdown",
   "metadata": {},
   "source": [
    " Nach dem Installieren müssen wir Python sagen, dass wir die Pakete verwenden wollen: dies geschieht mit <code>import paket_name</code>."
   ]
  },
  {
   "cell_type": "code",
   "execution_count": 2,
   "metadata": {},
   "outputs": [],
   "source": [
    "import mip"
   ]
  },
  {
   "cell_type": "markdown",
   "metadata": {},
   "source": [
    "<code>mip.Model</code> ist die zentrale Klasse, die sowohl das mip speichert als auch für die Lösung zuständig ist."
   ]
  },
  {
   "cell_type": "code",
   "execution_count": 3,
   "metadata": {},
   "outputs": [],
   "source": [
    "model=mip.Model()"
   ]
  },
  {
   "cell_type": "markdown",
   "metadata": {},
   "source": [
    "(Was macht der Punkt zwischen <code>mip</code> und <code>Model()</code>? Damit sagen wir Python, dass wir auf die Klasse namens <code>Model</code> zugreifen wollen, die sich im Paket <code>mip</code> befindet.)\n",
    "\n",
    "Wir legen drei Variablen an. \n",
    "\n",
    "$s_1\\geq 0, s_2\\geq 0, s_3\\geq 0$\n",
    "\n",
    "Die Variablen werden dem Model mit der Methode <code>add_var</code> hinzugefügt. Die Methode akzeptiert verschiedene Parameter. Wir nutzen hier \n",
    "den Parameter <code>lb</code>, der eine untere Schranke für die Variablen festlegt. (Tatsächlich wäre dies hier unnötig, da per default die untere Schranke bei 0 liegt.)\n",
    "Eine obere Schranke von 20000 ließe sich mit <code>ub=20000</code> anlegen. Die Funktion <code>model.add_var</code> liefert ein Objekt zurück -- dieses weisen wir einer (Python-)Variable mit <code>s1=...</code> zu, damit wir weiter mit den Variablen des LPs arbeiten können."
   ]
  },
  {
   "cell_type": "code",
   "execution_count": 4,
   "metadata": {},
   "outputs": [],
   "source": [
    "s1=model.add_var(lb=0)\n",
    "s2=model.add_var(lb=0)\n",
    "s3=model.add_var(lb=0)"
   ]
  },
  {
   "cell_type": "markdown",
   "metadata": {},
   "source": [
    "Als nächstes kommt die Zielfunktion dran: \n",
    "\n",
    "$\\max 600s_1+650s_2+500s_3$\n",
    "\n",
    "Die Zielfunktion wird durch den Parameter <code>model.objective</code> festgelegt -- dabei muss dem Modell noch mitgeteilt werden, ob maximiert oder minimiert wird. Dies geschieht mit den Methoden <code>mip.maximize</code> und <code>mip.minimize</code>. Die Zielfunktion selbst können wir ganz so schreiben wie oben im linearen Programm."
   ]
  },
  {
   "cell_type": "code",
   "execution_count": 5,
   "metadata": {},
   "outputs": [],
   "source": [
    "model.objective=mip.maximize(600*s1+650*s2+500*s3)"
   ]
  },
  {
   "cell_type": "markdown",
   "metadata": {},
   "source": [
    "Bedingungen lassen sich einfach zum Model hinzufügen.\n",
    "\n",
    "$2s_1+s_2+s3\\leq 20000$\n",
    "\n",
    "Die Syntax ist hier einfach, die Bedingung wird dem Modell hinzu addiert. Wir nutzen dabei den Operator <code>model+=...</code>, der eine Abkürzung für <code>model = model + ...</code> ist."
   ]
  },
  {
   "cell_type": "code",
   "execution_count": 6,
   "metadata": {},
   "outputs": [],
   "source": [
    "model+= 2*s1+s2+s3 <= 20000"
   ]
  },
  {
   "cell_type": "markdown",
   "metadata": {},
   "source": [
    "Drei weitere Bedingungen...\n",
    "\n",
    "$0.5s_1+2s_2+1.5s_3\\leq 10000$\n",
    "\n",
    "$0.05s_1+0.08s_2+0.01s_3\\leq 1000$\n",
    "\n",
    "$10s_1+12s_2+8s_3\\leq 5000$"
   ]
  },
  {
   "cell_type": "code",
   "execution_count": 7,
   "metadata": {},
   "outputs": [],
   "source": [
    "model+= 0.5*s1+2*s2+1.5*s3 <= 10000\n",
    "model+= 0.05*s1+0.08*s2+0.01*s3 <= 1000\n",
    "model+= 10*s1+12*s2+8*s3 <= 5000"
   ]
  },
  {
   "cell_type": "markdown",
   "metadata": {},
   "source": [
    "Wir starten den eigentlichen Algorithmus -- die Rückmeldung zeigt, dass das Optimum gefunden wurde. "
   ]
  },
  {
   "cell_type": "code",
   "execution_count": 8,
   "metadata": {},
   "outputs": [
    {
     "name": "stdout",
     "output_type": "stream",
     "text": [
      "Welcome to the CBC MILP Solver \n",
      "Version: Trunk\n",
      "Build Date: Oct 24 2021 \n",
      "\n",
      "Starting solution of the Linear programming problem using Primal Simplex\n",
      "\n"
     ]
    },
    {
     "data": {
      "text/plain": [
       "<OptimizationStatus.OPTIMAL: 0>"
      ]
     },
     "execution_count": 8,
     "metadata": {},
     "output_type": "execute_result"
    }
   ],
   "source": [
    "model.optimize()"
   ]
  },
  {
   "cell_type": "markdown",
   "metadata": {},
   "source": [
    "Ausgabe der Lösung sowie des Zielfunktionswertes. An die Werte der Variablen kommen wir mit <code>Variablenname.x</code> heran. Dh, nach der Lösung gibt <code>s1.x</code> den optimalen Wert der Variable s1 wider. Die Methode <code>objective_value</code> liefert den optimalen Zielfunktionswert zurück."
   ]
  },
  {
   "cell_type": "code",
   "execution_count": 9,
   "metadata": {},
   "outputs": [
    {
     "name": "stdout",
     "output_type": "stream",
     "text": [
      "s1=0.0, s2=0.0, s3=624.9999999999999\n",
      "Zielfunktionswert: 312499.99999999994\n"
     ]
    }
   ],
   "source": [
    "print(\"s1={}, s2={}, s3={}\".format(s1.x,s2.x,s3.x))\n",
    "print(\"Zielfunktionswert: {}\".format(model.objective_value))"
   ]
  },
  {
   "cell_type": "markdown",
   "metadata": {},
   "source": [
    "Wie man sieht, gibt es gewisse Rundungsungenauigkeiten. (Man sieht auch, dass das lineare Programm ein nicht so interessantes Problem beschreibt: Tatsächlich muss nur die maximale Menge der dritten Stahlsorte produziert werden.)"
   ]
  },
  {
   "cell_type": "markdown",
   "metadata": {},
   "source": [
    "Das mip-Paket ist in der Lage mit verschiedenen solvern zu arbeiten. Welcher solver gerade verwendet wurde, können wir uns ausgeben lassen:"
   ]
  },
  {
   "cell_type": "code",
   "execution_count": 10,
   "metadata": {},
   "outputs": [
    {
     "data": {
      "text/plain": [
       "'CBC'"
      ]
     },
     "execution_count": 10,
     "metadata": {},
     "output_type": "execute_result"
    }
   ],
   "source": [
    "model.solver_name"
   ]
  },
  {
   "cell_type": "markdown",
   "metadata": {},
   "source": [
    "<code>optimize</code> liefert je nach Verlauf der Optimierung verschiedene Werte zurück. Welche möglich sind, können wir uns angucken:"
   ]
  },
  {
   "cell_type": "code",
   "execution_count": 11,
   "metadata": {},
   "outputs": [
    {
     "name": "stdout",
     "output_type": "stream",
     "text": [
      "Help on class OptimizationStatus in module mip.constants:\n",
      "\n",
      "class OptimizationStatus(enum.Enum)\n",
      " |  OptimizationStatus(value, names=None, *, module=None, qualname=None, type=None, start=1, boundary=None)\n",
      " |  \n",
      " |  Status of the optimization\n",
      " |  \n",
      " |  Method resolution order:\n",
      " |      OptimizationStatus\n",
      " |      enum.Enum\n",
      " |      builtins.object\n",
      " |  \n",
      " |  Data and other attributes defined here:\n",
      " |  \n",
      " |  CUTOFF = <OptimizationStatus.CUTOFF: 7>\n",
      " |  \n",
      " |  ERROR = <OptimizationStatus.ERROR: -1>\n",
      " |  \n",
      " |  FEASIBLE = <OptimizationStatus.FEASIBLE: 3>\n",
      " |  \n",
      " |  INFEASIBLE = <OptimizationStatus.INFEASIBLE: 1>\n",
      " |  \n",
      " |  INT_INFEASIBLE = <OptimizationStatus.INT_INFEASIBLE: 4>\n",
      " |  \n",
      " |  LOADED = <OptimizationStatus.LOADED: 6>\n",
      " |  \n",
      " |  NO_SOLUTION_FOUND = <OptimizationStatus.NO_SOLUTION_FOUND: 5>\n",
      " |  \n",
      " |  OPTIMAL = <OptimizationStatus.OPTIMAL: 0>\n",
      " |  \n",
      " |  OTHER = <OptimizationStatus.OTHER: 10000>\n",
      " |  \n",
      " |  UNBOUNDED = <OptimizationStatus.UNBOUNDED: 2>\n",
      " |  \n",
      " |  ----------------------------------------------------------------------\n",
      " |  Data descriptors inherited from enum.Enum:\n",
      " |  \n",
      " |  name\n",
      " |      The name of the Enum member.\n",
      " |  \n",
      " |  value\n",
      " |      The value of the Enum member.\n",
      " |  \n",
      " |  ----------------------------------------------------------------------\n",
      " |  Methods inherited from enum.EnumType:\n",
      " |  \n",
      " |  __contains__(member) from enum.EnumType\n",
      " |      Return True if member is a member of this enum\n",
      " |      raises TypeError if member is not an enum member\n",
      " |      \n",
      " |      note: in 3.12 TypeError will no longer be raised, and True will also be\n",
      " |      returned if member is the value of a member in this enum\n",
      " |  \n",
      " |  __getitem__(name) from enum.EnumType\n",
      " |      Return the member matching `name`.\n",
      " |  \n",
      " |  __iter__() from enum.EnumType\n",
      " |      Return members in definition order.\n",
      " |  \n",
      " |  __len__() from enum.EnumType\n",
      " |      Return the number of members (no aliases)\n",
      " |  \n",
      " |  ----------------------------------------------------------------------\n",
      " |  Readonly properties inherited from enum.EnumType:\n",
      " |  \n",
      " |  __members__\n",
      " |      Returns a mapping of member name->value.\n",
      " |      \n",
      " |      This mapping lists all enum members, including aliases. Note that this\n",
      " |      is a read-only view of the internal mapping.\n",
      "\n"
     ]
    }
   ],
   "source": [
    "help(mip.constants.OptimizationStatus)"
   ]
  }
 ],
 "metadata": {
  "kernelspec": {
   "display_name": "Python 3 (ipykernel)",
   "language": "python",
   "name": "python3"
  },
  "language_info": {
   "codemirror_mode": {
    "name": "ipython",
    "version": 3
   },
   "file_extension": ".py",
   "mimetype": "text/x-python",
   "name": "python",
   "nbconvert_exporter": "python",
   "pygments_lexer": "ipython3",
   "version": "3.11.0"
  }
 },
 "nbformat": 4,
 "nbformat_minor": 4
}
