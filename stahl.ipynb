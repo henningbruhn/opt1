{
 "cells": [
  {
   "cell_type": "markdown",
   "metadata": {},
   "source": [
    "# Einfaches Lineares Programm zur Stahlproduktion\n",
    "\n",
    "Ein einfaches lineares Programm zur Stahlproduktion wird hier aufgestellt und algorithmisch gelöst. \n",
    "\n",
    "$$\n",
    "\t\\begin{array}{lll}\n",
    "\t\\max & 600s_1+650s_2+500s_3 &\\\\\n",
    "\t\\textrm{unter} & 2s_1+s_2+1,5s_3&\\leq 20000 \\\\\n",
    "\t & 0,5s_1+2s_2+1,5s_3 &\\leq 10000\\\\\n",
    "\t & 0,05s_1+0,08s_2 +0,01s_3 &\\leq 1000  \\\\\n",
    "\t & 10s_1+12s_2 +8s_3 &\\leq 5000  \\\\\n",
    "\t & s_1,s_2,s_3&\\geq 0\n",
    "\t\\end{array}\n",
    "$$\n",
    "\n",
    "Wir verwenden dafür die Bibliothek **mip**, die sowohl in der Lage ist lineare Programme wie auch mixed integer programs zu lösen. Das Paket mip muss vorher installiert werden. Wenn Sie google colab verwenden, so können Sie mip wie unten in der Zelle installieren. Wenn Sie jupyter / python auf Ihrem eigenen Rechner laufen lassen, dann installieren Sie mip durch den Befehl \"pip install mip\", den Sie in einem Terminal ausführen. \n",
    "\n",
    "Dokumentation zum mip-Paket findet sich hier: https://python-mip.readthedocs.io/en/latest/\n",
    "\n",
    "Das mip-Paket ist im Wesentlichen die Klebe zwischen dem eigentlich solver und der Anwendung. Das bedeutet insbesondere, dass das mip-Paket mit verschiedenen solvern kombiniert werden kann. Für uns ist das aber ersteinmal unerheblich -- mip kommt zusammen mit einem solver, der absolut ausreichend ist."
   ]
  },
  {
   "cell_type": "code",
   "execution_count": 1,
   "metadata": {},
   "outputs": [],
   "source": [
    "# für google colab: entfernen Sie die Raute in der nächsten Zeile\n",
    "# !pip install mip"
   ]
  },
  {
   "cell_type": "code",
   "execution_count": 2,
   "metadata": {},
   "outputs": [],
   "source": [
    "import mip"
   ]
  },
  {
   "cell_type": "markdown",
   "metadata": {},
   "source": [
    "<code>mip.Model</code> ist die zentrale Klasse, die sowohl das mip speichert als auch für die Lösung zuständig ist."
   ]
  },
  {
   "cell_type": "code",
   "execution_count": 3,
   "metadata": {},
   "outputs": [],
   "source": [
    "m=mip.Model()"
   ]
  },
  {
   "cell_type": "markdown",
   "metadata": {},
   "source": [
    "Wir legen drei Variablen an. \n",
    "\n",
    "$s_1\\geq 0, s_2\\geq 0, s_3\\geq 0$\n",
    "\n",
    "Die Variablen werden dem Model mit der Methode <code>add_var</code> hinzugefügt. Die Methode akzeptiert verschiedene Parameter. Wir nutzen hier \n",
    "den Parameter <code>lb</code>, der eine untere Schranke für die Variablen festlegt. (Tatsächlich wäre dies hier unnötig, da per default die untere Schranke bei 0 liegt.)\n",
    "Eine obere Schranke von 20000 ließe sich mit <code>ub=20000</code> anlegen."
   ]
  },
  {
   "cell_type": "code",
   "execution_count": 4,
   "metadata": {},
   "outputs": [],
   "source": [
    "s1=m.add_var(lb=0)\n",
    "s2=m.add_var(lb=0)\n",
    "s3=m.add_var(lb=0)"
   ]
  },
  {
   "cell_type": "markdown",
   "metadata": {},
   "source": [
    "Die Zielfunktion. \n",
    "\n",
    "$\\max 600s_1+650s_2+500s_3$\n",
    "\n",
    "Die Zielfunktion wird durch die Methode <code>objective</code> festgelegt -- dabei muss dem Modell noch mitgeteilt werden, ob maximiert oder minimiert wird. Dies\n",
    "geschieht mit den Methoden <code>mip.maximize</code> und <code>mip.minimize</code>."
   ]
  },
  {
   "cell_type": "code",
   "execution_count": 5,
   "metadata": {},
   "outputs": [],
   "source": [
    "m.objective=mip.maximize(600*s1+650*s2+500*s3)"
   ]
  },
  {
   "cell_type": "markdown",
   "metadata": {},
   "source": [
    "Bedingungen lassen sich einfach zum Model hinzufügen.\n",
    "\n",
    "$2s_1+s_2+s3\\leq 20000$\n",
    "\n",
    "Die Syntax ist hier einfach, die Bedingung wird dem Modell hinzu addiert:"
   ]
  },
  {
   "cell_type": "code",
   "execution_count": 6,
   "metadata": {},
   "outputs": [],
   "source": [
    "m+= 2*s1+s2+s3 <= 20000"
   ]
  },
  {
   "cell_type": "markdown",
   "metadata": {},
   "source": [
    "Drei weitere Bedingungen...\n",
    "\n",
    "$0.5s_1+2s_2+1.5s_3\\leq 10000$\n",
    "\n",
    "$0.05s_1+0.08s_2+0.01s_3\\leq 1000$\n",
    "\n",
    "$10s_1+12s_2+8s_3\\leq 5000$"
   ]
  },
  {
   "cell_type": "code",
   "execution_count": 7,
   "metadata": {},
   "outputs": [],
   "source": [
    "m+= 0.5*s1+2*s2+1.5*s3 <= 10000\n",
    "m+= 0.05*s1+0.08*s2+0.01*s3 <= 1000\n",
    "m+= 10*s1+12*s2+8*s3 <= 5000"
   ]
  },
  {
   "cell_type": "markdown",
   "metadata": {},
   "source": [
    "Wir starten den eigentlichen Algorithmus -- die Rückmeldung zeigt, dass das Optimum gefunden wurde. "
   ]
  },
  {
   "cell_type": "code",
   "execution_count": 8,
   "metadata": {},
   "outputs": [
    {
     "data": {
      "text/plain": [
       "<OptimizationStatus.OPTIMAL: 0>"
      ]
     },
     "execution_count": 8,
     "metadata": {},
     "output_type": "execute_result"
    }
   ],
   "source": [
    "m.optimize()"
   ]
  },
  {
   "cell_type": "markdown",
   "metadata": {},
   "source": [
    "Ausgabe der Lösung sowie des Zielfunktionswertes. An die Werte der Variablen kommen wir mit <code>Variablenname.x</code> heran. Dh, nach der Lösung gibt <code>s1.x</code> den optimalen Wert der Variable s1 wider. Die Methode <code>objective_value</code> liefert den optimalen Zielfunktionswert zurück."
   ]
  },
  {
   "cell_type": "code",
   "execution_count": 9,
   "metadata": {},
   "outputs": [
    {
     "name": "stdout",
     "output_type": "stream",
     "text": [
      "s1=0.0, s2=0.0, s3=624.9999999999999\n",
      "Zielfunktionswert: 312499.99999999994\n"
     ]
    }
   ],
   "source": [
    "print(\"s1={}, s2={}, s3={}\".format(s1.x,s2.x,s3.x))\n",
    "print(\"Zielfunktionswert: {}\".format(m.objective_value))"
   ]
  },
  {
   "cell_type": "markdown",
   "metadata": {},
   "source": [
    "Wie man sieht, gibt es gewisse Rundungsungenauigkeiten. (Man sieht auch, dass das lineare Programm ein nicht so interessantes Problem beschreibt: Tatsächlich muss nur die maximale Menge der dritten Stahlsorte produziert werden.)"
   ]
  },
  {
   "cell_type": "markdown",
   "metadata": {},
   "source": [
    "Das mip-Paket ist in der Lage mit verschiedenen solvern zu arbeiten. Welcher solver gerade verwendet wurde, können wir uns ausgeben lassen:"
   ]
  },
  {
   "cell_type": "code",
   "execution_count": 10,
   "metadata": {},
   "outputs": [
    {
     "data": {
      "text/plain": [
       "'CBC'"
      ]
     },
     "execution_count": 10,
     "metadata": {},
     "output_type": "execute_result"
    }
   ],
   "source": [
    "m.solver_name"
   ]
  },
  {
   "cell_type": "markdown",
   "metadata": {},
   "source": [
    "<code>optimize</code> liefert je nach Verlauf der Optimierung verschiedene Werte zurück. Welche möglich sind, können wir uns angucken:"
   ]
  },
  {
   "cell_type": "code",
   "execution_count": 18,
   "metadata": {},
   "outputs": [
    {
     "name": "stdout",
     "output_type": "stream",
     "text": [
      "Help on class OptimizationStatus in module mip.constants:\n",
      "\n",
      "class OptimizationStatus(enum.Enum)\n",
      " |  OptimizationStatus(value, names=None, *, module=None, qualname=None, type=None, start=1)\n",
      " |  \n",
      " |  Status of the optimization\n",
      " |  \n",
      " |  Method resolution order:\n",
      " |      OptimizationStatus\n",
      " |      enum.Enum\n",
      " |      builtins.object\n",
      " |  \n",
      " |  Data and other attributes defined here:\n",
      " |  \n",
      " |  CUTOFF = <OptimizationStatus.CUTOFF: 7>\n",
      " |  \n",
      " |  ERROR = <OptimizationStatus.ERROR: -1>\n",
      " |  \n",
      " |  FEASIBLE = <OptimizationStatus.FEASIBLE: 3>\n",
      " |  \n",
      " |  INFEASIBLE = <OptimizationStatus.INFEASIBLE: 1>\n",
      " |  \n",
      " |  INT_INFEASIBLE = <OptimizationStatus.INT_INFEASIBLE: 4>\n",
      " |  \n",
      " |  LOADED = <OptimizationStatus.LOADED: 6>\n",
      " |  \n",
      " |  NO_SOLUTION_FOUND = <OptimizationStatus.NO_SOLUTION_FOUND: 5>\n",
      " |  \n",
      " |  OPTIMAL = <OptimizationStatus.OPTIMAL: 0>\n",
      " |  \n",
      " |  OTHER = <OptimizationStatus.OTHER: 10000>\n",
      " |  \n",
      " |  UNBOUNDED = <OptimizationStatus.UNBOUNDED: 2>\n",
      " |  \n",
      " |  ----------------------------------------------------------------------\n",
      " |  Data descriptors inherited from enum.Enum:\n",
      " |  \n",
      " |  name\n",
      " |      The name of the Enum member.\n",
      " |  \n",
      " |  value\n",
      " |      The value of the Enum member.\n",
      " |  \n",
      " |  ----------------------------------------------------------------------\n",
      " |  Readonly properties inherited from enum.EnumMeta:\n",
      " |  \n",
      " |  __members__\n",
      " |      Returns a mapping of member name->value.\n",
      " |      \n",
      " |      This mapping lists all enum members, including aliases. Note that this\n",
      " |      is a read-only view of the internal mapping.\n",
      "\n"
     ]
    }
   ],
   "source": [
    "help(mip.constants.OptimizationStatus)"
   ]
  }
 ],
 "metadata": {
  "kernelspec": {
   "display_name": "Python 3",
   "language": "python",
   "name": "python3"
  },
  "language_info": {
   "codemirror_mode": {
    "name": "ipython",
    "version": 3
   },
   "file_extension": ".py",
   "mimetype": "text/x-python",
   "name": "python",
   "nbconvert_exporter": "python",
   "pygments_lexer": "ipython3",
   "version": "3.8.6"
  }
 },
 "nbformat": 4,
 "nbformat_minor": 4
}
