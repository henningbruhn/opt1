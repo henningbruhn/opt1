{
 "cells": [
  {
   "cell_type": "markdown",
   "id": "e325b9fa-8b3e-4347-9b7d-66f590c1af26",
   "metadata": {},
   "source": [
    "# Polytope in $\\mathbb R^3$\n",
    "\n",
    "benötigt folgende Pakete\n",
    "* numpy: in vielen Distribution dabei, sonst <code>pip install numpy</code> oder <code>conda install numpy</code>\n",
    "* pycddlib: <code>pip install pycddlip</code>\n",
    "* plotly: <code>pip install plotly</code> oder <code>conda install plotly</code>\n",
    "* ipywidgets: <code>pip install ipywidgets</code> oder <code>conda install ipywidgets</code>\n",
    "* simplex & polyview: von mir, download per wget oder manuell, müssen im gleichen Verzeichnis wie dieses Notebook liegen"
   ]
  },
  {
   "cell_type": "code",
   "execution_count": 1,
   "id": "61d0f061-c015-42f2-840e-b561be16850d",
   "metadata": {},
   "outputs": [],
   "source": [
    "import simplex\n",
    "from polyview import setup_poly_viewer"
   ]
  },
  {
   "cell_type": "markdown",
   "id": "08bcada4-2f0e-4a2e-af80-45ed740466c2",
   "metadata": {},
   "source": [
    "## Würfel\n",
    "\n",
    "$$\n",
    "\\begin{pmatrix}x\\\\y\\\\z\\end{pmatrix}\\in\\mathbb R^3: \\begin{pmatrix}0\\\\0\\\\0\\end{pmatrix} \\leq \\begin{pmatrix}x\\\\y\\\\z\\end{pmatrix} \\leq \\begin{pmatrix}1\\\\1\\\\1\\end{pmatrix} \n",
    "$$"
   ]
  },
  {
   "cell_type": "code",
   "execution_count": 2,
   "id": "008e34e6-2494-41bf-bf05-d27843b5b469",
   "metadata": {},
   "outputs": [
    {
     "data": {
      "application/vnd.jupyter.widget-view+json": {
       "model_id": "cb36848a8c924f0aa94d468bbe550025",
       "version_major": 2,
       "version_minor": 0
      },
      "text/plain": [
       "HBox(children=(FigureWidget({\n",
       "    'data': [{'mode': 'markers',\n",
       "              'type': 'scatter3d',\n",
       "            …"
      ]
     },
     "metadata": {},
     "output_type": "display_data"
    }
   ],
   "source": [
    "A=[[1,0,0],[0,1,0],[0,0,1],[-1,0,0],[0,-1,0],[0,0,-1]]\n",
    "b=[1,1,1,0,0,0]\n",
    "\n",
    "setup_poly_viewer(A,b)"
   ]
  },
  {
   "cell_type": "markdown",
   "id": "270e9998-d5c8-4902-95ca-71ef41076599",
   "metadata": {},
   "source": [
    "## Oktaeder\n",
    "\n",
    "$$\n",
    "\\begin{pmatrix}x\\\\y\\\\z\\end{pmatrix}\\in\\mathbb R^3: |x|+|y|+|z|\\leq 1\n",
    "$$"
   ]
  },
  {
   "cell_type": "code",
   "execution_count": 3,
   "id": "d121ba40-1319-42dc-b016-e199b7a3e9a5",
   "metadata": {},
   "outputs": [
    {
     "data": {
      "application/vnd.jupyter.widget-view+json": {
       "model_id": "c97edd88152046df9137d47345002233",
       "version_major": 2,
       "version_minor": 0
      },
      "text/plain": [
       "HBox(children=(FigureWidget({\n",
       "    'data': [{'mode': 'markers',\n",
       "              'type': 'scatter3d',\n",
       "            …"
      ]
     },
     "metadata": {},
     "output_type": "display_data"
    }
   ],
   "source": [
    "setup_poly_viewer(*simplex.octahedron())"
   ]
  },
  {
   "cell_type": "markdown",
   "id": "b0fc00d4-e2b3-4331-b542-f26ee44f3127",
   "metadata": {},
   "source": [
    "## Dodekaeder"
   ]
  },
  {
   "cell_type": "code",
   "execution_count": 4,
   "id": "13346ce4-f872-4bd1-8965-865d093f135b",
   "metadata": {},
   "outputs": [
    {
     "data": {
      "application/vnd.jupyter.widget-view+json": {
       "model_id": "1402ebebe2bc490d9d074328e1b5f1be",
       "version_major": 2,
       "version_minor": 0
      },
      "text/plain": [
       "HBox(children=(FigureWidget({\n",
       "    'data': [{'mode': 'markers',\n",
       "              'type': 'scatter3d',\n",
       "            …"
      ]
     },
     "metadata": {},
     "output_type": "display_data"
    }
   ],
   "source": [
    "setup_poly_viewer(*simplex.dodecahedron())"
   ]
  },
  {
   "cell_type": "markdown",
   "id": "bb6b8568-58ef-469c-bebd-a1495b4d2f77",
   "metadata": {},
   "source": [
    "## Ein allgemeineres Polytop"
   ]
  },
  {
   "cell_type": "code",
   "execution_count": 5,
   "id": "c19d621a-ee5f-4851-9ed5-efb09a5cbe77",
   "metadata": {},
   "outputs": [
    {
     "data": {
      "application/vnd.jupyter.widget-view+json": {
       "model_id": "d9b5c1f0b5954ba08fa0d3ae5381119f",
       "version_major": 2,
       "version_minor": 0
      },
      "text/plain": [
       "HBox(children=(FigureWidget({\n",
       "    'data': [{'mode': 'markers',\n",
       "              'type': 'scatter3d',\n",
       "            …"
      ]
     },
     "metadata": {},
     "output_type": "display_data"
    }
   ],
   "source": [
    "setup_poly_viewer(*simplex.sample_poly())"
   ]
  },
  {
   "cell_type": "markdown",
   "id": "1b4bd666-5ce6-4e80-ab77-e48a199991c0",
   "metadata": {},
   "source": [
    "## Ein 2-dimensionales Polytop"
   ]
  },
  {
   "cell_type": "code",
   "execution_count": 6,
   "id": "3398f4a5-82e9-4f23-9759-a5be2c04719a",
   "metadata": {},
   "outputs": [
    {
     "data": {
      "application/vnd.jupyter.widget-view+json": {
       "model_id": "5caeef0aef3d42e99742e405551c7dda",
       "version_major": 2,
       "version_minor": 0
      },
      "text/plain": [
       "HBox(children=(FigureWidget({\n",
       "    'data': [{'mode': 'markers',\n",
       "              'type': 'scatter3d',\n",
       "            …"
      ]
     },
     "metadata": {},
     "output_type": "display_data"
    }
   ],
   "source": [
    "setup_poly_viewer(*simplex.flat())"
   ]
  },
  {
   "cell_type": "markdown",
   "id": "b3b827b0-09e3-4c88-8627-cd0b6c4d027a",
   "metadata": {},
   "source": [
    "## Unbeschränktes Polyeder"
   ]
  },
  {
   "cell_type": "code",
   "execution_count": 23,
   "id": "8e501477-b190-4f48-a532-3f62df60e6e3",
   "metadata": {},
   "outputs": [
    {
     "data": {
      "application/vnd.jupyter.widget-view+json": {
       "model_id": "04b75dc0025444a7972bc8077247bb89",
       "version_major": 2,
       "version_minor": 0
      },
      "text/plain": [
       "HBox(children=(FigureWidget({\n",
       "    'data': [{'mode': 'markers',\n",
       "              'type': 'scatter3d',\n",
       "            …"
      ]
     },
     "metadata": {},
     "output_type": "display_data"
    }
   ],
   "source": [
    "A=[[-0.5,-1,0.3],[-1,-1,0],[1.5,-1,0],[-0.2,-0.2,1],[0.1,-1,-1],[1,-0.25,-0.1],[-0.2,-0.3,-1]]\n",
    "b=[3,3,3,8,3,5,10]\n",
    "setup_poly_viewer(A,b,range=[[-20,20],[-5,20],[-20,20]],enclose_factor=21)"
   ]
  },
  {
   "cell_type": "markdown",
   "id": "f5d4778e-05e0-4fc4-871a-470f1be16d87",
   "metadata": {},
   "source": [
    "## Kegel"
   ]
  },
  {
   "cell_type": "code",
   "execution_count": 39,
   "id": "534cd576-a2a0-4721-a3e8-dc1a00b74e1a",
   "metadata": {},
   "outputs": [
    {
     "data": {
      "application/vnd.jupyter.widget-view+json": {
       "model_id": "b9b41a1be03d4458b75b786e2247d30e",
       "version_major": 2,
       "version_minor": 0
      },
      "text/plain": [
       "HBox(children=(FigureWidget({\n",
       "    'data': [{'mode': 'markers',\n",
       "              'type': 'scatter3d',\n",
       "            …"
      ]
     },
     "metadata": {},
     "output_type": "display_data"
    }
   ],
   "source": [
    "A=[[-3,1.5,0.5],[-0.6,-1,0],[-1,-1,-1],[-2,2,2],[-0.2,-0.2,0.2]]\n",
    "b=[0,0,0,0,0]\n",
    "setup_poly_viewer(A,b,range=[[-1,10],[-10,10],[-10,10]],enclose_factor=11)"
   ]
  },
  {
   "cell_type": "markdown",
   "id": "4aa6cda7-85e6-470d-b87c-b14ed791a859",
   "metadata": {},
   "source": [
    "## Polyeder ohne Ecke"
   ]
  },
  {
   "cell_type": "code",
   "execution_count": 24,
   "id": "1f930616-ce77-4921-b5af-6944847eda9a",
   "metadata": {},
   "outputs": [
    {
     "data": {
      "application/vnd.jupyter.widget-view+json": {
       "model_id": "5bf564efa0e34b4dbf10b232c7489dd5",
       "version_major": 2,
       "version_minor": 0
      },
      "text/plain": [
       "HBox(children=(FigureWidget({\n",
       "    'data': [{'mode': 'markers',\n",
       "              'type': 'scatter3d',\n",
       "            …"
      ]
     },
     "metadata": {},
     "output_type": "display_data"
    }
   ],
   "source": [
    "wedge_A=[[-1,0,0],[1,-1,0]]\n",
    "wedge_b=[0,0]\n",
    "setup_poly_viewer(wedge_A,wedge_b,range=[[-10,20],[-10,20],[-10,20]],enclose_factor=21)"
   ]
  }
 ],
 "metadata": {
  "kernelspec": {
   "display_name": "Python 3",
   "language": "python",
   "name": "python3"
  },
  "language_info": {
   "codemirror_mode": {
    "name": "ipython",
    "version": 3
   },
   "file_extension": ".py",
   "mimetype": "text/x-python",
   "name": "python",
   "nbconvert_exporter": "python",
   "pygments_lexer": "ipython3",
   "version": "3.8.8"
  }
 },
 "nbformat": 4,
 "nbformat_minor": 5
}
