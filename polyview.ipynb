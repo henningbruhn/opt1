{
 "cells": [
  {
   "cell_type": "markdown",
   "id": "e325b9fa-8b3e-4347-9b7d-66f590c1af26",
   "metadata": {},
   "source": [
    "# Polytope in $\\mathbb R^3$\n",
    "\n",
    "Diese Notebook illustriert Polyeder und Polytope im 3-dimensionalen Raum. \n",
    "\n",
    "Es benötigt einige Pakete. \n",
    "* pycddlib: <code>pip install pycddlip</code>\n",
    "* numpy: in vielen Distribution dabei, sonst <code>pip install numpy</code> oder <code>conda install numpy</code>\n",
    "* plotly: <code>pip install plotly</code> oder <code>conda install plotly</code>\n",
    "* ipywidgets: <code>pip install ipywidgets</code> oder <code>conda install ipywidgets</code>\n",
    "* simplex & polyview: Auf Moodle, download per wget oder manuell, müssen im gleichen Verzeichnis wie dieses Notebook liegen\n",
    "\n",
    "Wenn Sie mit Colab arbeiten, führen Sie einfach folgende Zelle aus. Wenn Sie auf Ihrem eigenen Rechner den Code ausführen, dann müssen gegebenfalls einige der Pakete manuell installieren. Insbesondere müssen Sie die beiden Pythondateien <code>simplex.py</code> und <code>polyview.py</code> herunterladen (finden sich auf Moodle) und im gleichen Verzeichnis wie dieses Notebook speichern."
   ]
  },
  {
   "cell_type": "code",
   "execution_count": null,
   "id": "98c6e5e5-1060-416b-b351-5971baac86c6",
   "metadata": {},
   "outputs": [],
   "source": [
    "# Nur, wenn Sie in Colab arbeiten\n",
    "!wget -q https://raw.githubusercontent.com/henningbruhn/opt1/main/polyview.py\n",
    "!wget -q https://raw.githubusercontent.com/henningbruhn/opt1/main/simplex.py  \n",
    "\n",
    "from google.colab import output\n",
    "output.enable_custom_widget_manager()"
   ]
  },
  {
   "cell_type": "code",
   "execution_count": 1,
   "id": "61d0f061-c015-42f2-840e-b561be16850d",
   "metadata": {},
   "outputs": [],
   "source": [
    "import simplex\n",
    "from polyview import setup_poly_viewer"
   ]
  },
  {
   "cell_type": "markdown",
   "id": "08bcada4-2f0e-4a2e-af80-45ed740466c2",
   "metadata": {},
   "source": [
    "## Würfel\n",
    "\n",
    "$$\n",
    "\\begin{pmatrix}x\\\\y\\\\z\\end{pmatrix}\\in\\mathbb R^3: \\begin{pmatrix}0\\\\0\\\\0\\end{pmatrix} \\leq \\begin{pmatrix}x\\\\y\\\\z\\end{pmatrix} \\leq \\begin{pmatrix}1\\\\1\\\\1\\end{pmatrix} \n",
    "$$\n",
    "\n",
    "Wenn Sie die Zelle unten ausführen, sollten Sie ein 3D-Plot des Würfels sehen. Mit der Maus können Sie den Würfel drehen und von allen Seiten betrachten. (Ja, ist ein Würfel und daher nicht sonderlich spannend.) Mit den Checkboxen können Sie sich anzeigen lassen, wie die jeweilige Ungleichung das Polyeder begrenzt. Angezeigt wird der Bereich in dem die Ungleichung mit Gleichheit erfüllt wird. Mit dem Button können Sie die Anzeige umschalten zwischen der vollen Ebene (Gleichheit in der Ungleichung definiert eine Ebene) und dem Schnitt mit dem Polyeder.\n",
    "\n",
    "Die Funktion <code>setup_poly_viewer</code> erwartet als Eingabe die Matrix der linken Seite <code>A</code> und den Vektor <code>b</code> der rechten Seite. D.h. angezeigt wird das Polyeder, das durch \n",
    "\\begin{align}\n",
    "x,y,z&\\in\\mathbb R\\\\\n",
    "A\\begin{pmatrix}x\\\\y\\\\z\\end{pmatrix}&\\leq b\n",
    "\\end{align}\n",
    "definiert wird."
   ]
  },
  {
   "cell_type": "code",
   "execution_count": 2,
   "id": "008e34e6-2494-41bf-bf05-d27843b5b469",
   "metadata": {},
   "outputs": [
    {
     "data": {
      "application/vnd.jupyter.widget-view+json": {
       "model_id": "1bcff7910a4840f2b443325e8f58beb8",
       "version_major": 2,
       "version_minor": 0
      },
      "text/plain": [
       "HBox(children=(FigureWidget({\n",
       "    'data': [{'mode': 'markers',\n",
       "              'type': 'scatter3d',\n",
       "            …"
      ]
     },
     "metadata": {},
     "output_type": "display_data"
    }
   ],
   "source": [
    "A=[[1,0,0],[0,1,0],[0,0,1],[-1,0,0],[0,-1,0],[0,0,-1]]\n",
    "b=[1,1,1,0,0,0]\n",
    "\n",
    "setup_poly_viewer(A,b)"
   ]
  },
  {
   "cell_type": "markdown",
   "id": "270e9998-d5c8-4902-95ca-71ef41076599",
   "metadata": {},
   "source": [
    "## Oktaeder\n",
    "\n",
    "$$\n",
    "\\begin{pmatrix}x\\\\y\\\\z\\end{pmatrix}\\in\\mathbb R^3: |x|+|y|+|z|\\leq 1\n",
    "$$\n",
    "\n",
    "Das ist formal gesehen nicht die Lösungsmenge eines linearen Programms: Die Betragsfunktion $|\\cdot|$ ist nicht linear. Allerdings können wir die Menge auch anders beschreiben, und zwar so:\n",
    "\\begin{align}\n",
    "x+y+z&\\leq 1\\\\\n",
    "x+y-z&\\leq 1\\\\\n",
    "x-y+z&\\leq 1\\\\\n",
    "-x+y+z&\\leq 1\\\\\n",
    "x-y-z&\\leq 1\\\\\n",
    "-x+y-z&\\leq 1\\\\\n",
    "-x-y+z&\\leq 1\\\\\n",
    "-x-y-z&\\leq 1\n",
    "\\end{align}\n",
    "\n",
    "Damit haben wir den Oktaeder durch lineare Ungleichungen beschrieben."
   ]
  },
  {
   "cell_type": "code",
   "execution_count": 3,
   "id": "d121ba40-1319-42dc-b016-e199b7a3e9a5",
   "metadata": {},
   "outputs": [
    {
     "data": {
      "application/vnd.jupyter.widget-view+json": {
       "model_id": "65d47f9ecc1942a091557b44b4acdb7f",
       "version_major": 2,
       "version_minor": 0
      },
      "text/plain": [
       "HBox(children=(FigureWidget({\n",
       "    'data': [{'mode': 'markers',\n",
       "              'type': 'scatter3d',\n",
       "            …"
      ]
     },
     "metadata": {},
     "output_type": "display_data"
    }
   ],
   "source": [
    "setup_poly_viewer(*simplex.octahedron())"
   ]
  },
  {
   "cell_type": "markdown",
   "id": "b0fc00d4-e2b3-4331-b542-f26ee44f3127",
   "metadata": {},
   "source": [
    "## Dodekaeder\n",
    "\n",
    "Ein Dodekaeder lässt sich ähnlich beschreiben. Wir setzen $\\phi=\\frac{\\sqrt{5}+1}{2}$. Dann ist der Dodekaeder beschrieben durch:\n",
    "\\begin{align}\n",
    "x,y,z&\\in\\mathbb R\\\\\n",
    "|x|+\\phi|y|& \\leq 1\\\\\n",
    "|y|+\\phi|z|&\\leq 1\\\\\n",
    "|z|+\\phi|x|&\\leq 1\n",
    "\\end{align}\n",
    "\n",
    "Wieder lässt sich wie beim Oktaeder diese Menge auch ohne Betragsstriche beschreiben. Dies ergibt ein System von 12 linearen Ungleichungen (dass dies gleich der Anzahl an Seiten des Dodekaeders ist, ist natürlich kein Zufall). "
   ]
  },
  {
   "cell_type": "code",
   "execution_count": 4,
   "id": "13346ce4-f872-4bd1-8965-865d093f135b",
   "metadata": {},
   "outputs": [
    {
     "data": {
      "application/vnd.jupyter.widget-view+json": {
       "model_id": "86a6e9796ebb46e4ae76c7fb3e91d2bc",
       "version_major": 2,
       "version_minor": 0
      },
      "text/plain": [
       "HBox(children=(FigureWidget({\n",
       "    'data': [{'mode': 'markers',\n",
       "              'type': 'scatter3d',\n",
       "            …"
      ]
     },
     "metadata": {},
     "output_type": "display_data"
    }
   ],
   "source": [
    "setup_poly_viewer(*simplex.dodecahedron())"
   ]
  },
  {
   "cell_type": "markdown",
   "id": "bb6b8568-58ef-469c-bebd-a1495b4d2f77",
   "metadata": {},
   "source": [
    "## Ein allgemeineres Polytop\n",
    "\n",
    "Bisher waren alle Beispiele platonische Körper und damit extrem regelmäßig. Das typische Polyeder sieht nicht so aus, sondern eher so wie unser nächstes Beispiel. Hier ist es:\n",
    "\n",
    "\\begin{align}\n",
    "x& \\leq 4\\\\\n",
    "y&\\leq 4\\\\\n",
    "z&\\leq 4\\\\\n",
    "x+2y-z&\\leq 2\\\\\n",
    "1.2x-3.2y+1.6z&\\leq 8\\\\\n",
    "-x-y+z&\\leq 1.5\\\\\n",
    "-0.25x+z&\\leq 3\\\\\n",
    "x,y,z&\\geq 0\n",
    "\\end{align}\n",
    "\n",
    "Einige dieser Ungleichungen sind *redundant*: Werden sie weggelassen, ändert sich das Polyeder nicht. Graphisch lassen sich diese Ungleichungen dadurch identifizieren, dass sie das Polyeder nicht in einer Seite schneiden, sondern nur in einer Kante, einer Ecke oder gar nicht."
   ]
  },
  {
   "cell_type": "code",
   "execution_count": 5,
   "id": "c19d621a-ee5f-4851-9ed5-efb09a5cbe77",
   "metadata": {},
   "outputs": [
    {
     "data": {
      "application/vnd.jupyter.widget-view+json": {
       "model_id": "1641209e4a5943c7b33d96cb94d4a56d",
       "version_major": 2,
       "version_minor": 0
      },
      "text/plain": [
       "HBox(children=(FigureWidget({\n",
       "    'data': [{'mode': 'markers',\n",
       "              'type': 'scatter3d',\n",
       "            …"
      ]
     },
     "metadata": {},
     "output_type": "display_data"
    }
   ],
   "source": [
    "setup_poly_viewer(*simplex.sample_poly())"
   ]
  },
  {
   "cell_type": "markdown",
   "id": "1b4bd666-5ce6-4e80-ab77-e48a199991c0",
   "metadata": {},
   "source": [
    "## Ein 2-dimensionales Polytop\n",
    "\n",
    "Polyeder müssen nicht die Dimension des Umgebungsraum haben. D.h. Polyeder im 42-dimensionalen Raum mag etwa selbst die Dimension 27 haben. Hier ist ein Beispiel eines 2-dimensionalen Polyeders im 3-dimensionalen Raum: Das Polyeder ist gewissermaßen flach.\n",
    "\n",
    "\\begin{align}\n",
    "2x-y&\\leq 2\\\\\n",
    "x&\\leq 3\\\\\n",
    "y&\\leq 5\\\\\n",
    "-x+y&\\leq 4\\\\\n",
    "x+y-z&\\leq 0\\\\\n",
    "-x-y+z&\\leq 0\\\\\n",
    "x,y&\\geq 0\n",
    "\\end{align}"
   ]
  },
  {
   "cell_type": "code",
   "execution_count": 6,
   "id": "3398f4a5-82e9-4f23-9759-a5be2c04719a",
   "metadata": {},
   "outputs": [
    {
     "data": {
      "application/vnd.jupyter.widget-view+json": {
       "model_id": "b4bd90bba57948c0be9cc3cd88b81a1e",
       "version_major": 2,
       "version_minor": 0
      },
      "text/plain": [
       "HBox(children=(FigureWidget({\n",
       "    'data': [{'mode': 'markers',\n",
       "              'type': 'scatter3d',\n",
       "            …"
      ]
     },
     "metadata": {},
     "output_type": "display_data"
    }
   ],
   "source": [
    "setup_poly_viewer(*simplex.flat())"
   ]
  },
  {
   "cell_type": "markdown",
   "id": "b3b827b0-09e3-4c88-8627-cd0b6c4d027a",
   "metadata": {},
   "source": [
    "## Unbeschränktes Polyeder\n",
    "\n",
    "Ein System von linearen Ungleichungen kann es zulassen, dass eine oder mehrere Variablen unbeschränkt groß werden (oder unbeschränkt ins Negative wachsen). Bisher war das nicht der Fall. In so einem Fall redet man auch von einem **Polytop**. Ein Polyeder kann aber leicht unbeschränkt sein. Hier ist ein Beispiel:\n",
    "\n",
    "\\begin{align}\n",
    "-0.5x+y+0.3z&\\leq 3\\\\\n",
    "-x+y&\\leq 3\\\\\n",
    "1.5x-y&\\leq 3\\\\\n",
    "-0.2x-0.2y+z&\\leq 8\\\\\n",
    "0.1x+y-z&\\leq 3\\\\\n",
    "x-0.25y-0.1z&\\leq 5\\\\\n",
    "-0.2x-0.3y-z&\\leq 10\n",
    "\\end{align}"
   ]
  },
  {
   "cell_type": "code",
   "execution_count": 7,
   "id": "8e501477-b190-4f48-a532-3f62df60e6e3",
   "metadata": {},
   "outputs": [
    {
     "data": {
      "application/vnd.jupyter.widget-view+json": {
       "model_id": "bdcfcb4588b4404eb90d32fb67faf360",
       "version_major": 2,
       "version_minor": 0
      },
      "text/plain": [
       "HBox(children=(FigureWidget({\n",
       "    'data': [{'mode': 'markers',\n",
       "              'type': 'scatter3d',\n",
       "            …"
      ]
     },
     "metadata": {},
     "output_type": "display_data"
    }
   ],
   "source": [
    "A=[[-0.5,-1,0.3],[-1,-1,0],[1.5,-1,0],[-0.2,-0.2,1],[0.1,-1,-1],[1,-0.25,-0.1],[-0.2,-0.3,-1]]\n",
    "b=[3,3,3,8,3,5,10]\n",
    "setup_poly_viewer(A,b,range=[[-20,20],[-5,20],[-20,20]],enclose_factor=21)"
   ]
  },
  {
   "cell_type": "markdown",
   "id": "f5d4778e-05e0-4fc4-871a-470f1be16d87",
   "metadata": {},
   "source": [
    "## Kegel\n",
    "\n",
    "Sind die Konstanten auf der rechten Seite immer gleich 0, so handelt es sich bei dem Polyeder um einen **Kegel**. Ein Kegel hat die Besonderheit, dass mit jedem Punkt $p$ im Kegel auch jedes positive Vielfache, also $\\lambda p$ mit $\\lambda\\geq 0$, im Kegel enthalten ist."
   ]
  },
  {
   "cell_type": "code",
   "execution_count": 8,
   "id": "534cd576-a2a0-4721-a3e8-dc1a00b74e1a",
   "metadata": {},
   "outputs": [
    {
     "data": {
      "application/vnd.jupyter.widget-view+json": {
       "model_id": "66dbc0584c6b45cf83bb703ee2e12a5b",
       "version_major": 2,
       "version_minor": 0
      },
      "text/plain": [
       "HBox(children=(FigureWidget({\n",
       "    'data': [{'mode': 'markers',\n",
       "              'type': 'scatter3d',\n",
       "            …"
      ]
     },
     "metadata": {},
     "output_type": "display_data"
    }
   ],
   "source": [
    "A=[[-3,1.5,0.5],[-0.6,-1,0],[-1,-1,-1],[-2,2,2],[-0.2,-0.2,0.2]]\n",
    "b=[0,0,0,0,0]\n",
    "setup_poly_viewer(A,b,range=[[-1,10],[-10,10],[-10,10]],enclose_factor=11)"
   ]
  },
  {
   "cell_type": "markdown",
   "id": "4aa6cda7-85e6-470d-b87c-b14ed791a859",
   "metadata": {},
   "source": [
    "## Polyeder ohne Ecke\n",
    "\n",
    "Die Polyeder bisher enthielten alle Ecken. Das mus nicht der Fall sein. Ein sehr einfaches Beispiel ist:\n",
    "\n",
    "\\begin{align}\n",
    "x,y,z&\\in\\mathbb R\\\\\n",
    "x-y&\\leq 0\\\\\n",
    "x&\\geq 0\n",
    "\\end{align}"
   ]
  },
  {
   "cell_type": "code",
   "execution_count": 9,
   "id": "1f930616-ce77-4921-b5af-6944847eda9a",
   "metadata": {},
   "outputs": [
    {
     "data": {
      "application/vnd.jupyter.widget-view+json": {
       "model_id": "42701b822e4840d2ba2a15000c095234",
       "version_major": 2,
       "version_minor": 0
      },
      "text/plain": [
       "HBox(children=(FigureWidget({\n",
       "    'data': [{'mode': 'markers',\n",
       "              'type': 'scatter3d',\n",
       "            …"
      ]
     },
     "metadata": {},
     "output_type": "display_data"
    }
   ],
   "source": [
    "wedge_A=[[-1,0,0],[1,-1,0]]\n",
    "wedge_b=[0,0]\n",
    "setup_poly_viewer(wedge_A,wedge_b,range=[[-10,20],[-10,20],[-10,20]],enclose_factor=21)"
   ]
  }
 ],
 "metadata": {
  "kernelspec": {
   "display_name": "Python 3",
   "language": "python",
   "name": "python3"
  },
  "language_info": {
   "codemirror_mode": {
    "name": "ipython",
    "version": 3
   },
   "file_extension": ".py",
   "mimetype": "text/x-python",
   "name": "python",
   "nbconvert_exporter": "python",
   "pygments_lexer": "ipython3",
   "version": "3.8.8"
  }
 },
 "nbformat": 4,
 "nbformat_minor": 5
}
