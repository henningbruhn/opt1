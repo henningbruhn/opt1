{
 "cells": [
  {
   "cell_type": "markdown",
   "id": "96b33ef4-c36b-4a5c-8f37-084156364a91",
   "metadata": {},
   "source": [
    "# Simplex-Algorithmus\n",
    "\n",
    "Implementation des Algorithmus' wie er im Skript steht. Achtung: Dies ist eine konzeptionelle Version des Algorithmus', die für die Praxis ungeeignet ist. "
   ]
  },
  {
   "cell_type": "code",
   "execution_count": 1,
   "id": "11f4bde7-7d2e-4100-b76d-d47e24e7b4b9",
   "metadata": {},
   "outputs": [],
   "source": [
    "import numpy as np"
   ]
  },
  {
   "cell_type": "code",
   "execution_count": 11,
   "id": "c124ee2a-2db3-4ea1-a663-9c09fbf4d011",
   "metadata": {},
   "outputs": [
    {
     "data": {
      "text/plain": [
       "(array([[ 0,  1,  2,  3],\n",
       "        [ 4,  5,  6,  7],\n",
       "        [ 8,  9, 10, 11]]),\n",
       " array([[27],\n",
       "        [12],\n",
       "        [42]]))"
      ]
     },
     "execution_count": 11,
     "metadata": {},
     "output_type": "execute_result"
    }
   ],
   "source": [
    "A=np.array(np.arange(12).reshape(-1,4))\n",
    "b=np.array([27,12,42]).reshape(-1,1)\n",
    "A,b"
   ]
  },
  {
   "cell_type": "code",
   "execution_count": 22,
   "id": "923b7582-7023-45db-b120-bc80ba7557f3",
   "metadata": {},
   "outputs": [
    {
     "data": {
      "text/plain": [
       "(array([[ 0.,  1.,  2.,  3.],\n",
       "        [ 4.,  5.,  6.,  7.],\n",
       "        [ 8.,  9., 10., 11.],\n",
       "        [-1., -0., -0., -0.],\n",
       "        [-0., -1., -0., -0.],\n",
       "        [-0., -0., -1., -0.],\n",
       "        [-0., -0., -0., -1.]]),\n",
       " array([[27.],\n",
       "        [12.],\n",
       "        [42.],\n",
       "        [ 0.],\n",
       "        [ 0.],\n",
       "        [ 0.]]))"
      ]
     },
     "execution_count": 22,
     "metadata": {},
     "output_type": "execute_result"
    }
   ],
   "source": [
    "add_nonneg(A,b)"
   ]
  },
  {
   "cell_type": "code",
   "execution_count": 30,
   "id": "47069cc9-beae-47e4-ad27-69e9bf77cced",
   "metadata": {},
   "outputs": [],
   "source": [
    "def add_nonneg(A,b):\n",
    "    m,n=A.shape\n",
    "    b=np.vstack([b,np.zeros(n).reshape(-1,1)])\n",
    "    A=np.vstack([A,-np.eye(n)])\n",
    "    return A,b\n",
    "\n",
    "def twisted_cube(n=3):\n",
    "    c=np.array([2**i for i in range(n-1,-1,-1)]).reshape(-1,1)\n",
    "    b=np.array([5**i for i in range(1,n+1)]).reshape(-1,1)\n",
    "    A=2*np.array([[int(2**(i-j)) for j in range(n)] for i in range(n)])\n",
    "    for i in range(n):\n",
    "        A[i,i]=1\n",
    "    A,b=add_nonneg(A,b)\n",
    "    R=np.array([[i+n,i] for i in range(n)]).flatten()\n",
    "    A=A[R].copy()\n",
    "    b=b[R].copy()\n",
    "    x0=np.zeros(n).reshape(-1,1)\n",
    "    return A,b,c,x0\n",
    "\n"
   ]
  },
  {
   "cell_type": "code",
   "execution_count": 15,
   "id": "d90bdda9-9825-4078-aee7-41889cd06511",
   "metadata": {},
   "outputs": [],
   "source": [
    "def unit_vec(i,n):\n",
    "    vec=np.zeros(n)\n",
    "    vec[i]=1\n",
    "    return vec.reshape(-1,1)\n",
    "\n",
    "class State:\n",
    "    def __init__(self,x=None,J=None,y_J=None,i=None,jstar=None,w=None,opt_status=\"running\",lmbda=None,new_x=None,objective=None):\n",
    "        self.x=x.flatten()\n",
    "        self.J=J.copy() if J is not None else None\n",
    "        self.y_J=y_J.flatten() if y_J is not None else None \n",
    "        self.i=i\n",
    "        self.jstar=jstar\n",
    "        self.w=w.flatten() if w is not None else None\n",
    "        self.opt_status=opt_status\n",
    "        self.lmbda=lmbda\n",
    "        self.new_x=new_x.flatten() if new_x is not None else None\n",
    "        self.objective=objective\n",
    "    \n",
    "    def __repr__(self):\n",
    "        repr=\"\"\n",
    "        for key,value in vars(self).items():\n",
    "            if value is not None:\n",
    "                repr+=\"{}: {}\\n\".format(key,value)\n",
    "        return repr+\"\\n\"\n",
    "\n",
    "class Simplex:\n",
    "    def __init__(self,A,b,c,x,max_iter=100,eps=1E-8):\n",
    "        self.A=A\n",
    "        self.b=b\n",
    "        self.c=c\n",
    "        self.x=x\n",
    "        self.eps=eps\n",
    "        self.record=[]\n",
    "        self.done=False\n",
    "        self.max_iter=max_iter\n",
    "        self.check_start_vertex()\n",
    "        self.init_representation()\n",
    "        self.run()\n",
    "        \n",
    "    def check_start_vertex(self):\n",
    "        if not np.all(self.A@self.x-self.b <=self.eps):\n",
    "            raise Exception(\"start vertex not feasible!\")\n",
    "        \n",
    "    def current_objective(self):\n",
    "        return sum(self.x.T@self.c)\n",
    "        \n",
    "    def run(self):\n",
    "        for _ in range(self.max_iter):\n",
    "            if self.done:\n",
    "                break\n",
    "            self.simplex_step()\n",
    "        \n",
    "    def init_representation(self):\n",
    "        self.J=[j for j,a in enumerate(self.A) if abs(a@self.x-self.b[j])<self.eps]\n",
    "        self.reduce_index_set() # make sure that |J|=n\n",
    "        \n",
    "    def reduce_by_one(self):\n",
    "        m,n=self.A.shape\n",
    "        for j in range(len(self.J)):\n",
    "            JJ=self.J.copy()\n",
    "            del JJ[j]\n",
    "            if np.linalg.matrix_rank(self.A[JJ])>=n:\n",
    "                break\n",
    "        del self.J[j]\n",
    "        \n",
    "    def reduce_index_set(self):\n",
    "        m,n=self.A.shape\n",
    "        while len(self.J)>n:\n",
    "            self.reduce_by_one()\n",
    "        \n",
    "    def simplex_step(self):\n",
    "        A_J=self.A[self.J]\n",
    "        self.y_J=np.linalg.solve(A_J.T,self.c)\n",
    "        obj=self.current_objective()\n",
    "        state=State(x=self.x,J=self.J,y_J=self.y_J,objective=obj)\n",
    "        self.record.append(state)\n",
    "        if np.all(self.y_J>=0):\n",
    "            self.done=True\n",
    "            self.opt_status=\"OPT found\"\n",
    "            state.opt_status=\"OPT found\"\n",
    "            return\n",
    "        for rel_i,yy in enumerate(self.y_J):\n",
    "            if yy<-self.eps:\n",
    "                break\n",
    "        state.i=self.J[rel_i]\n",
    "        w=np.linalg.solve(A_J,-unit_vec(rel_i,len(self.J)))\n",
    "        state.w=w.flatten()\n",
    "        if np.all(A@w<=self.eps):\n",
    "            self.done=True\n",
    "            self.opt_status=\"unbounded\"\n",
    "            state.opt_status=\"unbounded\"\n",
    "            return\n",
    "        lambdas=[(sum((self.b[j]-sum(self.A[j]@self.x))/sum(self.A[j]@w)),j) for j in range(len(self.A)) if sum(self.A[j]@w)>self.eps]\n",
    "        lmbda,jstar=min(lambdas,key=lambda l:l[0])\n",
    "        state.jstar=jstar\n",
    "        state.lmbda=lmbda\n",
    "        self.J[rel_i]=jstar\n",
    "        self.J.sort()\n",
    "        self.x=np.linalg.solve(self.A[self.J],self.b[self.J])\n",
    "        state.new_x=self.x.flatten()\n"
   ]
  },
  {
   "cell_type": "code",
   "execution_count": 167,
   "id": "4aa99c6b-d2e5-484b-966e-53e01c983790",
   "metadata": {},
   "outputs": [
    {
     "ename": "Exception",
     "evalue": "start vertex not feasible!",
     "output_type": "error",
     "traceback": [
      "\u001b[0;31m---------------------------------------------------------------------------\u001b[0m",
      "\u001b[0;31mException\u001b[0m                                 Traceback (most recent call last)",
      "\u001b[0;32m<ipython-input-167-2a34f2db85cd>\u001b[0m in \u001b[0;36m<module>\u001b[0;34m\u001b[0m\n\u001b[0;32m----> 1\u001b[0;31m \u001b[0mSimplex\u001b[0m\u001b[0;34m(\u001b[0m\u001b[0mnp\u001b[0m\u001b[0;34m.\u001b[0m\u001b[0meye\u001b[0m\u001b[0;34m(\u001b[0m\u001b[0;36m3\u001b[0m\u001b[0;34m)\u001b[0m\u001b[0;34m,\u001b[0m\u001b[0;34m-\u001b[0m\u001b[0mnp\u001b[0m\u001b[0;34m.\u001b[0m\u001b[0mones\u001b[0m\u001b[0;34m(\u001b[0m\u001b[0;36m3\u001b[0m\u001b[0;34m)\u001b[0m\u001b[0;34m.\u001b[0m\u001b[0mreshape\u001b[0m\u001b[0;34m(\u001b[0m\u001b[0;34m-\u001b[0m\u001b[0;36m1\u001b[0m\u001b[0;34m,\u001b[0m\u001b[0;36m1\u001b[0m\u001b[0;34m)\u001b[0m\u001b[0;34m,\u001b[0m\u001b[0;32mNone\u001b[0m\u001b[0;34m,\u001b[0m\u001b[0mnp\u001b[0m\u001b[0;34m.\u001b[0m\u001b[0mzeros\u001b[0m\u001b[0;34m(\u001b[0m\u001b[0;36m3\u001b[0m\u001b[0;34m)\u001b[0m\u001b[0;34m.\u001b[0m\u001b[0mreshape\u001b[0m\u001b[0;34m(\u001b[0m\u001b[0;34m-\u001b[0m\u001b[0;36m1\u001b[0m\u001b[0;34m,\u001b[0m\u001b[0;36m1\u001b[0m\u001b[0;34m)\u001b[0m\u001b[0;34m)\u001b[0m\u001b[0;34m\u001b[0m\u001b[0;34m\u001b[0m\u001b[0m\n\u001b[0m",
      "\u001b[0;32m<ipython-input-162-c85aad938508>\u001b[0m in \u001b[0;36m__init__\u001b[0;34m(self, A, b, c, x, max_iter)\u001b[0m\n\u001b[1;32m     49\u001b[0m         \u001b[0mself\u001b[0m\u001b[0;34m.\u001b[0m\u001b[0mdone\u001b[0m\u001b[0;34m=\u001b[0m\u001b[0;32mFalse\u001b[0m\u001b[0;34m\u001b[0m\u001b[0;34m\u001b[0m\u001b[0m\n\u001b[1;32m     50\u001b[0m         \u001b[0mself\u001b[0m\u001b[0;34m.\u001b[0m\u001b[0mmax_iter\u001b[0m\u001b[0;34m=\u001b[0m\u001b[0mmax_iter\u001b[0m\u001b[0;34m\u001b[0m\u001b[0;34m\u001b[0m\u001b[0m\n\u001b[0;32m---> 51\u001b[0;31m         \u001b[0mself\u001b[0m\u001b[0;34m.\u001b[0m\u001b[0mcheck_start_vertex\u001b[0m\u001b[0;34m(\u001b[0m\u001b[0;34m)\u001b[0m\u001b[0;34m\u001b[0m\u001b[0;34m\u001b[0m\u001b[0m\n\u001b[0m\u001b[1;32m     52\u001b[0m         \u001b[0mself\u001b[0m\u001b[0;34m.\u001b[0m\u001b[0minit_representation\u001b[0m\u001b[0;34m(\u001b[0m\u001b[0;34m)\u001b[0m\u001b[0;34m\u001b[0m\u001b[0;34m\u001b[0m\u001b[0m\n\u001b[1;32m     53\u001b[0m         \u001b[0mself\u001b[0m\u001b[0;34m.\u001b[0m\u001b[0mrun\u001b[0m\u001b[0;34m(\u001b[0m\u001b[0;34m)\u001b[0m\u001b[0;34m\u001b[0m\u001b[0;34m\u001b[0m\u001b[0m\n",
      "\u001b[0;32m<ipython-input-162-c85aad938508>\u001b[0m in \u001b[0;36mcheck_start_vertex\u001b[0;34m(self)\u001b[0m\n\u001b[1;32m     55\u001b[0m     \u001b[0;32mdef\u001b[0m \u001b[0mcheck_start_vertex\u001b[0m\u001b[0;34m(\u001b[0m\u001b[0mself\u001b[0m\u001b[0;34m)\u001b[0m\u001b[0;34m:\u001b[0m\u001b[0;34m\u001b[0m\u001b[0;34m\u001b[0m\u001b[0m\n\u001b[1;32m     56\u001b[0m         \u001b[0;32mif\u001b[0m \u001b[0;32mnot\u001b[0m \u001b[0mnp\u001b[0m\u001b[0;34m.\u001b[0m\u001b[0mall\u001b[0m\u001b[0;34m(\u001b[0m\u001b[0mself\u001b[0m\u001b[0;34m.\u001b[0m\u001b[0mA\u001b[0m\u001b[0;34m@\u001b[0m\u001b[0mself\u001b[0m\u001b[0;34m.\u001b[0m\u001b[0mx\u001b[0m \u001b[0;34m<=\u001b[0m \u001b[0mself\u001b[0m\u001b[0;34m.\u001b[0m\u001b[0mb\u001b[0m\u001b[0;34m)\u001b[0m\u001b[0;34m:\u001b[0m\u001b[0;34m\u001b[0m\u001b[0;34m\u001b[0m\u001b[0m\n\u001b[0;32m---> 57\u001b[0;31m             \u001b[0;32mraise\u001b[0m \u001b[0mException\u001b[0m\u001b[0;34m(\u001b[0m\u001b[0;34m\"start vertex not feasible!\"\u001b[0m\u001b[0;34m)\u001b[0m\u001b[0;34m\u001b[0m\u001b[0;34m\u001b[0m\u001b[0m\n\u001b[0m\u001b[1;32m     58\u001b[0m \u001b[0;34m\u001b[0m\u001b[0m\n\u001b[1;32m     59\u001b[0m     \u001b[0;32mdef\u001b[0m \u001b[0mcurrent_objective\u001b[0m\u001b[0;34m(\u001b[0m\u001b[0mself\u001b[0m\u001b[0;34m)\u001b[0m\u001b[0;34m:\u001b[0m\u001b[0;34m\u001b[0m\u001b[0;34m\u001b[0m\u001b[0m\n",
      "\u001b[0;31mException\u001b[0m: start vertex not feasible!"
     ]
    }
   ],
   "source": [
    "\n",
    "Simplex(np.eye(3),-np.ones(3).reshape(-1,1),None,np.zeros(3).reshape(-1,1))"
   ]
  },
  {
   "cell_type": "code",
   "execution_count": 31,
   "id": "72998e13-52cc-4d68-bda1-de0dc9427173",
   "metadata": {},
   "outputs": [
    {
     "data": {
      "text/plain": [
       "8"
      ]
     },
     "execution_count": 31,
     "metadata": {},
     "output_type": "execute_result"
    }
   ],
   "source": [
    "A,b,c,x0=twisted_cube(3)\n",
    "simplex=Simplex(A,b,c,x0)\n",
    "len(simplex.record)"
   ]
  },
  {
   "cell_type": "code",
   "execution_count": 34,
   "id": "1ef4c56b-1fe2-43aa-b38e-5c6287808360",
   "metadata": {},
   "outputs": [
    {
     "data": {
      "text/plain": [
       "64"
      ]
     },
     "execution_count": 34,
     "metadata": {},
     "output_type": "execute_result"
    }
   ],
   "source": [
    "A,b,c,x0=twisted_cube(6)\n",
    "simplex=Simplex(A,b,c,x0)\n",
    "len(simplex.record)"
   ]
  },
  {
   "cell_type": "code",
   "execution_count": 35,
   "id": "7df1d74e-1ab5-40ae-8f4d-aae676b97895",
   "metadata": {},
   "outputs": [
    {
     "data": {
      "text/plain": [
       "array([[-1., -0., -0., -0., -0., -0.],\n",
       "       [ 1.,  0.,  0.,  0.,  0.,  0.],\n",
       "       [-0., -1., -0., -0., -0., -0.],\n",
       "       [ 4.,  1.,  0.,  0.,  0.,  0.],\n",
       "       [-0., -0., -1., -0., -0., -0.],\n",
       "       [ 8.,  4.,  1.,  0.,  0.,  0.],\n",
       "       [-0., -0., -0., -1., -0., -0.],\n",
       "       [16.,  8.,  4.,  1.,  0.,  0.],\n",
       "       [-0., -0., -0., -0., -1., -0.],\n",
       "       [32., 16.,  8.,  4.,  1.,  0.],\n",
       "       [-0., -0., -0., -0., -0., -1.],\n",
       "       [64., 32., 16.,  8.,  4.,  1.]])"
      ]
     },
     "execution_count": 35,
     "metadata": {},
     "output_type": "execute_result"
    }
   ],
   "source": [
    "A"
   ]
  },
  {
   "cell_type": "code",
   "execution_count": 36,
   "id": "db70e4ae-5374-4b1a-9bed-7d4b4509fca6",
   "metadata": {},
   "outputs": [
    {
     "data": {
      "text/plain": [
       "array([32, 16,  8,  4,  2,  1])"
      ]
     },
     "execution_count": 36,
     "metadata": {},
     "output_type": "execute_result"
    }
   ],
   "source": [
    "c.flatten()"
   ]
  },
  {
   "cell_type": "code",
   "execution_count": 37,
   "id": "4060acd5-dfb4-4705-a42a-8b3d0a52ca06",
   "metadata": {},
   "outputs": [
    {
     "data": {
      "text/plain": [
       "array([[-1., -0., -0.],\n",
       "       [ 1.,  0.,  0.],\n",
       "       [-0., -1., -0.],\n",
       "       [ 4.,  1.,  0.],\n",
       "       [-0., -0., -1.],\n",
       "       [ 8.,  4.,  1.]])"
      ]
     },
     "execution_count": 37,
     "metadata": {},
     "output_type": "execute_result"
    }
   ],
   "source": [
    "A,b,c,x0=twisted_cube(3)\n",
    "A"
   ]
  },
  {
   "cell_type": "code",
   "execution_count": 29,
   "id": "8dca7fe4-6b67-40fb-8898-6a33192e1147",
   "metadata": {},
   "outputs": [
    {
     "data": {
      "text/plain": [
       "[x: [0. 0. 0.]\n",
       " J: [0, 2, 4]\n",
       " y_J: [-4. -2. -1.]\n",
       " i: 0\n",
       " jstar: 1\n",
       " w: [ 1. -0. -0.]\n",
       " opt_status: running\n",
       " lmbda: 5.0\n",
       " new_x: [ 5. -0. -0.]\n",
       " objective: [0.]\n",
       " ,\n",
       " x: [ 5. -0. -0.]\n",
       " J: [1, 2, 4]\n",
       " y_J: [ 4. -2. -1.]\n",
       " i: 2\n",
       " jstar: 3\n",
       " w: [ 0.  1. -0.]\n",
       " opt_status: running\n",
       " lmbda: 5.0\n",
       " new_x: [ 5.  5. -0.]\n",
       " objective: [20.]\n",
       " ,\n",
       " x: [ 5.  5. -0.]\n",
       " J: [1, 3, 4]\n",
       " y_J: [-4.  2. -1.]\n",
       " i: 1\n",
       " jstar: 0\n",
       " w: [-1.  4. -0.]\n",
       " opt_status: running\n",
       " lmbda: 5.0\n",
       " new_x: [ 0. 25. -0.]\n",
       " objective: [30.]\n",
       " ,\n",
       " x: [ 0. 25. -0.]\n",
       " J: [0, 3, 4]\n",
       " y_J: [ 4.  2. -1.]\n",
       " i: 4\n",
       " jstar: 5\n",
       " w: [-0.  0.  1.]\n",
       " opt_status: running\n",
       " lmbda: 25.0\n",
       " new_x: [ 0. 25. 25.]\n",
       " objective: [50.]\n",
       " ,\n",
       " x: [ 0. 25. 25.]\n",
       " J: [0, 3, 5]\n",
       " y_J: [-4. -2.  1.]\n",
       " i: 0\n",
       " jstar: 1\n",
       " w: [ 1. -4.  8.]\n",
       " opt_status: running\n",
       " lmbda: 5.0\n",
       " new_x: [ 5.  5. 65.]\n",
       " objective: [75.]\n",
       " ,\n",
       " x: [ 5.  5. 65.]\n",
       " J: [1, 3, 5]\n",
       " y_J: [ 4. -2.  1.]\n",
       " i: 3\n",
       " jstar: 2\n",
       " w: [ 0. -1.  4.]\n",
       " opt_status: running\n",
       " lmbda: 5.0\n",
       " new_x: [ 5. -0. 85.]\n",
       " objective: [95.]\n",
       " ,\n",
       " x: [ 5. -0. 85.]\n",
       " J: [1, 2, 5]\n",
       " y_J: [-4.  2.  1.]\n",
       " i: 1\n",
       " jstar: 0\n",
       " w: [-1. -0.  8.]\n",
       " opt_status: running\n",
       " lmbda: 5.0\n",
       " new_x: [  0.  -0. 125.]\n",
       " objective: [105.]\n",
       " ,\n",
       " x: [  0.  -0. 125.]\n",
       " J: [0, 2, 5]\n",
       " y_J: [4. 2. 1.]\n",
       " opt_status: OPT found\n",
       " objective: [125.]\n",
       " ]"
      ]
     },
     "execution_count": 29,
     "metadata": {},
     "output_type": "execute_result"
    }
   ],
   "source": [
    "simplex=Simplex(AA,bb,c,x0)\n",
    "simplex.record"
   ]
  },
  {
   "cell_type": "code",
   "execution_count": 88,
   "id": "93fa33ed-c74e-4f2e-b8cc-c3ec45d0b22b",
   "metadata": {},
   "outputs": [
    {
     "data": {
      "text/plain": [
       "[array([5.]), array([6.25]), array([15.625])]"
      ]
     },
     "execution_count": 88,
     "metadata": {},
     "output_type": "execute_result"
    }
   ],
   "source": [
    "simplex.lambdas"
   ]
  },
  {
   "cell_type": "code",
   "execution_count": 89,
   "id": "f64387d9-1391-4f0c-baac-e00162531364",
   "metadata": {},
   "outputs": [
    {
     "data": {
      "text/plain": [
       "0"
      ]
     },
     "execution_count": 89,
     "metadata": {},
     "output_type": "execute_result"
    }
   ],
   "source": [
    "np.argmin(simplex.lambdas)"
   ]
  },
  {
   "cell_type": "code",
   "execution_count": 54,
   "id": "bc90fd7e-a7bf-482c-b987-7f8cd64abc8a",
   "metadata": {},
   "outputs": [
    {
     "data": {
      "text/plain": [
       "array([[-4.],\n",
       "       [-2.],\n",
       "       [-1.]])"
      ]
     },
     "execution_count": 54,
     "metadata": {},
     "output_type": "execute_result"
    }
   ],
   "source": [
    "simplex.simplex_step()\n",
    "simplex.y_J"
   ]
  },
  {
   "cell_type": "code",
   "execution_count": 49,
   "id": "b36a3cb0-c55d-44e8-ab88-1a7fa9de1f6f",
   "metadata": {},
   "outputs": [
    {
     "data": {
      "text/plain": [
       "array([[-1., -0., -0.],\n",
       "       [-0., -1., -0.],\n",
       "       [-0., -0., -1.]])"
      ]
     },
     "execution_count": 49,
     "metadata": {},
     "output_type": "execute_result"
    }
   ],
   "source": [
    "B=simplex.A[simplex.J].T\n",
    "B"
   ]
  },
  {
   "cell_type": "code",
   "execution_count": 32,
   "id": "b806a30d-d8cd-46f0-adcc-12ff797cd816",
   "metadata": {},
   "outputs": [
    {
     "data": {
      "text/plain": [
       "[0, 1, 2, 3, 4, 5]"
      ]
     },
     "execution_count": 32,
     "metadata": {},
     "output_type": "execute_result"
    }
   ],
   "source": [
    "[j for j,a in enumerate(A)]"
   ]
  },
  {
   "cell_type": "code",
   "execution_count": 34,
   "id": "7bc9ce36-011c-4f87-a325-7be99b4565a3",
   "metadata": {},
   "outputs": [
    {
     "data": {
      "text/plain": [
       "array([8., 4., 1.])"
      ]
     },
     "execution_count": 34,
     "metadata": {},
     "output_type": "execute_result"
    }
   ],
   "source": [
    "a=A[2]\n",
    "a"
   ]
  },
  {
   "cell_type": "code",
   "execution_count": 39,
   "id": "38388c45-bd86-4f48-99ad-efcdbb2296ea",
   "metadata": {},
   "outputs": [
    {
     "data": {
      "text/plain": [
       "array([[-1., -0., -0.],\n",
       "       [-0., -1., -0.],\n",
       "       [-0., -0., -1.]])"
      ]
     },
     "execution_count": 39,
     "metadata": {},
     "output_type": "execute_result"
    }
   ],
   "source": [
    "A_J=A[simplex.J]\n",
    "A_J"
   ]
  },
  {
   "cell_type": "code",
   "execution_count": 40,
   "id": "1cd4a70f-dc36-48a3-ac7c-6f59ee0ebaba",
   "metadata": {},
   "outputs": [
    {
     "data": {
      "text/plain": [
       "array([[-1., -0., -0.],\n",
       "       [-0., -1., -0.],\n",
       "       [-0., -0., -1.]])"
      ]
     },
     "execution_count": 40,
     "metadata": {},
     "output_type": "execute_result"
    }
   ],
   "source": [
    "A_Jinv=np.linalg.inv(A_J)\n",
    "A_Jinv"
   ]
  }
 ],
 "metadata": {
  "kernelspec": {
   "display_name": "Python 3",
   "language": "python",
   "name": "python3"
  },
  "language_info": {
   "codemirror_mode": {
    "name": "ipython",
    "version": 3
   },
   "file_extension": ".py",
   "mimetype": "text/x-python",
   "name": "python",
   "nbconvert_exporter": "python",
   "pygments_lexer": "ipython3",
   "version": "3.8.8"
  }
 },
 "nbformat": 4,
 "nbformat_minor": 5
}
