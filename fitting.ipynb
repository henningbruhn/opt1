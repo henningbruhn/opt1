{
 "cells": [
  {
   "cell_type": "markdown",
   "metadata": {},
   "source": [
    "# Fitting a line \n",
    "\n",
    "Illustrationscode zum line fitting-Problem: Wir erzeugen zweidimensionale Beispieldaten und legen eine Gerade durch. Gelöst wird dabei das lineare Programm:\n",
    "\n",
    "$$\n",
    "\t\\begin{array}{lll}\n",
    "\t\\min & \\sum_{i=1}^n\\epsilon_i,           &  a,b,\\epsilon_1,\\ldots,\\epsilon_n\\in\\mathbb R \\\\\n",
    "\t\\textrm{unter} & \\epsilon_i\\geq ap_i+b-q_i &\\text{für }i=1,\\ldots,n\\\\\n",
    "\t & \\epsilon_i\\geq -(ap_i+b-q_i) &\\text{für }i=1,\\ldots,n %\\\\\n",
    "\t %& \\epsilon_i\\geq 0&\\text{für }i=1,\\ldots,n\n",
    "\t\\end{array}\n",
    "$$\n",
    "wobei $(p_1,q_1),\\ldots,(p_n,q_n)$ die gegebenen Datenpunkte sind.\n",
    "\n",
    "numpy ist die Standard-Bibliothek für wissenschaftliches Rechnen, wie immer installierbar per 'pip'. Google colab hat numpy vorinstalliert. \n",
    "Dokumentation findet sich auf der numpy-Seite: https://numpy.org\n"
   ]
  },
  {
   "cell_type": "code",
   "execution_count": 1,
   "metadata": {},
   "outputs": [],
   "source": [
    "# Zum Installieren in google colab, entfernen Sie die Raute in der nächsten Zeile\n",
    "#!pip install mip\n",
    "\n",
    "import mip         \n",
    "import numpy as np \n",
    "import matplotlib.pyplot as plt  # graphics library\n",
    "plt.style.use(\"seaborn\")  # damit die plots ein wenig hübscher aussehen"
   ]
  },
  {
   "cell_type": "markdown",
   "metadata": {},
   "source": [
    "Wir erzeugen die Testdaten: linearer Zusammenhang plus (normal-verteiltes) Rauschen. Dazu nehmen wir eine Gerade $y = 1.3x+2$, wählen zufällige $x$-Werte zwischen 0 und 1, berechnen $y$ und addieren normal-verteiltes Rauschen.\n"
   ]
  },
  {
   "cell_type": "code",
   "execution_count": 2,
   "metadata": {},
   "outputs": [],
   "source": [
    "N=40\n",
    "A,B=1.3,2\n",
    "p=np.random.random_sample(N)    # N gleichverteilte Punkte aus [0,1]\n",
    "q=A*p+B+np.random.randn(N)*0.1  # N Werte normal-verteilten Rauschens"
   ]
  },
  {
   "cell_type": "code",
   "execution_count": 3,
   "metadata": {},
   "outputs": [
    {
     "data": {
      "text/plain": [
       "[<matplotlib.lines.Line2D at 0x7f65eb019d00>]"
      ]
     },
     "execution_count": 3,
     "metadata": {},
     "output_type": "execute_result"
    },
    {
     "data": {
      "image/png": "[encoded data removed]",
      "text/plain": [
       "<Figure size 576x396 with 1 Axes>"
      ]
     },
     "metadata": {},
     "output_type": "display_data"
    }
   ],
   "source": [
    "plt.plot(p,q,'bo')  # 'bo' gibt Farbe und Art des Plots an, 'b' für blue und 'o' für Kreismarker"
   ]
  },
  {
   "cell_type": "markdown",
   "metadata": {},
   "source": [
    "Jetzt erstellen wir das lineare Programm. Das model wird erzeugt, sowie die Variablen $a,b\\in\\mathbb R$. Für beide Variablen wird als untere Schanke $-\\infty$ festgelegt. Das ist nötig, da standardmäßig die untere Schranke bei $0$ liegt. Dies geschieht mit dem Parameter lb wie *lower bound*."
   ]
  },
  {
   "cell_type": "code",
   "execution_count": 4,
   "metadata": {},
   "outputs": [],
   "source": [
    "m=mip.Model()\n",
    "a=m.add_var(lb=-np.inf)\n",
    "b=m.add_var(lb=-np.inf)"
   ]
  },
  {
   "cell_type": "markdown",
   "metadata": {},
   "source": [
    "Wir fügen nun die Variablen für den Fehler hinzu.\n",
    "Um beliebig viele Variablen zu erzeugen, nutzt man am besten die list comprehension-Syntax in python.\n",
    "\n",
    "$\\epsilon_i\\geq 0, i=1,\\ldots N$"
   ]
  },
  {
   "cell_type": "code",
   "execution_count": 5,
   "metadata": {},
   "outputs": [],
   "source": [
    "eps=[m.add_var(lb=0) for i in range(N)]"
   ]
  },
  {
   "cell_type": "markdown",
   "metadata": {},
   "source": [
    "Als nächstes die Zielfunktion. Dafür nutzen wir den Summenoperator von mip.\n",
    "\n",
    "$\\min \\sum_{i=1}^N\\epsilon_i$"
   ]
  },
  {
   "cell_type": "code",
   "execution_count": 6,
   "metadata": {},
   "outputs": [],
   "source": [
    "m.objective=mip.minimize(mip.xsum(e for e in eps))"
   ]
  },
  {
   "cell_type": "markdown",
   "metadata": {},
   "source": [
    "Wir erzeugen die Nebenbedingungen:\n",
    "\n",
    "$\\epsilon_i\\geq ap_i+b-q_i$\n",
    "\n",
    "$\\epsilon_i\\geq -(ap_i+b-q_i)$"
   ]
  },
  {
   "cell_type": "code",
   "execution_count": 7,
   "metadata": {},
   "outputs": [],
   "source": [
    "for i in range(N):\n",
    "    m+= a*p[i]+b-q[i] <= eps[i]\n",
    "    m+= -(a*p[i]+b-q[i]) <= eps[i]"
   ]
  },
  {
   "cell_type": "markdown",
   "metadata": {},
   "source": [
    "Wir lösen das lineare Programm. Die Rückgabe zeigt an, dass das LP optimal gelöst wurde."
   ]
  },
  {
   "cell_type": "code",
   "execution_count": 8,
   "metadata": {},
   "outputs": [
    {
     "data": {
      "text/plain": [
       "<OptimizationStatus.OPTIMAL: 0>"
      ]
     },
     "execution_count": 8,
     "metadata": {},
     "output_type": "execute_result"
    }
   ],
   "source": [
    "m.optimize()"
   ]
  },
  {
   "cell_type": "markdown",
   "metadata": {},
   "source": [
    "Wir plotten nun noch einmal mit der gefitteten Gerade."
   ]
  },
  {
   "cell_type": "code",
   "execution_count": 9,
   "metadata": {},
   "outputs": [
    {
     "data": {
      "text/plain": [
       "[<matplotlib.lines.Line2D at 0x7f65e06cb730>]"
      ]
     },
     "execution_count": 9,
     "metadata": {},
     "output_type": "execute_result"
    },
    {
     "data": {
      "image/png": "[encoded data removed]",
      "text/plain": [
       "<Figure size 576x396 with 1 Axes>"
      ]
     },
     "metadata": {},
     "output_type": "display_data"
    }
   ],
   "source": [
    "plt.plot(p,q,'bo')\n",
    "x=np.linspace(0,1,100)     # np.linspace gibt hier 100 äquidistante Punkte zwischen 0 und 1 zurück\n",
    "# Wieder erhalten wir die optimalen Werte der Variablen, in dem wir ein \".x\" an die Variablen dranhängen\n",
    "# Damit wird die fit-Gerade durch a.x,b.x beschrieben\n",
    "plt.plot(x,a.x*x+b.x,'r-') # 'r-' Linienplot in rot"
   ]
  },
  {
   "cell_type": "code",
   "execution_count": 10,
   "metadata": {},
   "outputs": [
    {
     "name": "stdout",
     "output_type": "stream",
     "text": [
      "Wahre Werte: a=1.3, b=2\n",
      "fit: a=1.3249104496683912, b=2.0106089401805813\n"
     ]
    }
   ],
   "source": [
    "print(\"Wahre Werte: a={}, b={}\".format(A,B))\n",
    "print(\"fit: a={}, b={}\".format(a.x,b.x))"
   ]
  },
  {
   "cell_type": "markdown",
   "metadata": {},
   "source": [
    "Man vergleiche dies mit den _wahren_ Werten A,B oben."
   ]
  }
 ],
 "metadata": {
  "kernelspec": {
   "display_name": "Python 3",
   "language": "python",
   "name": "python3"
  },
  "language_info": {
   "codemirror_mode": {
    "name": "ipython",
    "version": 3
   },
   "file_extension": ".py",
   "mimetype": "text/x-python",
   "name": "python",
   "nbconvert_exporter": "python",
   "pygments_lexer": "ipython3",
   "version": "3.8.6"
  }
 },
 "nbformat": 4,
 "nbformat_minor": 4
}
